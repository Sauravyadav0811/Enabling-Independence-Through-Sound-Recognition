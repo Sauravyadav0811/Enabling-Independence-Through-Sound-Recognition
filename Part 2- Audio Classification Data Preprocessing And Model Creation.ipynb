{
 "cells": [
  {
   "cell_type": "markdown",
   "id": "cardiovascular-study",
   "metadata": {},
   "source": [
    "#### Audio Classification Data Preprocessing"
   ]
  },
  {
   "cell_type": "code",
   "execution_count": 1,
   "id": "boxed-central",
   "metadata": {},
   "outputs": [],
   "source": [
    "### Let's read a sample audio using librosa\n",
    "import librosa\n",
    "audio_file_path='UrbanSound8K/audio/fold1/101415-3-0-2.wav'\n",
    "librosa_audio_data,librosa_sample_rate=librosa.load(audio_file_path)"
   ]
  },
  {
   "cell_type": "code",
   "execution_count": 2,
   "id": "e56569db",
   "metadata": {},
   "outputs": [
    {
     "name": "stdout",
     "output_type": "stream",
     "text": [
      "Defaulting to user installation because normal site-packages is not writeable\n",
      "Requirement already satisfied: librosa in c:\\users\\91773\\appdata\\roaming\\python\\python37\\site-packages (0.10.1)\n",
      "Requirement already satisfied: audioread>=2.1.9 in c:\\users\\91773\\appdata\\roaming\\python\\python37\\site-packages (from librosa) (3.0.0)\n",
      "Requirement already satisfied: numpy!=1.22.0,!=1.22.1,!=1.22.2,>=1.20.3 in c:\\users\\91773\\appdata\\roaming\\python\\python37\\site-packages (from librosa) (1.21.6)\n",
      "Requirement already satisfied: scipy>=1.2.0 in c:\\users\\91773\\appdata\\roaming\\python\\python37\\site-packages (from librosa) (1.7.3)\n",
      "Requirement already satisfied: scikit-learn>=0.20.0 in c:\\users\\91773\\appdata\\roaming\\python\\python37\\site-packages (from librosa) (1.0.2)\n",
      "Requirement already satisfied: joblib>=0.14 in c:\\users\\91773\\appdata\\roaming\\python\\python37\\site-packages (from librosa) (1.2.0)\n",
      "Requirement already satisfied: decorator>=4.3.0 in c:\\users\\91773\\appdata\\roaming\\python\\python37\\site-packages (from librosa) (5.1.1)\n",
      "Requirement already satisfied: numba>=0.51.0 in c:\\users\\91773\\appdata\\roaming\\python\\python37\\site-packages (from librosa) (0.56.4)\n",
      "Requirement already satisfied: soundfile>=0.12.1 in c:\\users\\91773\\appdata\\roaming\\python\\python37\\site-packages (from librosa) (0.12.1)\n",
      "Requirement already satisfied: pooch>=1.0 in c:\\users\\91773\\appdata\\roaming\\python\\python37\\site-packages (from librosa) (1.7.0)\n",
      "Requirement already satisfied: soxr>=0.3.2 in c:\\users\\91773\\appdata\\roaming\\python\\python37\\site-packages (from librosa) (0.3.6)\n",
      "Requirement already satisfied: typing-extensions>=4.1.1 in c:\\users\\91773\\appdata\\roaming\\python\\python37\\site-packages (from librosa) (4.7.1)\n",
      "Requirement already satisfied: lazy-loader>=0.1 in c:\\users\\91773\\appdata\\roaming\\python\\python37\\site-packages (from librosa) (0.3)\n",
      "Requirement already satisfied: msgpack>=1.0 in c:\\users\\91773\\appdata\\roaming\\python\\python37\\site-packages (from librosa) (1.0.5)\n",
      "Requirement already satisfied: llvmlite<0.40,>=0.39.0dev0 in c:\\users\\91773\\appdata\\roaming\\python\\python37\\site-packages (from numba>=0.51.0->librosa) (0.39.1)\n",
      "Requirement already satisfied: setuptools in c:\\program files\\python37\\lib\\site-packages (from numba>=0.51.0->librosa) (47.1.0)\n",
      "Requirement already satisfied: importlib-metadata in c:\\users\\91773\\appdata\\roaming\\python\\python37\\site-packages (from numba>=0.51.0->librosa) (6.0.0)\n",
      "Requirement already satisfied: platformdirs>=2.5.0 in c:\\users\\91773\\appdata\\roaming\\python\\python37\\site-packages (from pooch>=1.0->librosa) (3.10.0)\n",
      "Requirement already satisfied: packaging>=20.0 in c:\\users\\91773\\appdata\\roaming\\python\\python37\\site-packages (from pooch>=1.0->librosa) (23.0)\n",
      "Requirement already satisfied: requests>=2.19.0 in c:\\users\\91773\\appdata\\roaming\\python\\python37\\site-packages (from pooch>=1.0->librosa) (2.28.0)\n",
      "Requirement already satisfied: threadpoolctl>=2.0.0 in c:\\users\\91773\\appdata\\roaming\\python\\python37\\site-packages (from scikit-learn>=0.20.0->librosa) (3.1.0)\n",
      "Requirement already satisfied: cffi>=1.0 in c:\\users\\91773\\appdata\\roaming\\python\\python37\\site-packages (from soundfile>=0.12.1->librosa) (1.15.1)\n",
      "Requirement already satisfied: pycparser in c:\\users\\91773\\appdata\\roaming\\python\\python37\\site-packages (from cffi>=1.0->soundfile>=0.12.1->librosa) (2.21)\n",
      "Requirement already satisfied: charset-normalizer~=2.0.0 in c:\\users\\91773\\appdata\\roaming\\python\\python37\\site-packages (from requests>=2.19.0->pooch>=1.0->librosa) (2.0.12)\n",
      "Requirement already satisfied: idna<4,>=2.5 in c:\\users\\91773\\appdata\\roaming\\python\\python37\\site-packages (from requests>=2.19.0->pooch>=1.0->librosa) (3.4)\n",
      "Requirement already satisfied: urllib3<1.27,>=1.21.1 in c:\\users\\91773\\appdata\\roaming\\python\\python37\\site-packages (from requests>=2.19.0->pooch>=1.0->librosa) (1.26.15)\n",
      "Requirement already satisfied: certifi>=2017.4.17 in c:\\users\\91773\\appdata\\roaming\\python\\python37\\site-packages (from requests>=2.19.0->pooch>=1.0->librosa) (2022.12.7)\n",
      "Requirement already satisfied: zipp>=0.5 in c:\\users\\91773\\appdata\\roaming\\python\\python37\\site-packages (from importlib-metadata->numba>=0.51.0->librosa) (3.15.0)\n"
     ]
    },
    {
     "name": "stderr",
     "output_type": "stream",
     "text": [
      "WARNING: Ignoring invalid distribution -illow (c:\\users\\91773\\appdata\\roaming\\python\\python37\\site-packages)\n",
      "WARNING: Ignoring invalid distribution -illow (c:\\users\\91773\\appdata\\roaming\\python\\python37\\site-packages)\n",
      "WARNING: Ignoring invalid distribution -illow (c:\\users\\91773\\appdata\\roaming\\python\\python37\\site-packages)\n",
      "WARNING: Ignoring invalid distribution -illow (c:\\users\\91773\\appdata\\roaming\\python\\python37\\site-packages)\n"
     ]
    }
   ],
   "source": [
    "! pip install librosa"
   ]
  },
  {
   "cell_type": "code",
   "execution_count": 3,
   "id": "d1db8787",
   "metadata": {},
   "outputs": [
    {
     "name": "stdout",
     "output_type": "stream",
     "text": [
      "Defaulting to user installation because normal site-packages is not writeable\n",
      "Requirement already satisfied: librosa in c:\\users\\91773\\appdata\\roaming\\python\\python37\\site-packages (0.10.1)\n",
      "Requirement already satisfied: audioread>=2.1.9 in c:\\users\\91773\\appdata\\roaming\\python\\python37\\site-packages (from librosa) (3.0.0)\n",
      "Requirement already satisfied: numpy!=1.22.0,!=1.22.1,!=1.22.2,>=1.20.3 in c:\\users\\91773\\appdata\\roaming\\python\\python37\\site-packages (from librosa) (1.21.6)\n",
      "Requirement already satisfied: scipy>=1.2.0 in c:\\users\\91773\\appdata\\roaming\\python\\python37\\site-packages (from librosa) (1.7.3)\n",
      "Requirement already satisfied: scikit-learn>=0.20.0 in c:\\users\\91773\\appdata\\roaming\\python\\python37\\site-packages (from librosa) (1.0.2)\n",
      "Requirement already satisfied: joblib>=0.14 in c:\\users\\91773\\appdata\\roaming\\python\\python37\\site-packages (from librosa) (1.2.0)\n",
      "Requirement already satisfied: decorator>=4.3.0 in c:\\users\\91773\\appdata\\roaming\\python\\python37\\site-packages (from librosa) (5.1.1)\n",
      "Requirement already satisfied: numba>=0.51.0 in c:\\users\\91773\\appdata\\roaming\\python\\python37\\site-packages (from librosa) (0.56.4)\n",
      "Requirement already satisfied: soundfile>=0.12.1 in c:\\users\\91773\\appdata\\roaming\\python\\python37\\site-packages (from librosa) (0.12.1)\n",
      "Requirement already satisfied: pooch>=1.0 in c:\\users\\91773\\appdata\\roaming\\python\\python37\\site-packages (from librosa) (1.7.0)\n",
      "Requirement already satisfied: soxr>=0.3.2 in c:\\users\\91773\\appdata\\roaming\\python\\python37\\site-packages (from librosa) (0.3.6)\n",
      "Requirement already satisfied: typing-extensions>=4.1.1 in c:\\users\\91773\\appdata\\roaming\\python\\python37\\site-packages (from librosa) (4.7.1)\n",
      "Requirement already satisfied: lazy-loader>=0.1 in c:\\users\\91773\\appdata\\roaming\\python\\python37\\site-packages (from librosa) (0.3)\n",
      "Requirement already satisfied: msgpack>=1.0 in c:\\users\\91773\\appdata\\roaming\\python\\python37\\site-packages (from librosa) (1.0.5)\n",
      "Requirement already satisfied: llvmlite<0.40,>=0.39.0dev0 in c:\\users\\91773\\appdata\\roaming\\python\\python37\\site-packages (from numba>=0.51.0->librosa) (0.39.1)\n",
      "Requirement already satisfied: setuptools in c:\\program files\\python37\\lib\\site-packages (from numba>=0.51.0->librosa) (47.1.0)\n",
      "Requirement already satisfied: importlib-metadata in c:\\users\\91773\\appdata\\roaming\\python\\python37\\site-packages (from numba>=0.51.0->librosa) (6.0.0)\n",
      "Requirement already satisfied: platformdirs>=2.5.0 in c:\\users\\91773\\appdata\\roaming\\python\\python37\\site-packages (from pooch>=1.0->librosa) (3.10.0)\n",
      "Requirement already satisfied: packaging>=20.0 in c:\\users\\91773\\appdata\\roaming\\python\\python37\\site-packages (from pooch>=1.0->librosa) (23.0)\n",
      "Requirement already satisfied: requests>=2.19.0 in c:\\users\\91773\\appdata\\roaming\\python\\python37\\site-packages (from pooch>=1.0->librosa) (2.28.0)\n",
      "Requirement already satisfied: threadpoolctl>=2.0.0 in c:\\users\\91773\\appdata\\roaming\\python\\python37\\site-packages (from scikit-learn>=0.20.0->librosa) (3.1.0)\n",
      "Requirement already satisfied: cffi>=1.0 in c:\\users\\91773\\appdata\\roaming\\python\\python37\\site-packages (from soundfile>=0.12.1->librosa) (1.15.1)\n",
      "Requirement already satisfied: pycparser in c:\\users\\91773\\appdata\\roaming\\python\\python37\\site-packages (from cffi>=1.0->soundfile>=0.12.1->librosa) (2.21)\n",
      "Requirement already satisfied: charset-normalizer~=2.0.0 in c:\\users\\91773\\appdata\\roaming\\python\\python37\\site-packages (from requests>=2.19.0->pooch>=1.0->librosa) (2.0.12)\n",
      "Requirement already satisfied: idna<4,>=2.5 in c:\\users\\91773\\appdata\\roaming\\python\\python37\\site-packages (from requests>=2.19.0->pooch>=1.0->librosa) (3.4)\n",
      "Requirement already satisfied: urllib3<1.27,>=1.21.1 in c:\\users\\91773\\appdata\\roaming\\python\\python37\\site-packages (from requests>=2.19.0->pooch>=1.0->librosa) (1.26.15)\n",
      "Requirement already satisfied: certifi>=2017.4.17 in c:\\users\\91773\\appdata\\roaming\\python\\python37\\site-packages (from requests>=2.19.0->pooch>=1.0->librosa) (2022.12.7)\n",
      "Requirement already satisfied: zipp>=0.5 in c:\\users\\91773\\appdata\\roaming\\python\\python37\\site-packages (from importlib-metadata->numba>=0.51.0->librosa) (3.15.0)\n"
     ]
    },
    {
     "name": "stderr",
     "output_type": "stream",
     "text": [
      "WARNING: Ignoring invalid distribution -illow (c:\\users\\91773\\appdata\\roaming\\python\\python37\\site-packages)\n",
      "WARNING: Ignoring invalid distribution -illow (c:\\users\\91773\\appdata\\roaming\\python\\python37\\site-packages)\n",
      "WARNING: Ignoring invalid distribution -illow (c:\\users\\91773\\appdata\\roaming\\python\\python37\\site-packages)\n",
      "WARNING: Ignoring invalid distribution -illow (c:\\users\\91773\\appdata\\roaming\\python\\python37\\site-packages)\n"
     ]
    }
   ],
   "source": [
    "! pip install --upgrade librosa"
   ]
  },
  {
   "cell_type": "code",
   "execution_count": 4,
   "id": "variable-airline",
   "metadata": {},
   "outputs": [
    {
     "name": "stdout",
     "output_type": "stream",
     "text": [
      "[-0.00011485 -0.00017083 -0.00017736 ... -0.04609928 -0.04609471\n",
      " -0.05099387]\n"
     ]
    }
   ],
   "source": [
    "print(librosa_audio_data)"
   ]
  },
  {
   "cell_type": "code",
   "execution_count": 5,
   "id": "swedish-minute",
   "metadata": {},
   "outputs": [
    {
     "data": {
      "text/plain": [
       "[<matplotlib.lines.Line2D at 0x27754db9808>]"
      ]
     },
     "execution_count": 5,
     "metadata": {},
     "output_type": "execute_result"
    },
    {
     "data": {
      "image/png": "[encoded data removed]",
      "text/plain": [
       "<Figure size 1200x400 with 1 Axes>"
      ]
     },
     "metadata": {},
     "output_type": "display_data"
    }
   ],
   "source": [
    "### Lets plot the librosa audio data\n",
    "import matplotlib.pyplot as plt\n",
    "# Original audio with 1 channel \n",
    "plt.figure(figsize=(12, 4))\n",
    "plt.plot(librosa_audio_data)"
   ]
  },
  {
   "cell_type": "markdown",
   "id": "comparative-ontario",
   "metadata": {},
   "source": [
    "#### Observation\n",
    "Here Librosa converts the signal to mono, meaning the channel will alays be 1"
   ]
  },
  {
   "cell_type": "code",
   "execution_count": 6,
   "id": "norman-producer",
   "metadata": {},
   "outputs": [],
   "source": [
    "### Lets read with scipy\n",
    "#scipy will present the data as it is\n",
    "\n",
    "from scipy.io import wavfile as wav\n",
    "wave_sample_rate, wave_audio = wav.read(audio_file_path) "
   ]
  },
  {
   "cell_type": "code",
   "execution_count": 7,
   "id": "acting-functionality",
   "metadata": {},
   "outputs": [
    {
     "data": {
      "text/plain": [
       "array([   -5,    -5,    -6, ..., -1576, -1566, -1557], dtype=int16)"
      ]
     },
     "execution_count": 7,
     "metadata": {},
     "output_type": "execute_result"
    }
   ],
   "source": [
    "wave_audio\n"
   ]
  },
  {
   "cell_type": "code",
   "execution_count": 8,
   "id": "pressing-college",
   "metadata": {},
   "outputs": [
    {
     "data": {
      "text/plain": [
       "[<matplotlib.lines.Line2D at 0x2775729a7c8>]"
      ]
     },
     "execution_count": 8,
     "metadata": {},
     "output_type": "execute_result"
    },
    {
     "data": {
      "image/png": "[encoded data removed]",
      "text/plain": [
       "<Figure size 1200x400 with 1 Axes>"
      ]
     },
     "metadata": {},
     "output_type": "display_data"
    }
   ],
   "source": [
    "import matplotlib.pyplot as plt\n",
    "\n",
    "# Original audio with 2 channels \n",
    "plt.figure(figsize=(12, 4))\n",
    "plt.plot(wave_audio)"
   ]
  },
  {
   "cell_type": "markdown",
   "id": "applicable-priest",
   "metadata": {},
   "source": [
    "### Extract Features\n",
    "Here we will be using Mel-Frequency Cepstral Coefficients(MFCC) from the audio \n",
    "samples.\n",
    "The MFCC summarises the frequency distribution across the window size, so it is possible to analyse both the frequency and time characteristics of the sound. These audio representations will allow us to identify features for classification.\n",
    "\n",
    "\n",
    "\n",
    "The mel frequency cepstral coefficients (MFCCs) of a signal are a small set of features (usually about 10-20) which concisely describe the overall shape of a spectral envelope\n",
    "\n",
    "\n",
    "MFCC has the characteristics of high accuracy and stable recognition. At the same time, advantages of MFCC including high-fidelity representation and stable recognition"
   ]
  },
  {
   "cell_type": "code",
   "execution_count": 9,
   "id": "chinese-north",
   "metadata": {},
   "outputs": [
    {
     "name": "stdout",
     "output_type": "stream",
     "text": [
      "(40, 173)\n"
     ]
    }
   ],
   "source": [
    "mfccs = librosa.feature.mfcc(y=librosa_audio_data, sr=librosa_sample_rate, n_mfcc=40)\n",
    "print(mfccs.shape)"
   ]
  },
  {
   "cell_type": "code",
   "execution_count": 10,
   "id": "sporting-freeware",
   "metadata": {},
   "outputs": [
    {
     "data": {
      "text/plain": [
       "array([[-5.2506586e+02, -5.1955695e+02, -5.1864276e+02, ...,\n",
       "        -4.3568549e+02, -3.8558670e+02, -3.0779324e+02],\n",
       "       [ 9.1999226e+00,  1.6759441e+01,  1.8103909e+01, ...,\n",
       "         1.1375923e+02,  1.4776443e+02,  1.3558249e+02],\n",
       "       [ 8.8355560e+00,  1.5750109e+01,  1.7259296e+01, ...,\n",
       "         6.4274643e+01,  4.9179771e+01,  3.2849548e+01],\n",
       "       ...,\n",
       "       [ 4.3309483e-01, -3.5408895e+00, -4.8356495e+00, ...,\n",
       "        -5.2699118e+00, -1.2849241e-01,  7.5349283e-01],\n",
       "       [ 4.4520700e-01, -3.2774832e+00, -4.6472917e+00, ...,\n",
       "        -3.4224057e+00,  3.9007006e+00,  5.5314511e-01],\n",
       "       [ 3.5697129e-01, -2.9899054e+00, -4.4125957e+00, ...,\n",
       "        -2.6713324e+00,  2.7894549e+00,  1.4205611e-01]], dtype=float32)"
      ]
     },
     "execution_count": 10,
     "metadata": {},
     "output_type": "execute_result"
    }
   ],
   "source": [
    "mfccs"
   ]
  },
  {
   "cell_type": "code",
   "execution_count": 11,
   "id": "liberal-journalist",
   "metadata": {},
   "outputs": [
    {
     "data": {
      "text/html": [
       "<div>\n",
       "<style scoped>\n",
       "    .dataframe tbody tr th:only-of-type {\n",
       "        vertical-align: middle;\n",
       "    }\n",
       "\n",
       "    .dataframe tbody tr th {\n",
       "        vertical-align: top;\n",
       "    }\n",
       "\n",
       "    .dataframe thead th {\n",
       "        text-align: right;\n",
       "    }\n",
       "</style>\n",
       "<table border=\"1\" class=\"dataframe\">\n",
       "  <thead>\n",
       "    <tr style=\"text-align: right;\">\n",
       "      <th></th>\n",
       "      <th>slice_file_name</th>\n",
       "      <th>fsID</th>\n",
       "      <th>start</th>\n",
       "      <th>end</th>\n",
       "      <th>salience</th>\n",
       "      <th>fold</th>\n",
       "      <th>classID</th>\n",
       "      <th>class</th>\n",
       "    </tr>\n",
       "  </thead>\n",
       "  <tbody>\n",
       "    <tr>\n",
       "      <th>0</th>\n",
       "      <td>100032-3-0-0.wav</td>\n",
       "      <td>100032</td>\n",
       "      <td>0.000000</td>\n",
       "      <td>0.317551</td>\n",
       "      <td>1</td>\n",
       "      <td>5</td>\n",
       "      <td>3</td>\n",
       "      <td>dog_bark</td>\n",
       "    </tr>\n",
       "    <tr>\n",
       "      <th>1</th>\n",
       "      <td>100263-2-0-117.wav</td>\n",
       "      <td>100263</td>\n",
       "      <td>58.500000</td>\n",
       "      <td>62.500000</td>\n",
       "      <td>1</td>\n",
       "      <td>5</td>\n",
       "      <td>2</td>\n",
       "      <td>children_playing</td>\n",
       "    </tr>\n",
       "    <tr>\n",
       "      <th>2</th>\n",
       "      <td>100263-2-0-121.wav</td>\n",
       "      <td>100263</td>\n",
       "      <td>60.500000</td>\n",
       "      <td>64.500000</td>\n",
       "      <td>1</td>\n",
       "      <td>5</td>\n",
       "      <td>2</td>\n",
       "      <td>children_playing</td>\n",
       "    </tr>\n",
       "    <tr>\n",
       "      <th>3</th>\n",
       "      <td>100263-2-0-126.wav</td>\n",
       "      <td>100263</td>\n",
       "      <td>63.000000</td>\n",
       "      <td>67.000000</td>\n",
       "      <td>1</td>\n",
       "      <td>5</td>\n",
       "      <td>2</td>\n",
       "      <td>children_playing</td>\n",
       "    </tr>\n",
       "    <tr>\n",
       "      <th>4</th>\n",
       "      <td>100263-2-0-137.wav</td>\n",
       "      <td>100263</td>\n",
       "      <td>68.500000</td>\n",
       "      <td>72.500000</td>\n",
       "      <td>1</td>\n",
       "      <td>5</td>\n",
       "      <td>2</td>\n",
       "      <td>children_playing</td>\n",
       "    </tr>\n",
       "    <tr>\n",
       "      <th>...</th>\n",
       "      <td>...</td>\n",
       "      <td>...</td>\n",
       "      <td>...</td>\n",
       "      <td>...</td>\n",
       "      <td>...</td>\n",
       "      <td>...</td>\n",
       "      <td>...</td>\n",
       "      <td>...</td>\n",
       "    </tr>\n",
       "    <tr>\n",
       "      <th>8762</th>\n",
       "      <td>99830-1-3-0.wav</td>\n",
       "      <td>99830</td>\n",
       "      <td>0.840205</td>\n",
       "      <td>1.234051</td>\n",
       "      <td>1</td>\n",
       "      <td>11</td>\n",
       "      <td>13</td>\n",
       "      <td>Chirag</td>\n",
       "    </tr>\n",
       "    <tr>\n",
       "      <th>8763</th>\n",
       "      <td>99830-1-4-0.wav</td>\n",
       "      <td>99830</td>\n",
       "      <td>0.923241</td>\n",
       "      <td>1.351549</td>\n",
       "      <td>1</td>\n",
       "      <td>11</td>\n",
       "      <td>13</td>\n",
       "      <td>Chirag</td>\n",
       "    </tr>\n",
       "    <tr>\n",
       "      <th>8764</th>\n",
       "      <td>99830-1-5-0.wav</td>\n",
       "      <td>99830</td>\n",
       "      <td>0.696057</td>\n",
       "      <td>1.083077</td>\n",
       "      <td>1</td>\n",
       "      <td>11</td>\n",
       "      <td>13</td>\n",
       "      <td>Chirag</td>\n",
       "    </tr>\n",
       "    <tr>\n",
       "      <th>8765</th>\n",
       "      <td>99830-1-6-0.wav</td>\n",
       "      <td>99830</td>\n",
       "      <td>1.304943</td>\n",
       "      <td>1.607877</td>\n",
       "      <td>1</td>\n",
       "      <td>11</td>\n",
       "      <td>13</td>\n",
       "      <td>Chirag</td>\n",
       "    </tr>\n",
       "    <tr>\n",
       "      <th>8766</th>\n",
       "      <td>99830-1-7-0.wav</td>\n",
       "      <td>99830</td>\n",
       "      <td>1.037785</td>\n",
       "      <td>1.446203</td>\n",
       "      <td>1</td>\n",
       "      <td>11</td>\n",
       "      <td>13</td>\n",
       "      <td>Chirag</td>\n",
       "    </tr>\n",
       "  </tbody>\n",
       "</table>\n",
       "<p>8767 rows × 8 columns</p>\n",
       "</div>"
      ],
      "text/plain": [
       "         slice_file_name    fsID      start        end  salience  fold  \\\n",
       "0       100032-3-0-0.wav  100032   0.000000   0.317551         1     5   \n",
       "1     100263-2-0-117.wav  100263  58.500000  62.500000         1     5   \n",
       "2     100263-2-0-121.wav  100263  60.500000  64.500000         1     5   \n",
       "3     100263-2-0-126.wav  100263  63.000000  67.000000         1     5   \n",
       "4     100263-2-0-137.wav  100263  68.500000  72.500000         1     5   \n",
       "...                  ...     ...        ...        ...       ...   ...   \n",
       "8762     99830-1-3-0.wav   99830   0.840205   1.234051         1    11   \n",
       "8763     99830-1-4-0.wav   99830   0.923241   1.351549         1    11   \n",
       "8764     99830-1-5-0.wav   99830   0.696057   1.083077         1    11   \n",
       "8765     99830-1-6-0.wav   99830   1.304943   1.607877         1    11   \n",
       "8766     99830-1-7-0.wav   99830   1.037785   1.446203         1    11   \n",
       "\n",
       "      classID             class  \n",
       "0           3          dog_bark  \n",
       "1           2  children_playing  \n",
       "2           2  children_playing  \n",
       "3           2  children_playing  \n",
       "4           2  children_playing  \n",
       "...       ...               ...  \n",
       "8762       13            Chirag  \n",
       "8763       13            Chirag  \n",
       "8764       13            Chirag  \n",
       "8765       13            Chirag  \n",
       "8766       13            Chirag  \n",
       "\n",
       "[8767 rows x 8 columns]"
      ]
     },
     "execution_count": 11,
     "metadata": {},
     "output_type": "execute_result"
    }
   ],
   "source": [
    "#### Extracting MFCC's For every audio file\n",
    "import pandas as pd\n",
    "import os\n",
    "import librosa\n",
    "\n",
    "audio_dataset_path='UrbanSound8K/audio/'\n",
    "metadata=pd.read_csv('UrbanSound8K/metadata/UrbanSound8K.csv')\n",
    "metadata.head(8769)"
   ]
  },
  {
   "cell_type": "code",
   "execution_count": 12,
   "id": "95fac283",
   "metadata": {},
   "outputs": [
    {
     "name": "stdout",
     "output_type": "stream",
     "text": [
      "Defaulting to user installation because normal site-packages is not writeable\n",
      "Requirement already satisfied: numpy in c:\\users\\91773\\appdata\\roaming\\python\\python37\\site-packages (1.21.6)\n"
     ]
    },
    {
     "name": "stderr",
     "output_type": "stream",
     "text": [
      "WARNING: Ignoring invalid distribution -illow (c:\\users\\91773\\appdata\\roaming\\python\\python37\\site-packages)\n",
      "WARNING: Ignoring invalid distribution -illow (c:\\users\\91773\\appdata\\roaming\\python\\python37\\site-packages)\n",
      "WARNING: Ignoring invalid distribution -illow (c:\\users\\91773\\appdata\\roaming\\python\\python37\\site-packages)\n",
      "WARNING: Ignoring invalid distribution -illow (c:\\users\\91773\\appdata\\roaming\\python\\python37\\site-packages)\n"
     ]
    }
   ],
   "source": [
    "! pip install numpy"
   ]
  },
  {
   "cell_type": "code",
   "execution_count": 13,
   "id": "chinese-calendar",
   "metadata": {},
   "outputs": [],
   "source": [
    "import numpy as np\n",
    "def features_extractor(file):\n",
    "    audio, sample_rate = librosa.load(file_name, res_type='soxr_hq') \n",
    "    mfccs_features = librosa.feature.mfcc(y=audio, sr=sample_rate, n_mfcc=40)\n",
    "    mfccs_scaled_features = np.mean(mfccs_features.T,axis=0)\n",
    "    \n",
    "    return mfccs_scaled_features\n",
    "    "
   ]
  },
  {
   "cell_type": "code",
   "execution_count": 14,
   "id": "nuclear-sponsorship",
   "metadata": {},
   "outputs": [
    {
     "name": "stderr",
     "output_type": "stream",
     "text": [
      "0it [00:00, ?it/s]"
     ]
    },
    {
     "name": "stderr",
     "output_type": "stream",
     "text": [
      "3554it [01:09, 44.64it/s]C:\\Users\\91773\\AppData\\Roaming\\Python\\Python37\\site-packages\\librosa\\core\\spectrum.py:258: UserWarning: n_fft=2048 is too large for input signal of length=1323\n",
      "  f\"n_fft={n_fft} is too large for input signal of length={y.shape[-1]}\"\n",
      "8318it [02:29, 73.99it/s]C:\\Users\\91773\\AppData\\Roaming\\Python\\Python37\\site-packages\\librosa\\core\\spectrum.py:258: UserWarning: n_fft=2048 is too large for input signal of length=1103\n",
      "  f\"n_fft={n_fft} is too large for input signal of length={y.shape[-1]}\"\n",
      "8327it [02:29, 77.70it/s]C:\\Users\\91773\\AppData\\Roaming\\Python\\Python37\\site-packages\\librosa\\core\\spectrum.py:258: UserWarning: n_fft=2048 is too large for input signal of length=1523\n",
      "  f\"n_fft={n_fft} is too large for input signal of length={y.shape[-1]}\"\n",
      "8767it [02:36, 55.95it/s]\n"
     ]
    }
   ],
   "source": [
    "import numpy as np\n",
    "from tqdm import tqdm\n",
    "### Now we iterate through every audio file and extract features \n",
    "### using Mel-Frequency Cepstral Coefficients\n",
    "extracted_features=[]\n",
    "for index_num,row in tqdm(metadata.iterrows()):\n",
    "    file_name = os.path.join(os.path.abspath(audio_dataset_path),'fold'+str(row[\"fold\"])+'/',str(row[\"slice_file_name\"]))\n",
    "    final_class_labels=row[\"class\"]\n",
    "    data=features_extractor(file_name)\n",
    "    extracted_features.append([data,final_class_labels])"
   ]
  },
  {
   "cell_type": "code",
   "execution_count": 15,
   "id": "acoustic-wagner",
   "metadata": {},
   "outputs": [
    {
     "data": {
      "text/html": [
       "<div>\n",
       "<style scoped>\n",
       "    .dataframe tbody tr th:only-of-type {\n",
       "        vertical-align: middle;\n",
       "    }\n",
       "\n",
       "    .dataframe tbody tr th {\n",
       "        vertical-align: top;\n",
       "    }\n",
       "\n",
       "    .dataframe thead th {\n",
       "        text-align: right;\n",
       "    }\n",
       "</style>\n",
       "<table border=\"1\" class=\"dataframe\">\n",
       "  <thead>\n",
       "    <tr style=\"text-align: right;\">\n",
       "      <th></th>\n",
       "      <th>feature</th>\n",
       "      <th>class</th>\n",
       "    </tr>\n",
       "  </thead>\n",
       "  <tbody>\n",
       "    <tr>\n",
       "      <th>0</th>\n",
       "      <td>[-211.93698, 62.581203, -122.81315, -60.745293...</td>\n",
       "      <td>dog_bark</td>\n",
       "    </tr>\n",
       "    <tr>\n",
       "      <th>1</th>\n",
       "      <td>[-417.0052, 99.336624, -42.995586, 51.073326, ...</td>\n",
       "      <td>children_playing</td>\n",
       "    </tr>\n",
       "    <tr>\n",
       "      <th>2</th>\n",
       "      <td>[-452.39316, 112.36253, -37.578068, 43.195866,...</td>\n",
       "      <td>children_playing</td>\n",
       "    </tr>\n",
       "    <tr>\n",
       "      <th>3</th>\n",
       "      <td>[-406.47922, 91.1966, -25.043556, 42.78452, 11...</td>\n",
       "      <td>children_playing</td>\n",
       "    </tr>\n",
       "    <tr>\n",
       "      <th>4</th>\n",
       "      <td>[-439.63873, 103.86224, -42.658787, 50.690277,...</td>\n",
       "      <td>children_playing</td>\n",
       "    </tr>\n",
       "  </tbody>\n",
       "</table>\n",
       "</div>"
      ],
      "text/plain": [
       "                                             feature             class\n",
       "0  [-211.93698, 62.581203, -122.81315, -60.745293...          dog_bark\n",
       "1  [-417.0052, 99.336624, -42.995586, 51.073326, ...  children_playing\n",
       "2  [-452.39316, 112.36253, -37.578068, 43.195866,...  children_playing\n",
       "3  [-406.47922, 91.1966, -25.043556, 42.78452, 11...  children_playing\n",
       "4  [-439.63873, 103.86224, -42.658787, 50.690277,...  children_playing"
      ]
     },
     "execution_count": 15,
     "metadata": {},
     "output_type": "execute_result"
    }
   ],
   "source": [
    "### converting extracted_features to Pandas dataframe\n",
    "extracted_features_df=pd.DataFrame(extracted_features,columns=['feature','class'])\n",
    "extracted_features_df.head()"
   ]
  },
  {
   "cell_type": "code",
   "execution_count": 16,
   "id": "characteristic-sudan",
   "metadata": {},
   "outputs": [],
   "source": [
    "### Split the dataset into independent and dependent dataset\n",
    "X=np.array(extracted_features_df['feature'].tolist())\n",
    "y=np.array(extracted_features_df['class'].tolist())"
   ]
  },
  {
   "cell_type": "code",
   "execution_count": 17,
   "id": "friendly-placement",
   "metadata": {},
   "outputs": [
    {
     "data": {
      "text/plain": [
       "(8767, 40)"
      ]
     },
     "execution_count": 17,
     "metadata": {},
     "output_type": "execute_result"
    }
   ],
   "source": [
    "X.shape"
   ]
  },
  {
   "cell_type": "code",
   "execution_count": 18,
   "id": "japanese-cheese",
   "metadata": {},
   "outputs": [
    {
     "data": {
      "text/plain": [
       "(8767,)"
      ]
     },
     "execution_count": 18,
     "metadata": {},
     "output_type": "execute_result"
    }
   ],
   "source": [
    "y.shape"
   ]
  },
  {
   "cell_type": "code",
   "execution_count": 19,
   "id": "b06ee2f7",
   "metadata": {},
   "outputs": [
    {
     "name": "stdout",
     "output_type": "stream",
     "text": [
      "Defaulting to user installation because normal site-packages is not writeable\n",
      "Requirement already satisfied: tensorflow in c:\\users\\91773\\appdata\\roaming\\python\\python37\\site-packages (2.11.0)\n",
      "Requirement already satisfied: tensorflow-intel==2.11.0 in c:\\users\\91773\\appdata\\roaming\\python\\python37\\site-packages (from tensorflow) (2.11.0)\n",
      "Requirement already satisfied: absl-py>=1.0.0 in c:\\users\\91773\\appdata\\roaming\\python\\python37\\site-packages (from tensorflow-intel==2.11.0->tensorflow) (1.4.0)\n",
      "Requirement already satisfied: astunparse>=1.6.0 in c:\\users\\91773\\appdata\\roaming\\python\\python37\\site-packages (from tensorflow-intel==2.11.0->tensorflow) (1.6.3)\n",
      "Requirement already satisfied: flatbuffers>=2.0 in c:\\users\\91773\\appdata\\roaming\\python\\python37\\site-packages (from tensorflow-intel==2.11.0->tensorflow) (23.3.3)\n",
      "Requirement already satisfied: gast<=0.4.0,>=0.2.1 in c:\\users\\91773\\appdata\\roaming\\python\\python37\\site-packages (from tensorflow-intel==2.11.0->tensorflow) (0.4.0)\n",
      "Requirement already satisfied: google-pasta>=0.1.1 in c:\\users\\91773\\appdata\\roaming\\python\\python37\\site-packages (from tensorflow-intel==2.11.0->tensorflow) (0.2.0)\n",
      "Requirement already satisfied: h5py>=2.9.0 in c:\\users\\91773\\appdata\\roaming\\python\\python37\\site-packages (from tensorflow-intel==2.11.0->tensorflow) (3.8.0)\n",
      "Requirement already satisfied: libclang>=13.0.0 in c:\\users\\91773\\appdata\\roaming\\python\\python37\\site-packages (from tensorflow-intel==2.11.0->tensorflow) (15.0.6.1)\n",
      "Requirement already satisfied: numpy>=1.20 in c:\\users\\91773\\appdata\\roaming\\python\\python37\\site-packages (from tensorflow-intel==2.11.0->tensorflow) (1.21.6)\n",
      "Requirement already satisfied: opt-einsum>=2.3.2 in c:\\users\\91773\\appdata\\roaming\\python\\python37\\site-packages (from tensorflow-intel==2.11.0->tensorflow) (3.3.0)\n",
      "Requirement already satisfied: packaging in c:\\users\\91773\\appdata\\roaming\\python\\python37\\site-packages (from tensorflow-intel==2.11.0->tensorflow) (23.0)\n",
      "Requirement already satisfied: protobuf<3.20,>=3.9.2 in c:\\users\\91773\\appdata\\roaming\\python\\python37\\site-packages (from tensorflow-intel==2.11.0->tensorflow) (3.19.6)\n",
      "Requirement already satisfied: setuptools in c:\\program files\\python37\\lib\\site-packages (from tensorflow-intel==2.11.0->tensorflow) (47.1.0)\n",
      "Requirement already satisfied: six>=1.12.0 in c:\\users\\91773\\appdata\\roaming\\python\\python37\\site-packages (from tensorflow-intel==2.11.0->tensorflow) (1.16.0)\n",
      "Requirement already satisfied: termcolor>=1.1.0 in c:\\users\\91773\\appdata\\roaming\\python\\python37\\site-packages (from tensorflow-intel==2.11.0->tensorflow) (2.2.0)\n",
      "Requirement already satisfied: typing-extensions>=3.6.6 in c:\\users\\91773\\appdata\\roaming\\python\\python37\\site-packages (from tensorflow-intel==2.11.0->tensorflow) (4.7.1)\n",
      "Requirement already satisfied: wrapt>=1.11.0 in c:\\users\\91773\\appdata\\roaming\\python\\python37\\site-packages (from tensorflow-intel==2.11.0->tensorflow) (1.15.0)\n",
      "Requirement already satisfied: grpcio<2.0,>=1.24.3 in c:\\users\\91773\\appdata\\roaming\\python\\python37\\site-packages (from tensorflow-intel==2.11.0->tensorflow) (1.51.3)\n",
      "Requirement already satisfied: tensorboard<2.12,>=2.11 in c:\\users\\91773\\appdata\\roaming\\python\\python37\\site-packages (from tensorflow-intel==2.11.0->tensorflow) (2.11.2)\n",
      "Requirement already satisfied: tensorflow-estimator<2.12,>=2.11.0 in c:\\users\\91773\\appdata\\roaming\\python\\python37\\site-packages (from tensorflow-intel==2.11.0->tensorflow) (2.11.0)\n",
      "Requirement already satisfied: keras<2.12,>=2.11.0 in c:\\users\\91773\\appdata\\roaming\\python\\python37\\site-packages (from tensorflow-intel==2.11.0->tensorflow) (2.11.0)\n",
      "Requirement already satisfied: tensorflow-io-gcs-filesystem>=0.23.1 in c:\\users\\91773\\appdata\\roaming\\python\\python37\\site-packages (from tensorflow-intel==2.11.0->tensorflow) (0.31.0)\n",
      "Requirement already satisfied: wheel<1.0,>=0.23.0 in c:\\users\\91773\\appdata\\roaming\\python\\python37\\site-packages (from astunparse>=1.6.0->tensorflow-intel==2.11.0->tensorflow) (0.40.0)\n",
      "Requirement already satisfied: google-auth<3,>=1.6.3 in c:\\users\\91773\\appdata\\roaming\\python\\python37\\site-packages (from tensorboard<2.12,>=2.11->tensorflow-intel==2.11.0->tensorflow) (2.14.1)\n",
      "Requirement already satisfied: google-auth-oauthlib<0.5,>=0.4.1 in c:\\users\\91773\\appdata\\roaming\\python\\python37\\site-packages (from tensorboard<2.12,>=2.11->tensorflow-intel==2.11.0->tensorflow) (0.4.6)\n",
      "Requirement already satisfied: markdown>=2.6.8 in c:\\users\\91773\\appdata\\roaming\\python\\python37\\site-packages (from tensorboard<2.12,>=2.11->tensorflow-intel==2.11.0->tensorflow) (3.4.1)\n",
      "Requirement already satisfied: requests<3,>=2.21.0 in c:\\users\\91773\\appdata\\roaming\\python\\python37\\site-packages (from tensorboard<2.12,>=2.11->tensorflow-intel==2.11.0->tensorflow) (2.28.0)\n",
      "Requirement already satisfied: tensorboard-data-server<0.7.0,>=0.6.0 in c:\\users\\91773\\appdata\\roaming\\python\\python37\\site-packages (from tensorboard<2.12,>=2.11->tensorflow-intel==2.11.0->tensorflow) (0.6.1)\n",
      "Requirement already satisfied: tensorboard-plugin-wit>=1.6.0 in c:\\users\\91773\\appdata\\roaming\\python\\python37\\site-packages (from tensorboard<2.12,>=2.11->tensorflow-intel==2.11.0->tensorflow) (1.8.1)\n",
      "Requirement already satisfied: werkzeug>=1.0.1 in c:\\users\\91773\\appdata\\roaming\\python\\python37\\site-packages (from tensorboard<2.12,>=2.11->tensorflow-intel==2.11.0->tensorflow) (2.2.3)\n",
      "Requirement already satisfied: cachetools<6.0,>=2.0.0 in c:\\users\\91773\\appdata\\roaming\\python\\python37\\site-packages (from google-auth<3,>=1.6.3->tensorboard<2.12,>=2.11->tensorflow-intel==2.11.0->tensorflow) (5.3.0)\n",
      "Requirement already satisfied: pyasn1-modules>=0.2.1 in c:\\users\\91773\\appdata\\roaming\\python\\python37\\site-packages (from google-auth<3,>=1.6.3->tensorboard<2.12,>=2.11->tensorflow-intel==2.11.0->tensorflow) (0.2.8)\n",
      "Requirement already satisfied: rsa<5,>=3.1.4 in c:\\users\\91773\\appdata\\roaming\\python\\python37\\site-packages (from google-auth<3,>=1.6.3->tensorboard<2.12,>=2.11->tensorflow-intel==2.11.0->tensorflow) (4.9)\n",
      "Requirement already satisfied: requests-oauthlib>=0.7.0 in c:\\users\\91773\\appdata\\roaming\\python\\python37\\site-packages (from google-auth-oauthlib<0.5,>=0.4.1->tensorboard<2.12,>=2.11->tensorflow-intel==2.11.0->tensorflow) (1.3.1)\n",
      "Requirement already satisfied: importlib-metadata>=4.4 in c:\\users\\91773\\appdata\\roaming\\python\\python37\\site-packages (from markdown>=2.6.8->tensorboard<2.12,>=2.11->tensorflow-intel==2.11.0->tensorflow) (6.0.0)\n",
      "Requirement already satisfied: charset-normalizer~=2.0.0 in c:\\users\\91773\\appdata\\roaming\\python\\python37\\site-packages (from requests<3,>=2.21.0->tensorboard<2.12,>=2.11->tensorflow-intel==2.11.0->tensorflow) (2.0.12)\n",
      "Requirement already satisfied: idna<4,>=2.5 in c:\\users\\91773\\appdata\\roaming\\python\\python37\\site-packages (from requests<3,>=2.21.0->tensorboard<2.12,>=2.11->tensorflow-intel==2.11.0->tensorflow) (3.4)\n",
      "Requirement already satisfied: urllib3<1.27,>=1.21.1 in c:\\users\\91773\\appdata\\roaming\\python\\python37\\site-packages (from requests<3,>=2.21.0->tensorboard<2.12,>=2.11->tensorflow-intel==2.11.0->tensorflow) (1.26.15)\n",
      "Requirement already satisfied: certifi>=2017.4.17 in c:\\users\\91773\\appdata\\roaming\\python\\python37\\site-packages (from requests<3,>=2.21.0->tensorboard<2.12,>=2.11->tensorflow-intel==2.11.0->tensorflow) (2022.12.7)\n",
      "Requirement already satisfied: MarkupSafe>=2.1.1 in c:\\users\\91773\\appdata\\roaming\\python\\python37\\site-packages (from werkzeug>=1.0.1->tensorboard<2.12,>=2.11->tensorflow-intel==2.11.0->tensorflow) (2.1.2)\n",
      "Requirement already satisfied: zipp>=0.5 in c:\\users\\91773\\appdata\\roaming\\python\\python37\\site-packages (from importlib-metadata>=4.4->markdown>=2.6.8->tensorboard<2.12,>=2.11->tensorflow-intel==2.11.0->tensorflow) (3.15.0)\n",
      "Requirement already satisfied: pyasn1<0.5.0,>=0.4.6 in c:\\users\\91773\\appdata\\roaming\\python\\python37\\site-packages (from pyasn1-modules>=0.2.1->google-auth<3,>=1.6.3->tensorboard<2.12,>=2.11->tensorflow-intel==2.11.0->tensorflow) (0.4.8)\n",
      "Requirement already satisfied: oauthlib>=3.0.0 in c:\\users\\91773\\appdata\\roaming\\python\\python37\\site-packages (from requests-oauthlib>=0.7.0->google-auth-oauthlib<0.5,>=0.4.1->tensorboard<2.12,>=2.11->tensorflow-intel==2.11.0->tensorflow) (3.2.2)\n"
     ]
    },
    {
     "name": "stderr",
     "output_type": "stream",
     "text": [
      "WARNING: Ignoring invalid distribution -illow (c:\\users\\91773\\appdata\\roaming\\python\\python37\\site-packages)\n",
      "WARNING: Ignoring invalid distribution -illow (c:\\users\\91773\\appdata\\roaming\\python\\python37\\site-packages)\n",
      "WARNING: Ignoring invalid distribution -illow (c:\\users\\91773\\appdata\\roaming\\python\\python37\\site-packages)\n",
      "WARNING: Ignoring invalid distribution -illow (c:\\users\\91773\\appdata\\roaming\\python\\python37\\site-packages)\n"
     ]
    }
   ],
   "source": [
    "! pip install tensorflow"
   ]
  },
  {
   "cell_type": "code",
   "execution_count": 20,
   "id": "0531def8",
   "metadata": {},
   "outputs": [
    {
     "name": "stdout",
     "output_type": "stream",
     "text": [
      "2.11.0\n"
     ]
    }
   ],
   "source": [
    "import tensorflow  as tf\n",
    "print(tf.__version__)"
   ]
  },
  {
   "cell_type": "code",
   "execution_count": null,
   "id": "15ddddf5",
   "metadata": {},
   "outputs": [],
   "source": []
  },
  {
   "cell_type": "code",
   "execution_count": 21,
   "id": "wired-church",
   "metadata": {},
   "outputs": [],
   "source": [
    "### Label Encoding\n",
    "###y=np.array(pd.get_dummies(y))\n",
    "### Label Encoder\n",
    "from tensorflow.keras.utils import to_categorical\n",
    "from sklearn.preprocessing import LabelEncoder\n",
    "labelencoder=LabelEncoder()\n",
    "y=to_categorical(labelencoder.fit_transform(y))"
   ]
  },
  {
   "cell_type": "code",
   "execution_count": 22,
   "id": "sitting-anniversary",
   "metadata": {},
   "outputs": [
    {
     "data": {
      "text/plain": [
       "array([[0., 0., 0., ..., 0., 0., 0.],\n",
       "       [0., 0., 0., ..., 0., 0., 0.],\n",
       "       [0., 0., 0., ..., 0., 0., 0.],\n",
       "       ...,\n",
       "       [0., 1., 0., ..., 0., 0., 0.],\n",
       "       [0., 1., 0., ..., 0., 0., 0.],\n",
       "       [0., 1., 0., ..., 0., 0., 0.]], dtype=float32)"
      ]
     },
     "execution_count": 22,
     "metadata": {},
     "output_type": "execute_result"
    }
   ],
   "source": [
    "y"
   ]
  },
  {
   "cell_type": "code",
   "execution_count": 23,
   "id": "documentary-priority",
   "metadata": {},
   "outputs": [],
   "source": [
    "### Train Test Split\n",
    "from sklearn.model_selection import train_test_split\n",
    "X_train,X_test,y_train,y_test=train_test_split(X,y,test_size=0.2,random_state=0)"
   ]
  },
  {
   "cell_type": "code",
   "execution_count": 24,
   "id": "analyzed-payday",
   "metadata": {},
   "outputs": [
    {
     "data": {
      "text/plain": [
       "array([[-9.3053345e+01,  1.6973488e+01, -1.2441312e+01, ...,\n",
       "        -4.9348080e-01, -2.8408728e+00,  1.2920443e+00],\n",
       "       [-1.5447452e+02,  9.6937759e+01, -5.8436546e+01, ...,\n",
       "         6.6603833e-01,  2.8853950e-01, -1.3032816e-02],\n",
       "       [-7.1077324e+01,  2.6173710e+01, -2.8050711e+00, ...,\n",
       "         3.1510882e+00,  2.2291319e+00, -1.3275180e+00],\n",
       "       ...,\n",
       "       [-4.2665570e+02,  9.1551338e+01,  4.1917033e+00, ...,\n",
       "         9.7439998e-01,  5.1544541e-01,  9.1537476e-01],\n",
       "       [-1.3725197e+02,  1.2426854e+02, -2.1599773e+01, ...,\n",
       "         1.2500863e+00, -1.8957512e+00, -9.0149730e-01],\n",
       "       [-4.1838937e+02,  2.0686234e+02,  7.2346177e+00, ...,\n",
       "        -3.9861214e+00, -4.7178450e+00, -2.7892616e-01]], dtype=float32)"
      ]
     },
     "execution_count": 24,
     "metadata": {},
     "output_type": "execute_result"
    }
   ],
   "source": [
    "X_train"
   ]
  },
  {
   "cell_type": "code",
   "execution_count": 25,
   "id": "female-study",
   "metadata": {},
   "outputs": [
    {
     "data": {
      "text/plain": [
       "array([[0., 0., 0., ..., 0., 0., 0.],\n",
       "       [0., 0., 0., ..., 0., 0., 0.],\n",
       "       [0., 0., 0., ..., 0., 0., 0.],\n",
       "       ...,\n",
       "       [0., 1., 0., ..., 0., 0., 0.],\n",
       "       [0., 1., 0., ..., 0., 0., 0.],\n",
       "       [0., 1., 0., ..., 0., 0., 0.]], dtype=float32)"
      ]
     },
     "execution_count": 25,
     "metadata": {},
     "output_type": "execute_result"
    }
   ],
   "source": [
    "y"
   ]
  },
  {
   "cell_type": "code",
   "execution_count": 26,
   "id": "flexible-lithuania",
   "metadata": {},
   "outputs": [
    {
     "data": {
      "text/plain": [
       "(7013, 40)"
      ]
     },
     "execution_count": 26,
     "metadata": {},
     "output_type": "execute_result"
    }
   ],
   "source": [
    "X_train.shape"
   ]
  },
  {
   "cell_type": "code",
   "execution_count": 27,
   "id": "instrumental-equity",
   "metadata": {},
   "outputs": [
    {
     "data": {
      "text/plain": [
       "(1754, 40)"
      ]
     },
     "execution_count": 27,
     "metadata": {},
     "output_type": "execute_result"
    }
   ],
   "source": [
    "X_test.shape"
   ]
  },
  {
   "cell_type": "code",
   "execution_count": 28,
   "id": "chemical-vermont",
   "metadata": {},
   "outputs": [
    {
     "data": {
      "text/plain": [
       "(7013, 15)"
      ]
     },
     "execution_count": 28,
     "metadata": {},
     "output_type": "execute_result"
    }
   ],
   "source": [
    "y_train.shape"
   ]
  },
  {
   "cell_type": "code",
   "execution_count": 29,
   "id": "governing-natural",
   "metadata": {},
   "outputs": [
    {
     "data": {
      "text/plain": [
       "(1754, 15)"
      ]
     },
     "execution_count": 29,
     "metadata": {},
     "output_type": "execute_result"
    }
   ],
   "source": [
    "y_test.shape"
   ]
  },
  {
   "cell_type": "markdown",
   "id": "express-vessel",
   "metadata": {},
   "source": [
    "### Model Creation"
   ]
  },
  {
   "cell_type": "code",
   "execution_count": 30,
   "id": "loose-portugal",
   "metadata": {},
   "outputs": [
    {
     "name": "stdout",
     "output_type": "stream",
     "text": [
      "2.11.0\n"
     ]
    }
   ],
   "source": [
    "import tensorflow as tf\n",
    "print(tf.__version__)"
   ]
  },
  {
   "cell_type": "code",
   "execution_count": 31,
   "id": "indonesian-accessory",
   "metadata": {},
   "outputs": [],
   "source": [
    "from tensorflow.keras.models import Sequential\n",
    "from tensorflow.keras.layers import Dense,Dropout,Activation,Flatten\n",
    "from tensorflow.keras.optimizers import Adam\n",
    "from sklearn import metrics"
   ]
  },
  {
   "cell_type": "code",
   "execution_count": 32,
   "id": "valuable-substitute",
   "metadata": {},
   "outputs": [],
   "source": [
    "### No of classes\n",
    "num_labels=y.shape[1]"
   ]
  },
  {
   "cell_type": "code",
   "execution_count": 33,
   "id": "choice-contract",
   "metadata": {},
   "outputs": [
    {
     "data": {
      "text/plain": [
       "15"
      ]
     },
     "execution_count": 33,
     "metadata": {},
     "output_type": "execute_result"
    }
   ],
   "source": [
    "num_labels"
   ]
  },
  {
   "cell_type": "code",
   "execution_count": 34,
   "id": "found-outside",
   "metadata": {},
   "outputs": [],
   "source": [
    "model=Sequential()\n",
    "###first layer\n",
    "model.add(Dense(100,input_shape=(40,)))\n",
    "model.add(Activation('relu'))\n",
    "model.add(Dropout(0.5))\n",
    "###second layer\n",
    "model.add(Dense(200))\n",
    "model.add(Activation('relu'))\n",
    "model.add(Dropout(0.5))\n",
    "###third layer\n",
    "model.add(Dense(100))\n",
    "model.add(Activation('relu'))\n",
    "model.add(Dropout(0.5))\n",
    "\n",
    "###final layer\n",
    "model.add(Dense(num_labels))\n",
    "model.add(Activation('softmax'))"
   ]
  },
  {
   "cell_type": "code",
   "execution_count": 35,
   "id": "described-anaheim",
   "metadata": {},
   "outputs": [
    {
     "name": "stdout",
     "output_type": "stream",
     "text": [
      "Model: \"sequential\"\n",
      "_________________________________________________________________\n",
      " Layer (type)                Output Shape              Param #   \n",
      "=================================================================\n",
      " dense (Dense)               (None, 100)               4100      \n",
      "                                                                 \n",
      " activation (Activation)     (None, 100)               0         \n",
      "                                                                 \n",
      " dropout (Dropout)           (None, 100)               0         \n",
      "                                                                 \n",
      " dense_1 (Dense)             (None, 200)               20200     \n",
      "                                                                 \n",
      " activation_1 (Activation)   (None, 200)               0         \n",
      "                                                                 \n",
      " dropout_1 (Dropout)         (None, 200)               0         \n",
      "                                                                 \n",
      " dense_2 (Dense)             (None, 100)               20100     \n",
      "                                                                 \n",
      " activation_2 (Activation)   (None, 100)               0         \n",
      "                                                                 \n",
      " dropout_2 (Dropout)         (None, 100)               0         \n",
      "                                                                 \n",
      " dense_3 (Dense)             (None, 15)                1515      \n",
      "                                                                 \n",
      " activation_3 (Activation)   (None, 15)                0         \n",
      "                                                                 \n",
      "=================================================================\n",
      "Total params: 45,915\n",
      "Trainable params: 45,915\n",
      "Non-trainable params: 0\n",
      "_________________________________________________________________\n"
     ]
    }
   ],
   "source": [
    "model.summary()"
   ]
  },
  {
   "cell_type": "code",
   "execution_count": 36,
   "id": "radical-finding",
   "metadata": {},
   "outputs": [],
   "source": [
    "model.compile(loss='categorical_crossentropy',metrics=['accuracy'],optimizer='adam')"
   ]
  },
  {
   "cell_type": "code",
   "execution_count": 37,
   "id": "alpha-adapter",
   "metadata": {},
   "outputs": [
    {
     "name": "stdout",
     "output_type": "stream",
     "text": [
      "Epoch 1/100\n",
      "211/220 [===========================>..] - ETA: 0s - loss: 11.5630 - accuracy: 0.1096\n",
      "Epoch 1: val_loss improved from inf to 2.63439, saving model to saved_models\\audio_classification.hdf5\n",
      "220/220 [==============================] - 3s 5ms/step - loss: 11.2662 - accuracy: 0.1101 - val_loss: 2.6344 - val_accuracy: 0.1237\n",
      "Epoch 2/100\n",
      "209/220 [===========================>..] - ETA: 0s - loss: 2.8284 - accuracy: 0.1080\n",
      "Epoch 2: val_loss improved from 2.63439 to 2.54767, saving model to saved_models\\audio_classification.hdf5\n",
      "220/220 [==============================] - 1s 4ms/step - loss: 2.8183 - accuracy: 0.1072 - val_loss: 2.5477 - val_accuracy: 0.1180\n",
      "Epoch 3/100\n",
      "208/220 [===========================>..] - ETA: 0s - loss: 2.5693 - accuracy: 0.1172\n",
      "Epoch 3: val_loss improved from 2.54767 to 2.47536, saving model to saved_models\\audio_classification.hdf5\n",
      "220/220 [==============================] - 1s 4ms/step - loss: 2.5720 - accuracy: 0.1171 - val_loss: 2.4754 - val_accuracy: 0.1055\n",
      "Epoch 4/100\n",
      "220/220 [==============================] - ETA: 0s - loss: 2.4487 - accuracy: 0.1215\n",
      "Epoch 4: val_loss improved from 2.47536 to 2.28813, saving model to saved_models\\audio_classification.hdf5\n",
      "220/220 [==============================] - 1s 4ms/step - loss: 2.4487 - accuracy: 0.1215 - val_loss: 2.2881 - val_accuracy: 0.1431\n",
      "Epoch 5/100\n",
      "207/220 [===========================>..] - ETA: 0s - loss: 2.3877 - accuracy: 0.1209\n",
      "Epoch 5: val_loss improved from 2.28813 to 2.27049, saving model to saved_models\\audio_classification.hdf5\n",
      "220/220 [==============================] - 1s 4ms/step - loss: 2.3908 - accuracy: 0.1221 - val_loss: 2.2705 - val_accuracy: 0.1933\n",
      "Epoch 6/100\n",
      "211/220 [===========================>..] - ETA: 0s - loss: 2.3392 - accuracy: 0.1444\n",
      "Epoch 6: val_loss improved from 2.27049 to 2.23449, saving model to saved_models\\audio_classification.hdf5\n",
      "220/220 [==============================] - 1s 4ms/step - loss: 2.3391 - accuracy: 0.1442 - val_loss: 2.2345 - val_accuracy: 0.1921\n",
      "Epoch 7/100\n",
      "217/220 [============================>.] - ETA: 0s - loss: 2.3171 - accuracy: 0.1454\n",
      "Epoch 7: val_loss improved from 2.23449 to 2.20098, saving model to saved_models\\audio_classification.hdf5\n",
      "220/220 [==============================] - 1s 3ms/step - loss: 2.3172 - accuracy: 0.1450 - val_loss: 2.2010 - val_accuracy: 0.2206\n",
      "Epoch 8/100\n",
      "217/220 [============================>.] - ETA: 0s - loss: 2.2796 - accuracy: 0.1557\n",
      "Epoch 8: val_loss improved from 2.20098 to 2.18119, saving model to saved_models\\audio_classification.hdf5\n",
      "220/220 [==============================] - 1s 4ms/step - loss: 2.2820 - accuracy: 0.1554 - val_loss: 2.1812 - val_accuracy: 0.2127\n",
      "Epoch 9/100\n",
      "216/220 [============================>.] - ETA: 0s - loss: 2.2686 - accuracy: 0.1730\n",
      "Epoch 9: val_loss improved from 2.18119 to 2.13515, saving model to saved_models\\audio_classification.hdf5\n",
      "220/220 [==============================] - 1s 4ms/step - loss: 2.2678 - accuracy: 0.1728 - val_loss: 2.1352 - val_accuracy: 0.2680\n",
      "Epoch 10/100\n",
      "207/220 [===========================>..] - ETA: 0s - loss: 2.2153 - accuracy: 0.1712\n",
      "Epoch 10: val_loss improved from 2.13515 to 2.07337, saving model to saved_models\\audio_classification.hdf5\n",
      "220/220 [==============================] - 1s 3ms/step - loss: 2.2149 - accuracy: 0.1707 - val_loss: 2.0734 - val_accuracy: 0.2970\n",
      "Epoch 11/100\n",
      "205/220 [==========================>...] - ETA: 0s - loss: 2.1744 - accuracy: 0.1939\n",
      "Epoch 11: val_loss improved from 2.07337 to 1.99044, saving model to saved_models\\audio_classification.hdf5\n",
      "220/220 [==============================] - 1s 3ms/step - loss: 2.1676 - accuracy: 0.1961 - val_loss: 1.9904 - val_accuracy: 0.3027\n",
      "Epoch 12/100\n",
      "203/220 [==========================>...] - ETA: 0s - loss: 2.1060 - accuracy: 0.2158\n",
      "Epoch 12: val_loss improved from 1.99044 to 1.91399, saving model to saved_models\\audio_classification.hdf5\n",
      "220/220 [==============================] - 1s 4ms/step - loss: 2.1007 - accuracy: 0.2169 - val_loss: 1.9140 - val_accuracy: 0.3392\n",
      "Epoch 13/100\n",
      "215/220 [============================>.] - ETA: 0s - loss: 2.0400 - accuracy: 0.2442\n",
      "Epoch 13: val_loss improved from 1.91399 to 1.86297, saving model to saved_models\\audio_classification.hdf5\n",
      "220/220 [==============================] - 1s 4ms/step - loss: 2.0364 - accuracy: 0.2454 - val_loss: 1.8630 - val_accuracy: 0.3763\n",
      "Epoch 14/100\n",
      "219/220 [============================>.] - ETA: 0s - loss: 1.9670 - accuracy: 0.2898\n",
      "Epoch 14: val_loss improved from 1.86297 to 1.77457, saving model to saved_models\\audio_classification.hdf5\n",
      "220/220 [==============================] - 1s 4ms/step - loss: 1.9671 - accuracy: 0.2897 - val_loss: 1.7746 - val_accuracy: 0.3940\n",
      "Epoch 15/100\n",
      "208/220 [===========================>..] - ETA: 0s - loss: 1.8977 - accuracy: 0.3113\n",
      "Epoch 15: val_loss improved from 1.77457 to 1.70624, saving model to saved_models\\audio_classification.hdf5\n",
      "220/220 [==============================] - 1s 4ms/step - loss: 1.8947 - accuracy: 0.3127 - val_loss: 1.7062 - val_accuracy: 0.3854\n",
      "Epoch 16/100\n",
      "216/220 [============================>.] - ETA: 0s - loss: 1.8456 - accuracy: 0.3433\n",
      "Epoch 16: val_loss improved from 1.70624 to 1.67096, saving model to saved_models\\audio_classification.hdf5\n",
      "220/220 [==============================] - 1s 4ms/step - loss: 1.8468 - accuracy: 0.3436 - val_loss: 1.6710 - val_accuracy: 0.4304\n",
      "Epoch 17/100\n",
      "213/220 [============================>.] - ETA: 0s - loss: 1.7927 - accuracy: 0.3707\n",
      "Epoch 17: val_loss improved from 1.67096 to 1.59222, saving model to saved_models\\audio_classification.hdf5\n",
      "220/220 [==============================] - 1s 4ms/step - loss: 1.7918 - accuracy: 0.3705 - val_loss: 1.5922 - val_accuracy: 0.4544\n",
      "Epoch 18/100\n",
      "207/220 [===========================>..] - ETA: 0s - loss: 1.7439 - accuracy: 0.3776\n",
      "Epoch 18: val_loss improved from 1.59222 to 1.53451, saving model to saved_models\\audio_classification.hdf5\n",
      "220/220 [==============================] - 1s 4ms/step - loss: 1.7432 - accuracy: 0.3794 - val_loss: 1.5345 - val_accuracy: 0.4835\n",
      "Epoch 19/100\n",
      "214/220 [============================>.] - ETA: 0s - loss: 1.6948 - accuracy: 0.4067\n",
      "Epoch 19: val_loss improved from 1.53451 to 1.45595, saving model to saved_models\\audio_classification.hdf5\n",
      "220/220 [==============================] - 1s 4ms/step - loss: 1.6926 - accuracy: 0.4065 - val_loss: 1.4560 - val_accuracy: 0.5342\n",
      "Epoch 20/100\n",
      "212/220 [===========================>..] - ETA: 0s - loss: 1.6529 - accuracy: 0.4298\n",
      "Epoch 20: val_loss improved from 1.45595 to 1.44924, saving model to saved_models\\audio_classification.hdf5\n",
      "220/220 [==============================] - 1s 4ms/step - loss: 1.6506 - accuracy: 0.4303 - val_loss: 1.4492 - val_accuracy: 0.5205\n",
      "Epoch 21/100\n",
      "220/220 [==============================] - ETA: 0s - loss: 1.6099 - accuracy: 0.4490\n",
      "Epoch 21: val_loss improved from 1.44924 to 1.43527, saving model to saved_models\\audio_classification.hdf5\n",
      "220/220 [==============================] - 1s 3ms/step - loss: 1.6099 - accuracy: 0.4490 - val_loss: 1.4353 - val_accuracy: 0.5171\n",
      "Epoch 22/100\n",
      "205/220 [==========================>...] - ETA: 0s - loss: 1.5921 - accuracy: 0.4546\n",
      "Epoch 22: val_loss improved from 1.43527 to 1.41462, saving model to saved_models\\audio_classification.hdf5\n",
      "220/220 [==============================] - 1s 4ms/step - loss: 1.5937 - accuracy: 0.4544 - val_loss: 1.4146 - val_accuracy: 0.5428\n",
      "Epoch 23/100\n",
      "205/220 [==========================>...] - ETA: 0s - loss: 1.5215 - accuracy: 0.4773\n",
      "Epoch 23: val_loss improved from 1.41462 to 1.32023, saving model to saved_models\\audio_classification.hdf5\n",
      "220/220 [==============================] - 1s 4ms/step - loss: 1.5247 - accuracy: 0.4767 - val_loss: 1.3202 - val_accuracy: 0.5787\n",
      "Epoch 24/100\n",
      "216/220 [============================>.] - ETA: 0s - loss: 1.4937 - accuracy: 0.4906\n",
      "Epoch 24: val_loss improved from 1.32023 to 1.26572, saving model to saved_models\\audio_classification.hdf5\n",
      "220/220 [==============================] - 1s 4ms/step - loss: 1.4937 - accuracy: 0.4911 - val_loss: 1.2657 - val_accuracy: 0.6043\n",
      "Epoch 25/100\n",
      "217/220 [============================>.] - ETA: 0s - loss: 1.4800 - accuracy: 0.5010\n",
      "Epoch 25: val_loss did not improve from 1.26572\n",
      "220/220 [==============================] - 1s 3ms/step - loss: 1.4786 - accuracy: 0.5016 - val_loss: 1.2905 - val_accuracy: 0.5770\n",
      "Epoch 26/100\n",
      "208/220 [===========================>..] - ETA: 0s - loss: 1.4596 - accuracy: 0.5164\n",
      "Epoch 26: val_loss improved from 1.26572 to 1.25349, saving model to saved_models\\audio_classification.hdf5\n",
      "220/220 [==============================] - 1s 4ms/step - loss: 1.4653 - accuracy: 0.5148 - val_loss: 1.2535 - val_accuracy: 0.6060\n",
      "Epoch 27/100\n",
      "218/220 [============================>.] - ETA: 0s - loss: 1.4163 - accuracy: 0.5155\n",
      "Epoch 27: val_loss improved from 1.25349 to 1.21361, saving model to saved_models\\audio_classification.hdf5\n",
      "220/220 [==============================] - 1s 4ms/step - loss: 1.4168 - accuracy: 0.5158 - val_loss: 1.2136 - val_accuracy: 0.6089\n",
      "Epoch 28/100\n",
      "201/220 [==========================>...] - ETA: 0s - loss: 1.4037 - accuracy: 0.5305\n",
      "Epoch 28: val_loss improved from 1.21361 to 1.20176, saving model to saved_models\\audio_classification.hdf5\n",
      "220/220 [==============================] - 1s 4ms/step - loss: 1.4047 - accuracy: 0.5297 - val_loss: 1.2018 - val_accuracy: 0.6083\n",
      "Epoch 29/100\n",
      "215/220 [============================>.] - ETA: 0s - loss: 1.3928 - accuracy: 0.5390\n",
      "Epoch 29: val_loss improved from 1.20176 to 1.17655, saving model to saved_models\\audio_classification.hdf5\n",
      "220/220 [==============================] - 1s 4ms/step - loss: 1.3937 - accuracy: 0.5369 - val_loss: 1.1765 - val_accuracy: 0.6209\n",
      "Epoch 30/100\n",
      "209/220 [===========================>..] - ETA: 0s - loss: 1.3630 - accuracy: 0.5453\n",
      "Epoch 30: val_loss improved from 1.17655 to 1.16358, saving model to saved_models\\audio_classification.hdf5\n",
      "220/220 [==============================] - 1s 4ms/step - loss: 1.3657 - accuracy: 0.5440 - val_loss: 1.1636 - val_accuracy: 0.6254\n",
      "Epoch 31/100\n",
      "215/220 [============================>.] - ETA: 0s - loss: 1.3257 - accuracy: 0.5552\n",
      "Epoch 31: val_loss improved from 1.16358 to 1.14896, saving model to saved_models\\audio_classification.hdf5\n",
      "220/220 [==============================] - 1s 4ms/step - loss: 1.3277 - accuracy: 0.5544 - val_loss: 1.1490 - val_accuracy: 0.6180\n",
      "Epoch 32/100\n",
      "209/220 [===========================>..] - ETA: 0s - loss: 1.3386 - accuracy: 0.5465\n",
      "Epoch 32: val_loss improved from 1.14896 to 1.13789, saving model to saved_models\\audio_classification.hdf5\n",
      "220/220 [==============================] - 1s 4ms/step - loss: 1.3389 - accuracy: 0.5467 - val_loss: 1.1379 - val_accuracy: 0.6180\n",
      "Epoch 33/100\n",
      "215/220 [============================>.] - ETA: 0s - loss: 1.3152 - accuracy: 0.5645\n",
      "Epoch 33: val_loss improved from 1.13789 to 1.12832, saving model to saved_models\\audio_classification.hdf5\n",
      "220/220 [==============================] - 1s 4ms/step - loss: 1.3126 - accuracy: 0.5648 - val_loss: 1.1283 - val_accuracy: 0.6351\n",
      "Epoch 34/100\n",
      "212/220 [===========================>..] - ETA: 0s - loss: 1.2930 - accuracy: 0.5677\n",
      "Epoch 34: val_loss improved from 1.12832 to 1.07895, saving model to saved_models\\audio_classification.hdf5\n",
      "220/220 [==============================] - 1s 4ms/step - loss: 1.2938 - accuracy: 0.5671 - val_loss: 1.0789 - val_accuracy: 0.6454\n",
      "Epoch 35/100\n",
      "219/220 [============================>.] - ETA: 0s - loss: 1.2902 - accuracy: 0.5705\n",
      "Epoch 35: val_loss did not improve from 1.07895\n",
      "220/220 [==============================] - 1s 4ms/step - loss: 1.2898 - accuracy: 0.5707 - val_loss: 1.0882 - val_accuracy: 0.6306\n",
      "Epoch 36/100\n",
      "205/220 [==========================>...] - ETA: 0s - loss: 1.2663 - accuracy: 0.5796\n",
      "Epoch 36: val_loss did not improve from 1.07895\n",
      "220/220 [==============================] - 1s 3ms/step - loss: 1.2716 - accuracy: 0.5784 - val_loss: 1.0790 - val_accuracy: 0.6431\n",
      "Epoch 37/100\n",
      "209/220 [===========================>..] - ETA: 0s - loss: 1.2599 - accuracy: 0.5822\n",
      "Epoch 37: val_loss did not improve from 1.07895\n",
      "220/220 [==============================] - 1s 3ms/step - loss: 1.2639 - accuracy: 0.5804 - val_loss: 1.0841 - val_accuracy: 0.6300\n",
      "Epoch 38/100\n",
      "217/220 [============================>.] - ETA: 0s - loss: 1.2409 - accuracy: 0.5868\n",
      "Epoch 38: val_loss did not improve from 1.07895\n",
      "220/220 [==============================] - 1s 4ms/step - loss: 1.2393 - accuracy: 0.5875 - val_loss: 1.0819 - val_accuracy: 0.6357\n",
      "Epoch 39/100\n",
      "218/220 [============================>.] - ETA: 0s - loss: 1.2460 - accuracy: 0.5915\n",
      "Epoch 39: val_loss improved from 1.07895 to 1.04398, saving model to saved_models\\audio_classification.hdf5\n",
      "220/220 [==============================] - 1s 4ms/step - loss: 1.2457 - accuracy: 0.5918 - val_loss: 1.0440 - val_accuracy: 0.6568\n",
      "Epoch 40/100\n",
      "210/220 [===========================>..] - ETA: 0s - loss: 1.2176 - accuracy: 0.5912\n",
      "Epoch 40: val_loss did not improve from 1.04398\n",
      "220/220 [==============================] - 1s 3ms/step - loss: 1.2217 - accuracy: 0.5902 - val_loss: 1.0489 - val_accuracy: 0.6568\n",
      "Epoch 41/100\n",
      "210/220 [===========================>..] - ETA: 0s - loss: 1.2190 - accuracy: 0.6016\n",
      "Epoch 41: val_loss improved from 1.04398 to 1.02026, saving model to saved_models\\audio_classification.hdf5\n",
      "220/220 [==============================] - 1s 4ms/step - loss: 1.2177 - accuracy: 0.6032 - val_loss: 1.0203 - val_accuracy: 0.6693\n",
      "Epoch 42/100\n",
      "209/220 [===========================>..] - ETA: 0s - loss: 1.2236 - accuracy: 0.5978\n",
      "Epoch 42: val_loss improved from 1.02026 to 1.01674, saving model to saved_models\\audio_classification.hdf5\n",
      "220/220 [==============================] - 1s 4ms/step - loss: 1.2265 - accuracy: 0.5958 - val_loss: 1.0167 - val_accuracy: 0.6750\n",
      "Epoch 43/100\n",
      "207/220 [===========================>..] - ETA: 0s - loss: 1.2069 - accuracy: 0.6034\n",
      "Epoch 43: val_loss improved from 1.01674 to 1.00075, saving model to saved_models\\audio_classification.hdf5\n",
      "220/220 [==============================] - 1s 3ms/step - loss: 1.2047 - accuracy: 0.6022 - val_loss: 1.0008 - val_accuracy: 0.6779\n",
      "Epoch 44/100\n",
      "212/220 [===========================>..] - ETA: 0s - loss: 1.1962 - accuracy: 0.6005\n",
      "Epoch 44: val_loss improved from 1.00075 to 0.99612, saving model to saved_models\\audio_classification.hdf5\n",
      "220/220 [==============================] - 1s 4ms/step - loss: 1.2001 - accuracy: 0.5989 - val_loss: 0.9961 - val_accuracy: 0.6642\n",
      "Epoch 45/100\n",
      "207/220 [===========================>..] - ETA: 0s - loss: 1.1726 - accuracy: 0.6061\n",
      "Epoch 45: val_loss did not improve from 0.99612\n",
      "220/220 [==============================] - 1s 3ms/step - loss: 1.1771 - accuracy: 0.6052 - val_loss: 1.0159 - val_accuracy: 0.6665\n",
      "Epoch 46/100\n",
      "219/220 [============================>.] - ETA: 0s - loss: 1.1723 - accuracy: 0.6017\n",
      "Epoch 46: val_loss improved from 0.99612 to 0.98695, saving model to saved_models\\audio_classification.hdf5\n",
      "220/220 [==============================] - 1s 4ms/step - loss: 1.1724 - accuracy: 0.6016 - val_loss: 0.9870 - val_accuracy: 0.6773\n",
      "Epoch 47/100\n",
      "205/220 [==========================>...] - ETA: 0s - loss: 1.1609 - accuracy: 0.6064\n",
      "Epoch 47: val_loss improved from 0.98695 to 0.96759, saving model to saved_models\\audio_classification.hdf5\n",
      "220/220 [==============================] - 1s 3ms/step - loss: 1.1586 - accuracy: 0.6072 - val_loss: 0.9676 - val_accuracy: 0.6870\n",
      "Epoch 48/100\n",
      "212/220 [===========================>..] - ETA: 0s - loss: 1.1517 - accuracy: 0.6173\n",
      "Epoch 48: val_loss improved from 0.96759 to 0.96672, saving model to saved_models\\audio_classification.hdf5\n",
      "220/220 [==============================] - 1s 4ms/step - loss: 1.1504 - accuracy: 0.6181 - val_loss: 0.9667 - val_accuracy: 0.6813\n",
      "Epoch 49/100\n",
      "208/220 [===========================>..] - ETA: 0s - loss: 1.1522 - accuracy: 0.6116\n",
      "Epoch 49: val_loss improved from 0.96672 to 0.94179, saving model to saved_models\\audio_classification.hdf5\n",
      "220/220 [==============================] - 1s 3ms/step - loss: 1.1455 - accuracy: 0.6136 - val_loss: 0.9418 - val_accuracy: 0.6933\n",
      "Epoch 50/100\n",
      "215/220 [============================>.] - ETA: 0s - loss: 1.1517 - accuracy: 0.6150\n",
      "Epoch 50: val_loss did not improve from 0.94179\n",
      "220/220 [==============================] - 1s 3ms/step - loss: 1.1504 - accuracy: 0.6149 - val_loss: 0.9938 - val_accuracy: 0.6893\n",
      "Epoch 51/100\n",
      "217/220 [============================>.] - ETA: 0s - loss: 1.1447 - accuracy: 0.6181\n",
      "Epoch 51: val_loss improved from 0.94179 to 0.92984, saving model to saved_models\\audio_classification.hdf5\n",
      "220/220 [==============================] - 1s 3ms/step - loss: 1.1447 - accuracy: 0.6181 - val_loss: 0.9298 - val_accuracy: 0.7001\n",
      "Epoch 52/100\n",
      "211/220 [===========================>..] - ETA: 0s - loss: 1.1528 - accuracy: 0.6209\n",
      "Epoch 52: val_loss did not improve from 0.92984\n",
      "220/220 [==============================] - 1s 3ms/step - loss: 1.1498 - accuracy: 0.6214 - val_loss: 0.9541 - val_accuracy: 0.6899\n",
      "Epoch 53/100\n",
      "206/220 [===========================>..] - ETA: 0s - loss: 1.1083 - accuracy: 0.6212\n",
      "Epoch 53: val_loss improved from 0.92984 to 0.92881, saving model to saved_models\\audio_classification.hdf5\n",
      "220/220 [==============================] - 1s 3ms/step - loss: 1.1054 - accuracy: 0.6210 - val_loss: 0.9288 - val_accuracy: 0.7047\n",
      "Epoch 54/100\n",
      "216/220 [============================>.] - ETA: 0s - loss: 1.1298 - accuracy: 0.6201\n",
      "Epoch 54: val_loss did not improve from 0.92881\n",
      "220/220 [==============================] - 1s 4ms/step - loss: 1.1304 - accuracy: 0.6190 - val_loss: 0.9312 - val_accuracy: 0.7052\n",
      "Epoch 55/100\n",
      "207/220 [===========================>..] - ETA: 0s - loss: 1.1253 - accuracy: 0.6158\n",
      "Epoch 55: val_loss did not improve from 0.92881\n",
      "220/220 [==============================] - 1s 3ms/step - loss: 1.1268 - accuracy: 0.6159 - val_loss: 0.9319 - val_accuracy: 0.6973\n",
      "Epoch 56/100\n",
      "207/220 [===========================>..] - ETA: 0s - loss: 1.1145 - accuracy: 0.6324\n",
      "Epoch 56: val_loss did not improve from 0.92881\n",
      "220/220 [==============================] - 1s 3ms/step - loss: 1.1157 - accuracy: 0.6318 - val_loss: 0.9304 - val_accuracy: 0.7201\n",
      "Epoch 57/100\n",
      "216/220 [============================>.] - ETA: 0s - loss: 1.0938 - accuracy: 0.6363\n",
      "Epoch 57: val_loss improved from 0.92881 to 0.91678, saving model to saved_models\\audio_classification.hdf5\n",
      "220/220 [==============================] - 1s 4ms/step - loss: 1.0960 - accuracy: 0.6355 - val_loss: 0.9168 - val_accuracy: 0.7013\n",
      "Epoch 58/100\n",
      "213/220 [============================>.] - ETA: 0s - loss: 1.1154 - accuracy: 0.6325\n",
      "Epoch 58: val_loss did not improve from 0.91678\n",
      "220/220 [==============================] - 1s 3ms/step - loss: 1.1204 - accuracy: 0.6313 - val_loss: 0.9420 - val_accuracy: 0.7166\n",
      "Epoch 59/100\n",
      "216/220 [============================>.] - ETA: 0s - loss: 1.1120 - accuracy: 0.6302\n",
      "Epoch 59: val_loss did not improve from 0.91678\n",
      "220/220 [==============================] - 1s 3ms/step - loss: 1.1120 - accuracy: 0.6300 - val_loss: 0.9186 - val_accuracy: 0.7052\n",
      "Epoch 60/100\n",
      "207/220 [===========================>..] - ETA: 0s - loss: 1.1048 - accuracy: 0.6230\n",
      "Epoch 60: val_loss did not improve from 0.91678\n",
      "220/220 [==============================] - 1s 3ms/step - loss: 1.1010 - accuracy: 0.6250 - val_loss: 0.9348 - val_accuracy: 0.6916\n",
      "Epoch 61/100\n",
      "206/220 [===========================>..] - ETA: 0s - loss: 1.1026 - accuracy: 0.6355\n",
      "Epoch 61: val_loss improved from 0.91678 to 0.91450, saving model to saved_models\\audio_classification.hdf5\n",
      "220/220 [==============================] - 1s 4ms/step - loss: 1.0983 - accuracy: 0.6368 - val_loss: 0.9145 - val_accuracy: 0.7052\n",
      "Epoch 62/100\n",
      "219/220 [============================>.] - ETA: 0s - loss: 1.0745 - accuracy: 0.6436\n",
      "Epoch 62: val_loss improved from 0.91450 to 0.88905, saving model to saved_models\\audio_classification.hdf5\n",
      "220/220 [==============================] - 1s 3ms/step - loss: 1.0747 - accuracy: 0.6432 - val_loss: 0.8891 - val_accuracy: 0.6984\n",
      "Epoch 63/100\n",
      "215/220 [============================>.] - ETA: 0s - loss: 1.0953 - accuracy: 0.6390\n",
      "Epoch 63: val_loss did not improve from 0.88905\n",
      "220/220 [==============================] - 1s 3ms/step - loss: 1.0966 - accuracy: 0.6381 - val_loss: 0.8998 - val_accuracy: 0.7018\n",
      "Epoch 64/100\n",
      "215/220 [============================>.] - ETA: 0s - loss: 1.0830 - accuracy: 0.6432\n",
      "Epoch 64: val_loss did not improve from 0.88905\n",
      "220/220 [==============================] - 1s 3ms/step - loss: 1.0816 - accuracy: 0.6439 - val_loss: 0.9011 - val_accuracy: 0.7109\n",
      "Epoch 65/100\n",
      "209/220 [===========================>..] - ETA: 0s - loss: 1.0916 - accuracy: 0.6429\n",
      "Epoch 65: val_loss did not improve from 0.88905\n",
      "220/220 [==============================] - 1s 3ms/step - loss: 1.0897 - accuracy: 0.6428 - val_loss: 0.8998 - val_accuracy: 0.7030\n",
      "Epoch 66/100\n",
      "207/220 [===========================>..] - ETA: 0s - loss: 1.0514 - accuracy: 0.6434\n",
      "Epoch 66: val_loss improved from 0.88905 to 0.88455, saving model to saved_models\\audio_classification.hdf5\n",
      "220/220 [==============================] - 1s 3ms/step - loss: 1.0594 - accuracy: 0.6429 - val_loss: 0.8845 - val_accuracy: 0.7212\n",
      "Epoch 67/100\n",
      "201/220 [==========================>...] - ETA: 0s - loss: 1.0637 - accuracy: 0.6447\n",
      "Epoch 67: val_loss improved from 0.88455 to 0.88013, saving model to saved_models\\audio_classification.hdf5\n",
      "220/220 [==============================] - 1s 3ms/step - loss: 1.0582 - accuracy: 0.6461 - val_loss: 0.8801 - val_accuracy: 0.7218\n",
      "Epoch 68/100\n",
      "216/220 [============================>.] - ETA: 0s - loss: 1.0767 - accuracy: 0.6353\n",
      "Epoch 68: val_loss did not improve from 0.88013\n",
      "220/220 [==============================] - 1s 4ms/step - loss: 1.0731 - accuracy: 0.6365 - val_loss: 0.8855 - val_accuracy: 0.7155\n",
      "Epoch 69/100\n",
      "219/220 [============================>.] - ETA: 0s - loss: 1.0792 - accuracy: 0.6391\n",
      "Epoch 69: val_loss did not improve from 0.88013\n",
      "220/220 [==============================] - 1s 3ms/step - loss: 1.0798 - accuracy: 0.6390 - val_loss: 0.8903 - val_accuracy: 0.7189\n",
      "Epoch 70/100\n",
      "218/220 [============================>.] - ETA: 0s - loss: 1.0538 - accuracy: 0.6465\n",
      "Epoch 70: val_loss improved from 0.88013 to 0.87896, saving model to saved_models\\audio_classification.hdf5\n",
      "220/220 [==============================] - 1s 4ms/step - loss: 1.0524 - accuracy: 0.6467 - val_loss: 0.8790 - val_accuracy: 0.7338\n",
      "Epoch 71/100\n",
      "218/220 [============================>.] - ETA: 0s - loss: 1.0476 - accuracy: 0.6517\n",
      "Epoch 71: val_loss improved from 0.87896 to 0.87661, saving model to saved_models\\audio_classification.hdf5\n",
      "220/220 [==============================] - 1s 4ms/step - loss: 1.0470 - accuracy: 0.6518 - val_loss: 0.8766 - val_accuracy: 0.7252\n",
      "Epoch 72/100\n",
      "208/220 [===========================>..] - ETA: 0s - loss: 1.0634 - accuracy: 0.6450\n",
      "Epoch 72: val_loss improved from 0.87661 to 0.87233, saving model to saved_models\\audio_classification.hdf5\n",
      "220/220 [==============================] - 1s 4ms/step - loss: 1.0621 - accuracy: 0.6459 - val_loss: 0.8723 - val_accuracy: 0.7241\n",
      "Epoch 73/100\n",
      "214/220 [============================>.] - ETA: 0s - loss: 1.0466 - accuracy: 0.6472\n",
      "Epoch 73: val_loss improved from 0.87233 to 0.84965, saving model to saved_models\\audio_classification.hdf5\n",
      "220/220 [==============================] - 1s 4ms/step - loss: 1.0470 - accuracy: 0.6469 - val_loss: 0.8496 - val_accuracy: 0.7360\n",
      "Epoch 74/100\n",
      "215/220 [============================>.] - ETA: 0s - loss: 1.0345 - accuracy: 0.6522\n",
      "Epoch 74: val_loss did not improve from 0.84965\n",
      "220/220 [==============================] - 1s 3ms/step - loss: 1.0335 - accuracy: 0.6525 - val_loss: 0.8645 - val_accuracy: 0.7229\n",
      "Epoch 75/100\n",
      "205/220 [==========================>...] - ETA: 0s - loss: 1.0340 - accuracy: 0.6552\n",
      "Epoch 75: val_loss did not improve from 0.84965\n",
      "220/220 [==============================] - 1s 3ms/step - loss: 1.0307 - accuracy: 0.6554 - val_loss: 0.8783 - val_accuracy: 0.7155\n",
      "Epoch 76/100\n",
      "211/220 [===========================>..] - ETA: 0s - loss: 1.0662 - accuracy: 0.6530\n",
      "Epoch 76: val_loss did not improve from 0.84965\n",
      "220/220 [==============================] - 1s 4ms/step - loss: 1.0647 - accuracy: 0.6535 - val_loss: 0.8528 - val_accuracy: 0.7252\n",
      "Epoch 77/100\n",
      "207/220 [===========================>..] - ETA: 0s - loss: 1.0254 - accuracy: 0.6608\n",
      "Epoch 77: val_loss did not improve from 0.84965\n",
      "220/220 [==============================] - 1s 3ms/step - loss: 1.0264 - accuracy: 0.6606 - val_loss: 0.8748 - val_accuracy: 0.7178\n",
      "Epoch 78/100\n",
      "213/220 [============================>.] - ETA: 0s - loss: 1.0632 - accuracy: 0.6464\n",
      "Epoch 78: val_loss did not improve from 0.84965\n",
      "220/220 [==============================] - 1s 3ms/step - loss: 1.0662 - accuracy: 0.6459 - val_loss: 0.8546 - val_accuracy: 0.7292\n",
      "Epoch 79/100\n",
      "215/220 [============================>.] - ETA: 0s - loss: 1.0255 - accuracy: 0.6545\n",
      "Epoch 79: val_loss improved from 0.84965 to 0.84542, saving model to saved_models\\audio_classification.hdf5\n",
      "220/220 [==============================] - 1s 4ms/step - loss: 1.0223 - accuracy: 0.6561 - val_loss: 0.8454 - val_accuracy: 0.7127\n",
      "Epoch 80/100\n",
      "209/220 [===========================>..] - ETA: 0s - loss: 1.0269 - accuracy: 0.6612\n",
      "Epoch 80: val_loss did not improve from 0.84542\n",
      "220/220 [==============================] - 1s 3ms/step - loss: 1.0317 - accuracy: 0.6593 - val_loss: 0.8468 - val_accuracy: 0.7286\n",
      "Epoch 81/100\n",
      "206/220 [===========================>..] - ETA: 0s - loss: 1.0161 - accuracy: 0.6629\n",
      "Epoch 81: val_loss did not improve from 0.84542\n",
      "220/220 [==============================] - 1s 3ms/step - loss: 1.0170 - accuracy: 0.6625 - val_loss: 0.8600 - val_accuracy: 0.7383\n",
      "Epoch 82/100\n",
      "206/220 [===========================>..] - ETA: 0s - loss: 1.0209 - accuracy: 0.6582\n",
      "Epoch 82: val_loss did not improve from 0.84542\n",
      "220/220 [==============================] - 1s 4ms/step - loss: 1.0212 - accuracy: 0.6589 - val_loss: 0.8454 - val_accuracy: 0.7309\n",
      "Epoch 83/100\n",
      "215/220 [============================>.] - ETA: 0s - loss: 1.0196 - accuracy: 0.6606\n",
      "Epoch 83: val_loss did not improve from 0.84542\n",
      "220/220 [==============================] - 1s 3ms/step - loss: 1.0197 - accuracy: 0.6609 - val_loss: 0.8628 - val_accuracy: 0.7166\n",
      "Epoch 84/100\n",
      "214/220 [============================>.] - ETA: 0s - loss: 1.0396 - accuracy: 0.6491\n",
      "Epoch 84: val_loss improved from 0.84542 to 0.84216, saving model to saved_models\\audio_classification.hdf5\n",
      "220/220 [==============================] - 1s 4ms/step - loss: 1.0373 - accuracy: 0.6505 - val_loss: 0.8422 - val_accuracy: 0.7281\n",
      "Epoch 85/100\n",
      "210/220 [===========================>..] - ETA: 0s - loss: 1.0189 - accuracy: 0.6631\n",
      "Epoch 85: val_loss did not improve from 0.84216\n",
      "220/220 [==============================] - 1s 4ms/step - loss: 1.0135 - accuracy: 0.6639 - val_loss: 0.8590 - val_accuracy: 0.7355\n",
      "Epoch 86/100\n",
      "214/220 [============================>.] - ETA: 0s - loss: 1.0133 - accuracy: 0.6634\n",
      "Epoch 86: val_loss improved from 0.84216 to 0.83045, saving model to saved_models\\audio_classification.hdf5\n",
      "220/220 [==============================] - 1s 3ms/step - loss: 1.0118 - accuracy: 0.6641 - val_loss: 0.8304 - val_accuracy: 0.7412\n",
      "Epoch 87/100\n",
      "212/220 [===========================>..] - ETA: 0s - loss: 1.0227 - accuracy: 0.6738\n",
      "Epoch 87: val_loss did not improve from 0.83045\n",
      "220/220 [==============================] - 1s 3ms/step - loss: 1.0241 - accuracy: 0.6723 - val_loss: 0.8414 - val_accuracy: 0.7320\n",
      "Epoch 88/100\n",
      "208/220 [===========================>..] - ETA: 0s - loss: 1.0155 - accuracy: 0.6632\n",
      "Epoch 88: val_loss did not improve from 0.83045\n",
      "220/220 [==============================] - 1s 3ms/step - loss: 1.0165 - accuracy: 0.6641 - val_loss: 0.8317 - val_accuracy: 0.7389\n",
      "Epoch 89/100\n",
      "216/220 [============================>.] - ETA: 0s - loss: 1.0106 - accuracy: 0.6641\n",
      "Epoch 89: val_loss did not improve from 0.83045\n",
      "220/220 [==============================] - 1s 3ms/step - loss: 1.0107 - accuracy: 0.6639 - val_loss: 0.8470 - val_accuracy: 0.7235\n",
      "Epoch 90/100\n",
      "208/220 [===========================>..] - ETA: 0s - loss: 1.0107 - accuracy: 0.6591\n",
      "Epoch 90: val_loss did not improve from 0.83045\n",
      "220/220 [==============================] - 1s 3ms/step - loss: 1.0104 - accuracy: 0.6595 - val_loss: 0.8415 - val_accuracy: 0.7320\n",
      "Epoch 91/100\n",
      "209/220 [===========================>..] - ETA: 0s - loss: 1.0059 - accuracy: 0.6684\n",
      "Epoch 91: val_loss did not improve from 0.83045\n",
      "220/220 [==============================] - 1s 4ms/step - loss: 1.0099 - accuracy: 0.6685 - val_loss: 0.8382 - val_accuracy: 0.7281\n",
      "Epoch 92/100\n",
      "202/220 [==========================>...] - ETA: 0s - loss: 1.0306 - accuracy: 0.6624\n",
      "Epoch 92: val_loss improved from 0.83045 to 0.82897, saving model to saved_models\\audio_classification.hdf5\n",
      "220/220 [==============================] - 1s 4ms/step - loss: 1.0242 - accuracy: 0.6622 - val_loss: 0.8290 - val_accuracy: 0.7372\n",
      "Epoch 93/100\n",
      "219/220 [============================>.] - ETA: 0s - loss: 0.9957 - accuracy: 0.6682\n",
      "Epoch 93: val_loss improved from 0.82897 to 0.80629, saving model to saved_models\\audio_classification.hdf5\n",
      "220/220 [==============================] - 1s 3ms/step - loss: 0.9957 - accuracy: 0.6682 - val_loss: 0.8063 - val_accuracy: 0.7389\n",
      "Epoch 94/100\n",
      "211/220 [===========================>..] - ETA: 0s - loss: 0.9982 - accuracy: 0.6703\n",
      "Epoch 94: val_loss did not improve from 0.80629\n",
      "220/220 [==============================] - 1s 3ms/step - loss: 1.0016 - accuracy: 0.6690 - val_loss: 0.8385 - val_accuracy: 0.7303\n",
      "Epoch 95/100\n",
      "214/220 [============================>.] - ETA: 0s - loss: 1.0107 - accuracy: 0.6631\n",
      "Epoch 95: val_loss did not improve from 0.80629\n",
      "220/220 [==============================] - 1s 4ms/step - loss: 1.0087 - accuracy: 0.6638 - val_loss: 0.8259 - val_accuracy: 0.7395\n",
      "Epoch 96/100\n",
      "207/220 [===========================>..] - ETA: 0s - loss: 0.9912 - accuracy: 0.6724\n",
      "Epoch 96: val_loss did not improve from 0.80629\n",
      "220/220 [==============================] - 1s 3ms/step - loss: 0.9844 - accuracy: 0.6742 - val_loss: 0.8141 - val_accuracy: 0.7360\n",
      "Epoch 97/100\n",
      "205/220 [==========================>...] - ETA: 0s - loss: 0.9809 - accuracy: 0.6689\n",
      "Epoch 97: val_loss did not improve from 0.80629\n",
      "220/220 [==============================] - 1s 3ms/step - loss: 0.9788 - accuracy: 0.6689 - val_loss: 0.8077 - val_accuracy: 0.7292\n",
      "Epoch 98/100\n",
      "203/220 [==========================>...] - ETA: 0s - loss: 0.9912 - accuracy: 0.6703\n",
      "Epoch 98: val_loss improved from 0.80629 to 0.79903, saving model to saved_models\\audio_classification.hdf5\n",
      "220/220 [==============================] - 1s 4ms/step - loss: 0.9945 - accuracy: 0.6692 - val_loss: 0.7990 - val_accuracy: 0.7469\n",
      "Epoch 99/100\n",
      "211/220 [===========================>..] - ETA: 0s - loss: 0.9958 - accuracy: 0.6712\n",
      "Epoch 99: val_loss did not improve from 0.79903\n",
      "220/220 [==============================] - 1s 3ms/step - loss: 0.9946 - accuracy: 0.6720 - val_loss: 0.8329 - val_accuracy: 0.7377\n",
      "Epoch 100/100\n",
      "204/220 [==========================>...] - ETA: 0s - loss: 1.0028 - accuracy: 0.6618\n",
      "Epoch 100: val_loss did not improve from 0.79903\n",
      "220/220 [==============================] - 1s 3ms/step - loss: 1.0048 - accuracy: 0.6635 - val_loss: 0.8104 - val_accuracy: 0.7366\n",
      "Training completed in time:  0:01:19.400564\n"
     ]
    }
   ],
   "source": [
    "## Trianing my model\n",
    "from tensorflow.keras.callbacks import ModelCheckpoint\n",
    "from datetime import datetime \n",
    "\n",
    "num_epochs = 100\n",
    "num_batch_size = 32\n",
    "\n",
    "checkpointer = ModelCheckpoint(filepath='saved_models/audio_classification.hdf5', \n",
    "                               verbose=1, save_best_only=True)\n",
    "start = datetime.now()\n",
    "\n",
    "model.fit(X_train, y_train, batch_size=num_batch_size, epochs=num_epochs, validation_data=(X_test, y_test), callbacks=[checkpointer], verbose=1)\n",
    "\n",
    "\n",
    "duration = datetime.now() - start\n",
    "print(\"Training completed in time: \", duration)"
   ]
  },
  {
   "cell_type": "code",
   "execution_count": 38,
   "id": "243d2678",
   "metadata": {},
   "outputs": [
    {
     "name": "stdout",
     "output_type": "stream",
     "text": [
      "Testing hyperparameters: num_hidden_layers=1, units_per_layer=64, learning_rate=0.001, dropout_rate=0.3\n",
      "Test Accuracy: 0.8232611417770386, Time: 0:00:38.417470\n",
      "Testing hyperparameters: num_hidden_layers=1, units_per_layer=64, learning_rate=0.001, dropout_rate=0.5\n",
      "Test Accuracy: 0.7189281582832336, Time: 0:00:37.868934\n",
      "Testing hyperparameters: num_hidden_layers=1, units_per_layer=64, learning_rate=0.001, dropout_rate=0.7\n",
      "Test Accuracy: 0.5524515509605408, Time: 0:00:36.151352\n",
      "Testing hyperparameters: num_hidden_layers=1, units_per_layer=64, learning_rate=0.01, dropout_rate=0.3\n",
      "Test Accuracy: 0.5091220140457153, Time: 0:00:46.388547\n",
      "Testing hyperparameters: num_hidden_layers=1, units_per_layer=64, learning_rate=0.01, dropout_rate=0.5\n",
      "Test Accuracy: 0.3164196014404297, Time: 0:00:53.986126\n",
      "Testing hyperparameters: num_hidden_layers=1, units_per_layer=64, learning_rate=0.01, dropout_rate=0.7\n",
      "Test Accuracy: 0.10547320544719696, Time: 0:00:44.456009\n",
      "Testing hyperparameters: num_hidden_layers=1, units_per_layer=64, learning_rate=0.1, dropout_rate=0.3\n",
      "Test Accuracy: 0.11231470853090286, Time: 0:00:43.626214\n",
      "Testing hyperparameters: num_hidden_layers=1, units_per_layer=64, learning_rate=0.1, dropout_rate=0.5\n",
      "Test Accuracy: 0.11060433089733124, Time: 0:00:48.198659\n",
      "Testing hyperparameters: num_hidden_layers=1, units_per_layer=64, learning_rate=0.1, dropout_rate=0.7\n",
      "Test Accuracy: 0.11858608573675156, Time: 0:00:52.680543\n",
      "Testing hyperparameters: num_hidden_layers=1, units_per_layer=128, learning_rate=0.001, dropout_rate=0.3\n",
      "Test Accuracy: 0.8802736401557922, Time: 0:01:01.507058\n",
      "Testing hyperparameters: num_hidden_layers=1, units_per_layer=128, learning_rate=0.001, dropout_rate=0.5\n",
      "Test Accuracy: 0.8141391277313232, Time: 0:00:59.564928\n",
      "Testing hyperparameters: num_hidden_layers=1, units_per_layer=128, learning_rate=0.001, dropout_rate=0.7\n",
      "Test Accuracy: 0.648232638835907, Time: 0:01:01.300148\n",
      "Testing hyperparameters: num_hidden_layers=1, units_per_layer=128, learning_rate=0.01, dropout_rate=0.3\n",
      "Test Accuracy: 0.47662484645843506, Time: 0:00:53.520939\n",
      "Testing hyperparameters: num_hidden_layers=1, units_per_layer=128, learning_rate=0.01, dropout_rate=0.5\n",
      "Test Accuracy: 0.2360319197177887, Time: 0:00:53.360564\n",
      "Testing hyperparameters: num_hidden_layers=1, units_per_layer=128, learning_rate=0.01, dropout_rate=0.7\n",
      "Test Accuracy: 0.1413911134004593, Time: 0:00:53.357207\n",
      "Testing hyperparameters: num_hidden_layers=1, units_per_layer=128, learning_rate=0.1, dropout_rate=0.3\n",
      "Test Accuracy: 0.10319270193576813, Time: 0:01:03.478670\n",
      "Testing hyperparameters: num_hidden_layers=1, units_per_layer=128, learning_rate=0.1, dropout_rate=0.5\n",
      "Test Accuracy: 0.10319270193576813, Time: 0:01:14.590744\n",
      "Testing hyperparameters: num_hidden_layers=1, units_per_layer=128, learning_rate=0.1, dropout_rate=0.7\n",
      "Test Accuracy: 0.1220068410038948, Time: 0:01:07.024671\n",
      "Testing hyperparameters: num_hidden_layers=1, units_per_layer=256, learning_rate=0.001, dropout_rate=0.3\n",
      "Test Accuracy: 0.9156214594841003, Time: 0:01:32.268973\n",
      "Testing hyperparameters: num_hidden_layers=1, units_per_layer=256, learning_rate=0.001, dropout_rate=0.5\n"
     ]
    },
    {
     "ename": "KeyboardInterrupt",
     "evalue": "",
     "output_type": "error",
     "traceback": [
      "\u001b[1;31m---------------------------------------------------------------------------\u001b[0m",
      "\u001b[1;31mKeyboardInterrupt\u001b[0m                         Traceback (most recent call last)",
      "\u001b[1;32m~\\AppData\\Local\\Temp\\ipykernel_17332\\112485236.py\u001b[0m in \u001b[0;36m<module>\u001b[1;34m\u001b[0m\n\u001b[0;32m     52\u001b[0m                 \u001b[1;31m# Assuming you have X_train, y_train, X_test, y_test defined\u001b[0m\u001b[1;33m\u001b[0m\u001b[1;33m\u001b[0m\u001b[1;33m\u001b[0m\u001b[0m\n\u001b[0;32m     53\u001b[0m                 \u001b[0mstart\u001b[0m \u001b[1;33m=\u001b[0m \u001b[0mdatetime\u001b[0m\u001b[1;33m.\u001b[0m\u001b[0mnow\u001b[0m\u001b[1;33m(\u001b[0m\u001b[1;33m)\u001b[0m\u001b[1;33m\u001b[0m\u001b[1;33m\u001b[0m\u001b[0m\n\u001b[1;32m---> 54\u001b[1;33m                 \u001b[0mmodel\u001b[0m\u001b[1;33m.\u001b[0m\u001b[0mfit\u001b[0m\u001b[1;33m(\u001b[0m\u001b[0mX_train\u001b[0m\u001b[1;33m,\u001b[0m \u001b[0my_train\u001b[0m\u001b[1;33m,\u001b[0m \u001b[0mepochs\u001b[0m\u001b[1;33m=\u001b[0m\u001b[1;36m100\u001b[0m\u001b[1;33m,\u001b[0m \u001b[0mbatch_size\u001b[0m\u001b[1;33m=\u001b[0m\u001b[1;36m32\u001b[0m\u001b[1;33m,\u001b[0m \u001b[0mverbose\u001b[0m\u001b[1;33m=\u001b[0m\u001b[1;36m0\u001b[0m\u001b[1;33m)\u001b[0m\u001b[1;33m\u001b[0m\u001b[1;33m\u001b[0m\u001b[0m\n\u001b[0m\u001b[0;32m     55\u001b[0m                 \u001b[0mduration\u001b[0m \u001b[1;33m=\u001b[0m \u001b[0mdatetime\u001b[0m\u001b[1;33m.\u001b[0m\u001b[0mnow\u001b[0m\u001b[1;33m(\u001b[0m\u001b[1;33m)\u001b[0m \u001b[1;33m-\u001b[0m \u001b[0mstart\u001b[0m\u001b[1;33m\u001b[0m\u001b[1;33m\u001b[0m\u001b[0m\n\u001b[0;32m     56\u001b[0m \u001b[1;33m\u001b[0m\u001b[0m\n",
      "\u001b[1;32m~\\AppData\\Roaming\\Python\\Python37\\site-packages\\keras\\utils\\traceback_utils.py\u001b[0m in \u001b[0;36merror_handler\u001b[1;34m(*args, **kwargs)\u001b[0m\n\u001b[0;32m     63\u001b[0m         \u001b[0mfiltered_tb\u001b[0m \u001b[1;33m=\u001b[0m \u001b[1;32mNone\u001b[0m\u001b[1;33m\u001b[0m\u001b[1;33m\u001b[0m\u001b[0m\n\u001b[0;32m     64\u001b[0m         \u001b[1;32mtry\u001b[0m\u001b[1;33m:\u001b[0m\u001b[1;33m\u001b[0m\u001b[1;33m\u001b[0m\u001b[0m\n\u001b[1;32m---> 65\u001b[1;33m             \u001b[1;32mreturn\u001b[0m \u001b[0mfn\u001b[0m\u001b[1;33m(\u001b[0m\u001b[1;33m*\u001b[0m\u001b[0margs\u001b[0m\u001b[1;33m,\u001b[0m \u001b[1;33m**\u001b[0m\u001b[0mkwargs\u001b[0m\u001b[1;33m)\u001b[0m\u001b[1;33m\u001b[0m\u001b[1;33m\u001b[0m\u001b[0m\n\u001b[0m\u001b[0;32m     66\u001b[0m         \u001b[1;32mexcept\u001b[0m \u001b[0mException\u001b[0m \u001b[1;32mas\u001b[0m \u001b[0me\u001b[0m\u001b[1;33m:\u001b[0m\u001b[1;33m\u001b[0m\u001b[1;33m\u001b[0m\u001b[0m\n\u001b[0;32m     67\u001b[0m             \u001b[0mfiltered_tb\u001b[0m \u001b[1;33m=\u001b[0m \u001b[0m_process_traceback_frames\u001b[0m\u001b[1;33m(\u001b[0m\u001b[0me\u001b[0m\u001b[1;33m.\u001b[0m\u001b[0m__traceback__\u001b[0m\u001b[1;33m)\u001b[0m\u001b[1;33m\u001b[0m\u001b[1;33m\u001b[0m\u001b[0m\n",
      "\u001b[1;32m~\\AppData\\Roaming\\Python\\Python37\\site-packages\\keras\\engine\\training.py\u001b[0m in \u001b[0;36mfit\u001b[1;34m(self, x, y, batch_size, epochs, verbose, callbacks, validation_split, validation_data, shuffle, class_weight, sample_weight, initial_epoch, steps_per_epoch, validation_steps, validation_batch_size, validation_freq, max_queue_size, workers, use_multiprocessing)\u001b[0m\n\u001b[0;32m   1648\u001b[0m                         ):\n\u001b[0;32m   1649\u001b[0m                             \u001b[0mcallbacks\u001b[0m\u001b[1;33m.\u001b[0m\u001b[0mon_train_batch_begin\u001b[0m\u001b[1;33m(\u001b[0m\u001b[0mstep\u001b[0m\u001b[1;33m)\u001b[0m\u001b[1;33m\u001b[0m\u001b[1;33m\u001b[0m\u001b[0m\n\u001b[1;32m-> 1650\u001b[1;33m                             \u001b[0mtmp_logs\u001b[0m \u001b[1;33m=\u001b[0m \u001b[0mself\u001b[0m\u001b[1;33m.\u001b[0m\u001b[0mtrain_function\u001b[0m\u001b[1;33m(\u001b[0m\u001b[0miterator\u001b[0m\u001b[1;33m)\u001b[0m\u001b[1;33m\u001b[0m\u001b[1;33m\u001b[0m\u001b[0m\n\u001b[0m\u001b[0;32m   1651\u001b[0m                             \u001b[1;32mif\u001b[0m \u001b[0mdata_handler\u001b[0m\u001b[1;33m.\u001b[0m\u001b[0mshould_sync\u001b[0m\u001b[1;33m:\u001b[0m\u001b[1;33m\u001b[0m\u001b[1;33m\u001b[0m\u001b[0m\n\u001b[0;32m   1652\u001b[0m                                 \u001b[0mcontext\u001b[0m\u001b[1;33m.\u001b[0m\u001b[0masync_wait\u001b[0m\u001b[1;33m(\u001b[0m\u001b[1;33m)\u001b[0m\u001b[1;33m\u001b[0m\u001b[1;33m\u001b[0m\u001b[0m\n",
      "\u001b[1;32m~\\AppData\\Roaming\\Python\\Python37\\site-packages\\tensorflow\\python\\util\\traceback_utils.py\u001b[0m in \u001b[0;36merror_handler\u001b[1;34m(*args, **kwargs)\u001b[0m\n\u001b[0;32m    148\u001b[0m     \u001b[0mfiltered_tb\u001b[0m \u001b[1;33m=\u001b[0m \u001b[1;32mNone\u001b[0m\u001b[1;33m\u001b[0m\u001b[1;33m\u001b[0m\u001b[0m\n\u001b[0;32m    149\u001b[0m     \u001b[1;32mtry\u001b[0m\u001b[1;33m:\u001b[0m\u001b[1;33m\u001b[0m\u001b[1;33m\u001b[0m\u001b[0m\n\u001b[1;32m--> 150\u001b[1;33m       \u001b[1;32mreturn\u001b[0m \u001b[0mfn\u001b[0m\u001b[1;33m(\u001b[0m\u001b[1;33m*\u001b[0m\u001b[0margs\u001b[0m\u001b[1;33m,\u001b[0m \u001b[1;33m**\u001b[0m\u001b[0mkwargs\u001b[0m\u001b[1;33m)\u001b[0m\u001b[1;33m\u001b[0m\u001b[1;33m\u001b[0m\u001b[0m\n\u001b[0m\u001b[0;32m    151\u001b[0m     \u001b[1;32mexcept\u001b[0m \u001b[0mException\u001b[0m \u001b[1;32mas\u001b[0m \u001b[0me\u001b[0m\u001b[1;33m:\u001b[0m\u001b[1;33m\u001b[0m\u001b[1;33m\u001b[0m\u001b[0m\n\u001b[0;32m    152\u001b[0m       \u001b[0mfiltered_tb\u001b[0m \u001b[1;33m=\u001b[0m \u001b[0m_process_traceback_frames\u001b[0m\u001b[1;33m(\u001b[0m\u001b[0me\u001b[0m\u001b[1;33m.\u001b[0m\u001b[0m__traceback__\u001b[0m\u001b[1;33m)\u001b[0m\u001b[1;33m\u001b[0m\u001b[1;33m\u001b[0m\u001b[0m\n",
      "\u001b[1;32m~\\AppData\\Roaming\\Python\\Python37\\site-packages\\tensorflow\\python\\eager\\polymorphic_function\\polymorphic_function.py\u001b[0m in \u001b[0;36m__call__\u001b[1;34m(self, *args, **kwds)\u001b[0m\n\u001b[0;32m    878\u001b[0m \u001b[1;33m\u001b[0m\u001b[0m\n\u001b[0;32m    879\u001b[0m       \u001b[1;32mwith\u001b[0m \u001b[0mOptionalXlaContext\u001b[0m\u001b[1;33m(\u001b[0m\u001b[0mself\u001b[0m\u001b[1;33m.\u001b[0m\u001b[0m_jit_compile\u001b[0m\u001b[1;33m)\u001b[0m\u001b[1;33m:\u001b[0m\u001b[1;33m\u001b[0m\u001b[1;33m\u001b[0m\u001b[0m\n\u001b[1;32m--> 880\u001b[1;33m         \u001b[0mresult\u001b[0m \u001b[1;33m=\u001b[0m \u001b[0mself\u001b[0m\u001b[1;33m.\u001b[0m\u001b[0m_call\u001b[0m\u001b[1;33m(\u001b[0m\u001b[1;33m*\u001b[0m\u001b[0margs\u001b[0m\u001b[1;33m,\u001b[0m \u001b[1;33m**\u001b[0m\u001b[0mkwds\u001b[0m\u001b[1;33m)\u001b[0m\u001b[1;33m\u001b[0m\u001b[1;33m\u001b[0m\u001b[0m\n\u001b[0m\u001b[0;32m    881\u001b[0m \u001b[1;33m\u001b[0m\u001b[0m\n\u001b[0;32m    882\u001b[0m       \u001b[0mnew_tracing_count\u001b[0m \u001b[1;33m=\u001b[0m \u001b[0mself\u001b[0m\u001b[1;33m.\u001b[0m\u001b[0mexperimental_get_tracing_count\u001b[0m\u001b[1;33m(\u001b[0m\u001b[1;33m)\u001b[0m\u001b[1;33m\u001b[0m\u001b[1;33m\u001b[0m\u001b[0m\n",
      "\u001b[1;32m~\\AppData\\Roaming\\Python\\Python37\\site-packages\\tensorflow\\python\\eager\\polymorphic_function\\polymorphic_function.py\u001b[0m in \u001b[0;36m_call\u001b[1;34m(self, *args, **kwds)\u001b[0m\n\u001b[0;32m    910\u001b[0m       \u001b[1;31m# In this case we have created variables on the first call, so we run the\u001b[0m\u001b[1;33m\u001b[0m\u001b[1;33m\u001b[0m\u001b[1;33m\u001b[0m\u001b[0m\n\u001b[0;32m    911\u001b[0m       \u001b[1;31m# defunned version which is guaranteed to never create variables.\u001b[0m\u001b[1;33m\u001b[0m\u001b[1;33m\u001b[0m\u001b[1;33m\u001b[0m\u001b[0m\n\u001b[1;32m--> 912\u001b[1;33m       \u001b[1;32mreturn\u001b[0m \u001b[0mself\u001b[0m\u001b[1;33m.\u001b[0m\u001b[0m_no_variable_creation_fn\u001b[0m\u001b[1;33m(\u001b[0m\u001b[1;33m*\u001b[0m\u001b[0margs\u001b[0m\u001b[1;33m,\u001b[0m \u001b[1;33m**\u001b[0m\u001b[0mkwds\u001b[0m\u001b[1;33m)\u001b[0m  \u001b[1;31m# pylint: disable=not-callable\u001b[0m\u001b[1;33m\u001b[0m\u001b[1;33m\u001b[0m\u001b[0m\n\u001b[0m\u001b[0;32m    913\u001b[0m     \u001b[1;32melif\u001b[0m \u001b[0mself\u001b[0m\u001b[1;33m.\u001b[0m\u001b[0m_variable_creation_fn\u001b[0m \u001b[1;32mis\u001b[0m \u001b[1;32mnot\u001b[0m \u001b[1;32mNone\u001b[0m\u001b[1;33m:\u001b[0m\u001b[1;33m\u001b[0m\u001b[1;33m\u001b[0m\u001b[0m\n\u001b[0;32m    914\u001b[0m       \u001b[1;31m# Release the lock early so that multiple threads can perform the call\u001b[0m\u001b[1;33m\u001b[0m\u001b[1;33m\u001b[0m\u001b[1;33m\u001b[0m\u001b[0m\n",
      "\u001b[1;32m~\\AppData\\Roaming\\Python\\Python37\\site-packages\\tensorflow\\python\\eager\\polymorphic_function\\tracing_compiler.py\u001b[0m in \u001b[0;36m__call__\u001b[1;34m(self, *args, **kwargs)\u001b[0m\n\u001b[0;32m    133\u001b[0m        filtered_flat_args) = self._maybe_define_function(args, kwargs)\n\u001b[0;32m    134\u001b[0m     return concrete_function._call_flat(\n\u001b[1;32m--> 135\u001b[1;33m         filtered_flat_args, captured_inputs=concrete_function.captured_inputs)  # pylint: disable=protected-access\n\u001b[0m\u001b[0;32m    136\u001b[0m \u001b[1;33m\u001b[0m\u001b[0m\n\u001b[0;32m    137\u001b[0m   \u001b[1;33m@\u001b[0m\u001b[0mproperty\u001b[0m\u001b[1;33m\u001b[0m\u001b[1;33m\u001b[0m\u001b[0m\n",
      "\u001b[1;32m~\\AppData\\Roaming\\Python\\Python37\\site-packages\\tensorflow\\python\\eager\\polymorphic_function\\monomorphic_function.py\u001b[0m in \u001b[0;36m_call_flat\u001b[1;34m(self, args, captured_inputs, cancellation_manager)\u001b[0m\n\u001b[0;32m   1744\u001b[0m       \u001b[1;31m# No tape is watching; skip to running the function.\u001b[0m\u001b[1;33m\u001b[0m\u001b[1;33m\u001b[0m\u001b[1;33m\u001b[0m\u001b[0m\n\u001b[0;32m   1745\u001b[0m       return self._build_call_outputs(self._inference_function.call(\n\u001b[1;32m-> 1746\u001b[1;33m           ctx, args, cancellation_manager=cancellation_manager))\n\u001b[0m\u001b[0;32m   1747\u001b[0m     forward_backward = self._select_forward_and_backward_functions(\n\u001b[0;32m   1748\u001b[0m         \u001b[0margs\u001b[0m\u001b[1;33m,\u001b[0m\u001b[1;33m\u001b[0m\u001b[1;33m\u001b[0m\u001b[0m\n",
      "\u001b[1;32m~\\AppData\\Roaming\\Python\\Python37\\site-packages\\tensorflow\\python\\eager\\polymorphic_function\\monomorphic_function.py\u001b[0m in \u001b[0;36mcall\u001b[1;34m(self, ctx, args, cancellation_manager)\u001b[0m\n\u001b[0;32m    381\u001b[0m               \u001b[0minputs\u001b[0m\u001b[1;33m=\u001b[0m\u001b[0margs\u001b[0m\u001b[1;33m,\u001b[0m\u001b[1;33m\u001b[0m\u001b[1;33m\u001b[0m\u001b[0m\n\u001b[0;32m    382\u001b[0m               \u001b[0mattrs\u001b[0m\u001b[1;33m=\u001b[0m\u001b[0mattrs\u001b[0m\u001b[1;33m,\u001b[0m\u001b[1;33m\u001b[0m\u001b[1;33m\u001b[0m\u001b[0m\n\u001b[1;32m--> 383\u001b[1;33m               ctx=ctx)\n\u001b[0m\u001b[0;32m    384\u001b[0m         \u001b[1;32melse\u001b[0m\u001b[1;33m:\u001b[0m\u001b[1;33m\u001b[0m\u001b[1;33m\u001b[0m\u001b[0m\n\u001b[0;32m    385\u001b[0m           outputs = execute.execute_with_cancellation(\n",
      "\u001b[1;32m~\\AppData\\Roaming\\Python\\Python37\\site-packages\\tensorflow\\python\\eager\\execute.py\u001b[0m in \u001b[0;36mquick_execute\u001b[1;34m(op_name, num_outputs, inputs, attrs, ctx, name)\u001b[0m\n\u001b[0;32m     51\u001b[0m     \u001b[0mctx\u001b[0m\u001b[1;33m.\u001b[0m\u001b[0mensure_initialized\u001b[0m\u001b[1;33m(\u001b[0m\u001b[1;33m)\u001b[0m\u001b[1;33m\u001b[0m\u001b[1;33m\u001b[0m\u001b[0m\n\u001b[0;32m     52\u001b[0m     tensors = pywrap_tfe.TFE_Py_Execute(ctx._handle, device_name, op_name,\n\u001b[1;32m---> 53\u001b[1;33m                                         inputs, attrs, num_outputs)\n\u001b[0m\u001b[0;32m     54\u001b[0m   \u001b[1;32mexcept\u001b[0m \u001b[0mcore\u001b[0m\u001b[1;33m.\u001b[0m\u001b[0m_NotOkStatusException\u001b[0m \u001b[1;32mas\u001b[0m \u001b[0me\u001b[0m\u001b[1;33m:\u001b[0m\u001b[1;33m\u001b[0m\u001b[1;33m\u001b[0m\u001b[0m\n\u001b[0;32m     55\u001b[0m     \u001b[1;32mif\u001b[0m \u001b[0mname\u001b[0m \u001b[1;32mis\u001b[0m \u001b[1;32mnot\u001b[0m \u001b[1;32mNone\u001b[0m\u001b[1;33m:\u001b[0m\u001b[1;33m\u001b[0m\u001b[1;33m\u001b[0m\u001b[0m\n",
      "\u001b[1;31mKeyboardInterrupt\u001b[0m: "
     ]
    }
   ],
   "source": [
    "from tensorflow.keras.models import Sequential\n",
    "from tensorflow.keras.layers import Dense, Activation, Dropout\n",
    "from tensorflow.keras.optimizers import Adam\n",
    "from datetime import datetime\n",
    "\n",
    "# Define a function to create and compile the model\n",
    "def create_model(num_hidden_layers, units_per_layer, learning_rate, dropout_rate):\n",
    "    model = Sequential()\n",
    "    \n",
    "    # Add input layer\n",
    "    model.add(Dense(units_per_layer, input_shape=(40,)))\n",
    "    model.add(Activation('relu'))\n",
    "    model.add(Dropout(dropout_rate))\n",
    "    \n",
    "    # Add hidden layers\n",
    "    for _ in range(num_hidden_layers):\n",
    "        model.add(Dense(units_per_layer))\n",
    "        model.add(Activation('relu'))\n",
    "        model.add(Dropout(dropout_rate))\n",
    "    \n",
    "    # Add output layer\n",
    "    model.add(Dense(num_labels))\n",
    "    model.add(Activation('softmax'))\n",
    "    \n",
    "    # Compile the model with custom learning rate\n",
    "    optimizer = Adam(learning_rate=learning_rate)\n",
    "    model.compile(loss='categorical_crossentropy', metrics=['accuracy'], optimizer=optimizer)\n",
    "    \n",
    "    return model\n",
    "\n",
    "# Define hyperparameters to search over\n",
    "param_grid = {\n",
    "    'num_hidden_layers': [1, 2, 3],\n",
    "    'units_per_layer': [64, 128, 256],\n",
    "    'learning_rate': [0.001, 0.01, 0.1],\n",
    "    'dropout_rate': [0.3, 0.5, 0.7]\n",
    "}\n",
    "\n",
    "# Assuming X_train, y_train, X_test, y_test are defined\n",
    "\n",
    "best_accuracy = 0\n",
    "best_hyperparameters = None\n",
    "\n",
    "for num_hidden_layers in param_grid['num_hidden_layers']:\n",
    "    for units_per_layer in param_grid['units_per_layer']:\n",
    "        for learning_rate in param_grid['learning_rate']:\n",
    "            for dropout_rate in param_grid['dropout_rate']:\n",
    "                print(f\"Testing hyperparameters: num_hidden_layers={num_hidden_layers}, units_per_layer={units_per_layer}, learning_rate={learning_rate}, dropout_rate={dropout_rate}\")\n",
    "                \n",
    "                model = create_model(num_hidden_layers, units_per_layer, learning_rate, dropout_rate)\n",
    "                \n",
    "                # Assuming you have X_train, y_train, X_test, y_test defined\n",
    "                start = datetime.now()\n",
    "                model.fit(X_train, y_train, epochs=100, batch_size=32, verbose=0)\n",
    "                duration = datetime.now() - start\n",
    "                \n",
    "                test_loss, test_accuracy = model.evaluate(X_test, y_test, verbose=0)\n",
    "                \n",
    "                print(f\"Test Accuracy: {test_accuracy}, Time: {duration}\")\n",
    "                \n",
    "                if test_accuracy > best_accuracy:\n",
    "                    best_accuracy = test_accuracy\n",
    "                    best_hyperparameters = {\n",
    "                        'num_hidden_layers': num_hidden_layers,\n",
    "                        'units_per_layer': units_per_layer,\n",
    "                        'learning_rate': learning_rate,\n",
    "                        'dropout_rate': dropout_rate\n",
    "                    }\n",
    "\n",
    "print(f\"Best Hyperparameters: {best_hyperparameters}, Best Accuracy: {best_accuracy}\")\n"
   ]
  },
  {
   "cell_type": "code",
   "execution_count": 39,
   "id": "b0c12c18",
   "metadata": {},
   "outputs": [
    {
     "name": "stdout",
     "output_type": "stream",
     "text": [
      "Epoch 1/100\n",
      "201/220 [==========================>...] - ETA: 0s - loss: 7.9421 - accuracy: 0.1821\n",
      "Epoch 1: val_loss improved from inf to 2.16905, saving model to model\\audio_classification.hdf5\n",
      "220/220 [==============================] - 2s 4ms/step - loss: 7.5039 - accuracy: 0.1859 - val_loss: 2.1690 - val_accuracy: 0.2719\n",
      "Epoch 2/100\n",
      "217/220 [============================>.] - ETA: 0s - loss: 2.3031 - accuracy: 0.2392\n",
      "Epoch 2: val_loss improved from 2.16905 to 1.90504, saving model to model\\audio_classification.hdf5\n",
      "220/220 [==============================] - 1s 3ms/step - loss: 2.3029 - accuracy: 0.2396 - val_loss: 1.9050 - val_accuracy: 0.3335\n",
      "Epoch 3/100\n",
      "212/220 [===========================>..] - ETA: 0s - loss: 2.0357 - accuracy: 0.2880\n",
      "Epoch 3: val_loss improved from 1.90504 to 1.77012, saving model to model\\audio_classification.hdf5\n",
      "220/220 [==============================] - 1s 3ms/step - loss: 2.0335 - accuracy: 0.2892 - val_loss: 1.7701 - val_accuracy: 0.3683\n",
      "Epoch 4/100\n",
      "211/220 [===========================>..] - ETA: 0s - loss: 1.8514 - accuracy: 0.3509\n",
      "Epoch 4: val_loss improved from 1.77012 to 1.62160, saving model to model\\audio_classification.hdf5\n",
      "220/220 [==============================] - 1s 3ms/step - loss: 1.8551 - accuracy: 0.3502 - val_loss: 1.6216 - val_accuracy: 0.4578\n",
      "Epoch 5/100\n",
      "212/220 [===========================>..] - ETA: 0s - loss: 1.7569 - accuracy: 0.3884\n",
      "Epoch 5: val_loss improved from 1.62160 to 1.50745, saving model to model\\audio_classification.hdf5\n",
      "220/220 [==============================] - 1s 3ms/step - loss: 1.7565 - accuracy: 0.3890 - val_loss: 1.5074 - val_accuracy: 0.5034\n",
      "Epoch 6/100\n",
      "210/220 [===========================>..] - ETA: 0s - loss: 1.6260 - accuracy: 0.4315\n",
      "Epoch 6: val_loss improved from 1.50745 to 1.39056, saving model to model\\audio_classification.hdf5\n",
      "220/220 [==============================] - 1s 3ms/step - loss: 1.6265 - accuracy: 0.4316 - val_loss: 1.3906 - val_accuracy: 0.5462\n",
      "Epoch 7/100\n",
      "218/220 [============================>.] - ETA: 0s - loss: 1.5300 - accuracy: 0.4769\n",
      "Epoch 7: val_loss improved from 1.39056 to 1.30439, saving model to model\\audio_classification.hdf5\n",
      "220/220 [==============================] - 1s 3ms/step - loss: 1.5296 - accuracy: 0.4770 - val_loss: 1.3044 - val_accuracy: 0.5610\n",
      "Epoch 8/100\n",
      "215/220 [============================>.] - ETA: 0s - loss: 1.4416 - accuracy: 0.5166\n",
      "Epoch 8: val_loss improved from 1.30439 to 1.21316, saving model to model\\audio_classification.hdf5\n",
      "220/220 [==============================] - 1s 3ms/step - loss: 1.4399 - accuracy: 0.5172 - val_loss: 1.2132 - val_accuracy: 0.5992\n",
      "Epoch 9/100\n",
      "217/220 [============================>.] - ETA: 0s - loss: 1.3485 - accuracy: 0.5403\n",
      "Epoch 9: val_loss improved from 1.21316 to 1.10332, saving model to model\\audio_classification.hdf5\n",
      "220/220 [==============================] - 1s 3ms/step - loss: 1.3487 - accuracy: 0.5403 - val_loss: 1.1033 - val_accuracy: 0.6499\n",
      "Epoch 10/100\n",
      "204/220 [==========================>...] - ETA: 0s - loss: 1.2577 - accuracy: 0.5766\n",
      "Epoch 10: val_loss improved from 1.10332 to 1.06342, saving model to model\\audio_classification.hdf5\n",
      "220/220 [==============================] - 1s 3ms/step - loss: 1.2620 - accuracy: 0.5755 - val_loss: 1.0634 - val_accuracy: 0.6676\n",
      "Epoch 11/100\n",
      "204/220 [==========================>...] - ETA: 0s - loss: 1.1935 - accuracy: 0.5982\n",
      "Epoch 11: val_loss improved from 1.06342 to 1.00666, saving model to model\\audio_classification.hdf5\n",
      "220/220 [==============================] - 1s 3ms/step - loss: 1.1960 - accuracy: 0.5975 - val_loss: 1.0067 - val_accuracy: 0.6807\n",
      "Epoch 12/100\n",
      "199/220 [==========================>...] - ETA: 0s - loss: 1.1320 - accuracy: 0.6189\n",
      "Epoch 12: val_loss improved from 1.00666 to 0.96197, saving model to model\\audio_classification.hdf5\n",
      "220/220 [==============================] - 1s 3ms/step - loss: 1.1377 - accuracy: 0.6163 - val_loss: 0.9620 - val_accuracy: 0.7081\n",
      "Epoch 13/100\n",
      "216/220 [============================>.] - ETA: 0s - loss: 1.0789 - accuracy: 0.6353\n",
      "Epoch 13: val_loss improved from 0.96197 to 0.89815, saving model to model\\audio_classification.hdf5\n",
      "220/220 [==============================] - 1s 3ms/step - loss: 1.0788 - accuracy: 0.6351 - val_loss: 0.8982 - val_accuracy: 0.7263\n",
      "Epoch 14/100\n",
      "218/220 [============================>.] - ETA: 0s - loss: 1.0331 - accuracy: 0.6530\n",
      "Epoch 14: val_loss improved from 0.89815 to 0.88340, saving model to model\\audio_classification.hdf5\n",
      "220/220 [==============================] - 1s 3ms/step - loss: 1.0321 - accuracy: 0.6532 - val_loss: 0.8834 - val_accuracy: 0.7292\n",
      "Epoch 15/100\n",
      "211/220 [===========================>..] - ETA: 0s - loss: 1.0010 - accuracy: 0.6631\n",
      "Epoch 15: val_loss improved from 0.88340 to 0.84392, saving model to model\\audio_classification.hdf5\n",
      "220/220 [==============================] - 1s 3ms/step - loss: 0.9944 - accuracy: 0.6646 - val_loss: 0.8439 - val_accuracy: 0.7389\n",
      "Epoch 16/100\n",
      "205/220 [==========================>...] - ETA: 0s - loss: 0.9709 - accuracy: 0.6752\n",
      "Epoch 16: val_loss improved from 0.84392 to 0.78901, saving model to model\\audio_classification.hdf5\n",
      "220/220 [==============================] - 1s 3ms/step - loss: 0.9717 - accuracy: 0.6760 - val_loss: 0.7890 - val_accuracy: 0.7611\n",
      "Epoch 17/100\n",
      "215/220 [============================>.] - ETA: 0s - loss: 0.9184 - accuracy: 0.6916\n",
      "Epoch 17: val_loss improved from 0.78901 to 0.77017, saving model to model\\audio_classification.hdf5\n",
      "220/220 [==============================] - 1s 3ms/step - loss: 0.9168 - accuracy: 0.6924 - val_loss: 0.7702 - val_accuracy: 0.7566\n",
      "Epoch 18/100\n",
      "219/220 [============================>.] - ETA: 0s - loss: 0.8826 - accuracy: 0.7082\n",
      "Epoch 18: val_loss improved from 0.77017 to 0.72502, saving model to model\\audio_classification.hdf5\n",
      "220/220 [==============================] - 1s 3ms/step - loss: 0.8828 - accuracy: 0.7081 - val_loss: 0.7250 - val_accuracy: 0.7691\n",
      "Epoch 19/100\n",
      "203/220 [==========================>...] - ETA: 0s - loss: 0.8588 - accuracy: 0.7141\n",
      "Epoch 19: val_loss improved from 0.72502 to 0.69518, saving model to model\\audio_classification.hdf5\n",
      "220/220 [==============================] - 1s 3ms/step - loss: 0.8584 - accuracy: 0.7144 - val_loss: 0.6952 - val_accuracy: 0.7777\n",
      "Epoch 20/100\n",
      "205/220 [==========================>...] - ETA: 0s - loss: 0.8328 - accuracy: 0.7223\n",
      "Epoch 20: val_loss improved from 0.69518 to 0.65911, saving model to model\\audio_classification.hdf5\n",
      "220/220 [==============================] - 1s 3ms/step - loss: 0.8321 - accuracy: 0.7218 - val_loss: 0.6591 - val_accuracy: 0.7925\n",
      "Epoch 21/100\n",
      "200/220 [==========================>...] - ETA: 0s - loss: 0.7966 - accuracy: 0.7334\n",
      "Epoch 21: val_loss improved from 0.65911 to 0.64893, saving model to model\\audio_classification.hdf5\n",
      "220/220 [==============================] - 1s 3ms/step - loss: 0.7953 - accuracy: 0.7342 - val_loss: 0.6489 - val_accuracy: 0.7925\n",
      "Epoch 22/100\n",
      "216/220 [============================>.] - ETA: 0s - loss: 0.7886 - accuracy: 0.7390\n",
      "Epoch 22: val_loss improved from 0.64893 to 0.64393, saving model to model\\audio_classification.hdf5\n",
      "220/220 [==============================] - 1s 3ms/step - loss: 0.7888 - accuracy: 0.7383 - val_loss: 0.6439 - val_accuracy: 0.8005\n",
      "Epoch 23/100\n",
      "215/220 [============================>.] - ETA: 0s - loss: 0.7759 - accuracy: 0.7403\n",
      "Epoch 23: val_loss improved from 0.64393 to 0.63273, saving model to model\\audio_classification.hdf5\n",
      "220/220 [==============================] - 1s 3ms/step - loss: 0.7776 - accuracy: 0.7393 - val_loss: 0.6327 - val_accuracy: 0.8027\n",
      "Epoch 24/100\n",
      "208/220 [===========================>..] - ETA: 0s - loss: 0.7425 - accuracy: 0.7458\n",
      "Epoch 24: val_loss improved from 0.63273 to 0.62867, saving model to model\\audio_classification.hdf5\n",
      "220/220 [==============================] - 1s 3ms/step - loss: 0.7428 - accuracy: 0.7459 - val_loss: 0.6287 - val_accuracy: 0.8027\n",
      "Epoch 25/100\n",
      "196/220 [=========================>....] - ETA: 0s - loss: 0.7149 - accuracy: 0.7613\n",
      "Epoch 25: val_loss improved from 0.62867 to 0.58749, saving model to model\\audio_classification.hdf5\n",
      "220/220 [==============================] - 1s 3ms/step - loss: 0.7156 - accuracy: 0.7610 - val_loss: 0.5875 - val_accuracy: 0.8107\n",
      "Epoch 26/100\n",
      "215/220 [============================>.] - ETA: 0s - loss: 0.7012 - accuracy: 0.7597\n",
      "Epoch 26: val_loss did not improve from 0.58749\n",
      "220/220 [==============================] - 1s 3ms/step - loss: 0.7004 - accuracy: 0.7600 - val_loss: 0.5973 - val_accuracy: 0.7999\n",
      "Epoch 27/100\n",
      "209/220 [===========================>..] - ETA: 0s - loss: 0.6720 - accuracy: 0.7754\n",
      "Epoch 27: val_loss improved from 0.58749 to 0.57769, saving model to model\\audio_classification.hdf5\n",
      "220/220 [==============================] - 1s 3ms/step - loss: 0.6757 - accuracy: 0.7743 - val_loss: 0.5777 - val_accuracy: 0.8210\n",
      "Epoch 28/100\n",
      "217/220 [============================>.] - ETA: 0s - loss: 0.6690 - accuracy: 0.7671\n",
      "Epoch 28: val_loss improved from 0.57769 to 0.54953, saving model to model\\audio_classification.hdf5\n",
      "220/220 [==============================] - 1s 3ms/step - loss: 0.6697 - accuracy: 0.7667 - val_loss: 0.5495 - val_accuracy: 0.8136\n",
      "Epoch 29/100\n",
      "209/220 [===========================>..] - ETA: 0s - loss: 0.6653 - accuracy: 0.7726\n",
      "Epoch 29: val_loss improved from 0.54953 to 0.53120, saving model to model\\audio_classification.hdf5\n",
      "220/220 [==============================] - 1s 3ms/step - loss: 0.6628 - accuracy: 0.7746 - val_loss: 0.5312 - val_accuracy: 0.8301\n",
      "Epoch 30/100\n",
      "210/220 [===========================>..] - ETA: 0s - loss: 0.6506 - accuracy: 0.7796\n",
      "Epoch 30: val_loss improved from 0.53120 to 0.52768, saving model to model\\audio_classification.hdf5\n",
      "220/220 [==============================] - 1s 3ms/step - loss: 0.6496 - accuracy: 0.7801 - val_loss: 0.5277 - val_accuracy: 0.8250\n",
      "Epoch 31/100\n",
      "210/220 [===========================>..] - ETA: 0s - loss: 0.6399 - accuracy: 0.7817\n",
      "Epoch 31: val_loss did not improve from 0.52768\n",
      "220/220 [==============================] - 1s 3ms/step - loss: 0.6402 - accuracy: 0.7810 - val_loss: 0.5352 - val_accuracy: 0.8233\n",
      "Epoch 32/100\n",
      "218/220 [============================>.] - ETA: 0s - loss: 0.6133 - accuracy: 0.7893\n",
      "Epoch 32: val_loss improved from 0.52768 to 0.49848, saving model to model\\audio_classification.hdf5\n",
      "220/220 [==============================] - 1s 3ms/step - loss: 0.6145 - accuracy: 0.7892 - val_loss: 0.4985 - val_accuracy: 0.8341\n",
      "Epoch 33/100\n",
      "206/220 [===========================>..] - ETA: 0s - loss: 0.6130 - accuracy: 0.7934\n",
      "Epoch 33: val_loss improved from 0.49848 to 0.49642, saving model to model\\audio_classification.hdf5\n",
      "220/220 [==============================] - 1s 3ms/step - loss: 0.6110 - accuracy: 0.7940 - val_loss: 0.4964 - val_accuracy: 0.8301\n",
      "Epoch 34/100\n",
      "208/220 [===========================>..] - ETA: 0s - loss: 0.5948 - accuracy: 0.7913\n",
      "Epoch 34: val_loss improved from 0.49642 to 0.49140, saving model to model\\audio_classification.hdf5\n",
      "220/220 [==============================] - 1s 3ms/step - loss: 0.5951 - accuracy: 0.7912 - val_loss: 0.4914 - val_accuracy: 0.8404\n",
      "Epoch 35/100\n",
      "205/220 [==========================>...] - ETA: 0s - loss: 0.5900 - accuracy: 0.8027\n",
      "Epoch 35: val_loss improved from 0.49140 to 0.48726, saving model to model\\audio_classification.hdf5\n",
      "220/220 [==============================] - 1s 3ms/step - loss: 0.5925 - accuracy: 0.8011 - val_loss: 0.4873 - val_accuracy: 0.8392\n",
      "Epoch 36/100\n",
      "212/220 [===========================>..] - ETA: 0s - loss: 0.5797 - accuracy: 0.8007\n",
      "Epoch 36: val_loss did not improve from 0.48726\n",
      "220/220 [==============================] - 1s 3ms/step - loss: 0.5820 - accuracy: 0.7999 - val_loss: 0.5102 - val_accuracy: 0.8341\n",
      "Epoch 37/100\n",
      "205/220 [==========================>...] - ETA: 0s - loss: 0.5751 - accuracy: 0.8052\n",
      "Epoch 37: val_loss improved from 0.48726 to 0.46830, saving model to model\\audio_classification.hdf5\n",
      "220/220 [==============================] - 1s 3ms/step - loss: 0.5726 - accuracy: 0.8044 - val_loss: 0.4683 - val_accuracy: 0.8483\n",
      "Epoch 38/100\n",
      "199/220 [==========================>...] - ETA: 0s - loss: 0.5552 - accuracy: 0.8068\n",
      "Epoch 38: val_loss did not improve from 0.46830\n",
      "220/220 [==============================] - 1s 3ms/step - loss: 0.5563 - accuracy: 0.8071 - val_loss: 0.4839 - val_accuracy: 0.8404\n",
      "Epoch 39/100\n",
      "210/220 [===========================>..] - ETA: 0s - loss: 0.5591 - accuracy: 0.8077\n",
      "Epoch 39: val_loss improved from 0.46830 to 0.46818, saving model to model\\audio_classification.hdf5\n",
      "220/220 [==============================] - 1s 3ms/step - loss: 0.5586 - accuracy: 0.8071 - val_loss: 0.4682 - val_accuracy: 0.8444\n",
      "Epoch 40/100\n",
      "206/220 [===========================>..] - ETA: 0s - loss: 0.5418 - accuracy: 0.8134\n",
      "Epoch 40: val_loss did not improve from 0.46818\n",
      "220/220 [==============================] - 1s 3ms/step - loss: 0.5390 - accuracy: 0.8149 - val_loss: 0.4763 - val_accuracy: 0.8489\n",
      "Epoch 41/100\n",
      "201/220 [==========================>...] - ETA: 0s - loss: 0.5349 - accuracy: 0.8165\n",
      "Epoch 41: val_loss improved from 0.46818 to 0.45268, saving model to model\\audio_classification.hdf5\n",
      "220/220 [==============================] - 1s 3ms/step - loss: 0.5365 - accuracy: 0.8165 - val_loss: 0.4527 - val_accuracy: 0.8483\n",
      "Epoch 42/100\n",
      "203/220 [==========================>...] - ETA: 0s - loss: 0.5305 - accuracy: 0.8156\n",
      "Epoch 42: val_loss improved from 0.45268 to 0.44619, saving model to model\\audio_classification.hdf5\n",
      "220/220 [==============================] - 1s 3ms/step - loss: 0.5319 - accuracy: 0.8145 - val_loss: 0.4462 - val_accuracy: 0.8512\n",
      "Epoch 43/100\n",
      "212/220 [===========================>..] - ETA: 0s - loss: 0.5261 - accuracy: 0.8221\n",
      "Epoch 43: val_loss did not improve from 0.44619\n",
      "220/220 [==============================] - 1s 3ms/step - loss: 0.5227 - accuracy: 0.8236 - val_loss: 0.4555 - val_accuracy: 0.8518\n",
      "Epoch 44/100\n",
      "208/220 [===========================>..] - ETA: 0s - loss: 0.5271 - accuracy: 0.8200\n",
      "Epoch 44: val_loss did not improve from 0.44619\n",
      "220/220 [==============================] - 1s 3ms/step - loss: 0.5226 - accuracy: 0.8206 - val_loss: 0.4718 - val_accuracy: 0.8489\n",
      "Epoch 45/100\n",
      "210/220 [===========================>..] - ETA: 0s - loss: 0.5236 - accuracy: 0.8213\n",
      "Epoch 45: val_loss did not improve from 0.44619\n",
      "220/220 [==============================] - 1s 3ms/step - loss: 0.5215 - accuracy: 0.8222 - val_loss: 0.4489 - val_accuracy: 0.8615\n",
      "Epoch 46/100\n",
      "201/220 [==========================>...] - ETA: 0s - loss: 0.5278 - accuracy: 0.8173\n",
      "Epoch 46: val_loss did not improve from 0.44619\n",
      "220/220 [==============================] - 1s 3ms/step - loss: 0.5224 - accuracy: 0.8196 - val_loss: 0.4604 - val_accuracy: 0.8466\n",
      "Epoch 47/100\n",
      "207/220 [===========================>..] - ETA: 0s - loss: 0.5080 - accuracy: 0.8249\n",
      "Epoch 47: val_loss did not improve from 0.44619\n",
      "220/220 [==============================] - 1s 3ms/step - loss: 0.5085 - accuracy: 0.8252 - val_loss: 0.4491 - val_accuracy: 0.8597\n",
      "Epoch 48/100\n",
      "216/220 [============================>.] - ETA: 0s - loss: 0.5204 - accuracy: 0.8220\n",
      "Epoch 48: val_loss improved from 0.44619 to 0.43809, saving model to model\\audio_classification.hdf5\n",
      "220/220 [==============================] - 1s 3ms/step - loss: 0.5197 - accuracy: 0.8219 - val_loss: 0.4381 - val_accuracy: 0.8609\n",
      "Epoch 49/100\n",
      "213/220 [============================>.] - ETA: 0s - loss: 0.4877 - accuracy: 0.8319\n",
      "Epoch 49: val_loss improved from 0.43809 to 0.42163, saving model to model\\audio_classification.hdf5\n",
      "220/220 [==============================] - 1s 3ms/step - loss: 0.4864 - accuracy: 0.8326 - val_loss: 0.4216 - val_accuracy: 0.8609\n",
      "Epoch 50/100\n",
      "211/220 [===========================>..] - ETA: 0s - loss: 0.4921 - accuracy: 0.8340\n",
      "Epoch 50: val_loss did not improve from 0.42163\n",
      "220/220 [==============================] - 1s 3ms/step - loss: 0.4896 - accuracy: 0.8337 - val_loss: 0.4306 - val_accuracy: 0.8580\n",
      "Epoch 51/100\n",
      "208/220 [===========================>..] - ETA: 0s - loss: 0.4760 - accuracy: 0.8334\n",
      "Epoch 51: val_loss improved from 0.42163 to 0.41674, saving model to model\\audio_classification.hdf5\n",
      "220/220 [==============================] - 1s 3ms/step - loss: 0.4812 - accuracy: 0.8313 - val_loss: 0.4167 - val_accuracy: 0.8740\n",
      "Epoch 52/100\n",
      "211/220 [===========================>..] - ETA: 0s - loss: 0.4684 - accuracy: 0.8399\n",
      "Epoch 52: val_loss did not improve from 0.41674\n",
      "220/220 [==============================] - 1s 3ms/step - loss: 0.4724 - accuracy: 0.8392 - val_loss: 0.4342 - val_accuracy: 0.8592\n",
      "Epoch 53/100\n",
      "216/220 [============================>.] - ETA: 0s - loss: 0.4882 - accuracy: 0.8326\n",
      "Epoch 53: val_loss did not improve from 0.41674\n",
      "220/220 [==============================] - 1s 3ms/step - loss: 0.4861 - accuracy: 0.8332 - val_loss: 0.4233 - val_accuracy: 0.8637\n",
      "Epoch 54/100\n",
      "207/220 [===========================>..] - ETA: 0s - loss: 0.4919 - accuracy: 0.8395\n",
      "Epoch 54: val_loss improved from 0.41674 to 0.40759, saving model to model\\audio_classification.hdf5\n",
      "220/220 [==============================] - 1s 3ms/step - loss: 0.4948 - accuracy: 0.8394 - val_loss: 0.4076 - val_accuracy: 0.8700\n",
      "Epoch 55/100\n",
      "212/220 [===========================>..] - ETA: 0s - loss: 0.4669 - accuracy: 0.8407\n",
      "Epoch 55: val_loss did not improve from 0.40759\n",
      "220/220 [==============================] - 1s 3ms/step - loss: 0.4636 - accuracy: 0.8419 - val_loss: 0.4227 - val_accuracy: 0.8586\n",
      "Epoch 56/100\n",
      "218/220 [============================>.] - ETA: 0s - loss: 0.4610 - accuracy: 0.8384\n",
      "Epoch 56: val_loss did not improve from 0.40759\n",
      "220/220 [==============================] - 1s 3ms/step - loss: 0.4608 - accuracy: 0.8387 - val_loss: 0.4130 - val_accuracy: 0.8597\n",
      "Epoch 57/100\n",
      "215/220 [============================>.] - ETA: 0s - loss: 0.4719 - accuracy: 0.8362\n",
      "Epoch 57: val_loss did not improve from 0.40759\n",
      "220/220 [==============================] - 1s 3ms/step - loss: 0.4721 - accuracy: 0.8366 - val_loss: 0.4156 - val_accuracy: 0.8666\n",
      "Epoch 58/100\n",
      "211/220 [===========================>..] - ETA: 0s - loss: 0.4664 - accuracy: 0.8383\n",
      "Epoch 58: val_loss did not improve from 0.40759\n",
      "220/220 [==============================] - 1s 3ms/step - loss: 0.4659 - accuracy: 0.8379 - val_loss: 0.4225 - val_accuracy: 0.8643\n",
      "Epoch 59/100\n",
      "215/220 [============================>.] - ETA: 0s - loss: 0.4725 - accuracy: 0.8391\n",
      "Epoch 59: val_loss did not improve from 0.40759\n",
      "220/220 [==============================] - 1s 3ms/step - loss: 0.4707 - accuracy: 0.8390 - val_loss: 0.4168 - val_accuracy: 0.8694\n",
      "Epoch 60/100\n",
      "206/220 [===========================>..] - ETA: 0s - loss: 0.4548 - accuracy: 0.8400\n",
      "Epoch 60: val_loss improved from 0.40759 to 0.40519, saving model to model\\audio_classification.hdf5\n",
      "220/220 [==============================] - 1s 3ms/step - loss: 0.4529 - accuracy: 0.8403 - val_loss: 0.4052 - val_accuracy: 0.8734\n",
      "Epoch 61/100\n",
      "209/220 [===========================>..] - ETA: 0s - loss: 0.4738 - accuracy: 0.8379\n",
      "Epoch 61: val_loss improved from 0.40519 to 0.39974, saving model to model\\audio_classification.hdf5\n",
      "220/220 [==============================] - 1s 3ms/step - loss: 0.4712 - accuracy: 0.8387 - val_loss: 0.3997 - val_accuracy: 0.8763\n",
      "Epoch 62/100\n",
      "202/220 [==========================>...] - ETA: 0s - loss: 0.4515 - accuracy: 0.8478\n",
      "Epoch 62: val_loss did not improve from 0.39974\n",
      "220/220 [==============================] - 1s 3ms/step - loss: 0.4570 - accuracy: 0.8461 - val_loss: 0.3999 - val_accuracy: 0.8769\n",
      "Epoch 63/100\n",
      "214/220 [============================>.] - ETA: 0s - loss: 0.4251 - accuracy: 0.8524\n",
      "Epoch 63: val_loss did not improve from 0.39974\n",
      "220/220 [==============================] - 1s 3ms/step - loss: 0.4282 - accuracy: 0.8511 - val_loss: 0.4010 - val_accuracy: 0.8655\n",
      "Epoch 64/100\n",
      "201/220 [==========================>...] - ETA: 0s - loss: 0.4587 - accuracy: 0.8462\n",
      "Epoch 64: val_loss did not improve from 0.39974\n",
      "220/220 [==============================] - 1s 3ms/step - loss: 0.4527 - accuracy: 0.8487 - val_loss: 0.4222 - val_accuracy: 0.8723\n",
      "Epoch 65/100\n",
      "215/220 [============================>.] - ETA: 0s - loss: 0.4579 - accuracy: 0.8462\n",
      "Epoch 65: val_loss did not improve from 0.39974\n",
      "220/220 [==============================] - 1s 3ms/step - loss: 0.4585 - accuracy: 0.8454 - val_loss: 0.4081 - val_accuracy: 0.8643\n",
      "Epoch 66/100\n",
      "213/220 [============================>.] - ETA: 0s - loss: 0.4515 - accuracy: 0.8483\n",
      "Epoch 66: val_loss did not improve from 0.39974\n",
      "220/220 [==============================] - 1s 3ms/step - loss: 0.4486 - accuracy: 0.8493 - val_loss: 0.4246 - val_accuracy: 0.8700\n",
      "Epoch 67/100\n",
      "202/220 [==========================>...] - ETA: 0s - loss: 0.4639 - accuracy: 0.8420\n",
      "Epoch 67: val_loss did not improve from 0.39974\n",
      "220/220 [==============================] - 1s 3ms/step - loss: 0.4620 - accuracy: 0.8427 - val_loss: 0.4228 - val_accuracy: 0.8700\n",
      "Epoch 68/100\n",
      "211/220 [===========================>..] - ETA: 0s - loss: 0.4526 - accuracy: 0.8452\n",
      "Epoch 68: val_loss did not improve from 0.39974\n",
      "220/220 [==============================] - 1s 3ms/step - loss: 0.4485 - accuracy: 0.8467 - val_loss: 0.4058 - val_accuracy: 0.8729\n",
      "Epoch 69/100\n",
      "212/220 [===========================>..] - ETA: 0s - loss: 0.4228 - accuracy: 0.8558\n",
      "Epoch 69: val_loss did not improve from 0.39974\n",
      "220/220 [==============================] - 1s 3ms/step - loss: 0.4255 - accuracy: 0.8543 - val_loss: 0.4270 - val_accuracy: 0.8643\n",
      "Epoch 70/100\n",
      "215/220 [============================>.] - ETA: 0s - loss: 0.4511 - accuracy: 0.8468\n",
      "Epoch 70: val_loss did not improve from 0.39974\n",
      "220/220 [==============================] - 1s 3ms/step - loss: 0.4554 - accuracy: 0.8456 - val_loss: 0.4155 - val_accuracy: 0.8826\n",
      "Epoch 71/100\n",
      "212/220 [===========================>..] - ETA: 0s - loss: 0.4394 - accuracy: 0.8502\n",
      "Epoch 71: val_loss did not improve from 0.39974\n",
      "220/220 [==============================] - 1s 3ms/step - loss: 0.4373 - accuracy: 0.8513 - val_loss: 0.4234 - val_accuracy: 0.8706\n",
      "Epoch 72/100\n",
      "201/220 [==========================>...] - ETA: 0s - loss: 0.4270 - accuracy: 0.8503\n",
      "Epoch 72: val_loss did not improve from 0.39974\n",
      "220/220 [==============================] - 1s 3ms/step - loss: 0.4286 - accuracy: 0.8481 - val_loss: 0.4041 - val_accuracy: 0.8751\n",
      "Epoch 73/100\n",
      "217/220 [============================>.] - ETA: 0s - loss: 0.4152 - accuracy: 0.8573\n",
      "Epoch 73: val_loss did not improve from 0.39974\n",
      "220/220 [==============================] - 1s 3ms/step - loss: 0.4165 - accuracy: 0.8567 - val_loss: 0.4226 - val_accuracy: 0.8700\n",
      "Epoch 74/100\n",
      "205/220 [==========================>...] - ETA: 0s - loss: 0.4350 - accuracy: 0.8511\n",
      "Epoch 74: val_loss did not improve from 0.39974\n",
      "220/220 [==============================] - 1s 3ms/step - loss: 0.4394 - accuracy: 0.8500 - val_loss: 0.4197 - val_accuracy: 0.8677\n",
      "Epoch 75/100\n",
      "212/220 [===========================>..] - ETA: 0s - loss: 0.4137 - accuracy: 0.8589\n",
      "Epoch 75: val_loss did not improve from 0.39974\n",
      "220/220 [==============================] - 1s 3ms/step - loss: 0.4139 - accuracy: 0.8594 - val_loss: 0.3999 - val_accuracy: 0.8763\n",
      "Epoch 76/100\n",
      "200/220 [==========================>...] - ETA: 0s - loss: 0.4188 - accuracy: 0.8578\n",
      "Epoch 76: val_loss improved from 0.39974 to 0.39700, saving model to model\\audio_classification.hdf5\n",
      "220/220 [==============================] - 1s 3ms/step - loss: 0.4183 - accuracy: 0.8574 - val_loss: 0.3970 - val_accuracy: 0.8786\n",
      "Epoch 77/100\n",
      "197/220 [=========================>....] - ETA: 0s - loss: 0.4105 - accuracy: 0.8602\n",
      "Epoch 77: val_loss did not improve from 0.39700\n",
      "220/220 [==============================] - 1s 3ms/step - loss: 0.4139 - accuracy: 0.8594 - val_loss: 0.4049 - val_accuracy: 0.8694\n",
      "Epoch 78/100\n",
      "195/220 [=========================>....] - ETA: 0s - loss: 0.4224 - accuracy: 0.8518\n",
      "Epoch 78: val_loss did not improve from 0.39700\n",
      "220/220 [==============================] - 1s 2ms/step - loss: 0.4255 - accuracy: 0.8524 - val_loss: 0.4094 - val_accuracy: 0.8694\n",
      "Epoch 79/100\n",
      "209/220 [===========================>..] - ETA: 0s - loss: 0.4291 - accuracy: 0.8550\n",
      "Epoch 79: val_loss did not improve from 0.39700\n",
      "220/220 [==============================] - 1s 3ms/step - loss: 0.4275 - accuracy: 0.8554 - val_loss: 0.4006 - val_accuracy: 0.8689\n",
      "Epoch 80/100\n",
      "218/220 [============================>.] - ETA: 0s - loss: 0.3933 - accuracy: 0.8604\n",
      "Epoch 80: val_loss did not improve from 0.39700\n",
      "220/220 [==============================] - 1s 3ms/step - loss: 0.3951 - accuracy: 0.8598 - val_loss: 0.3997 - val_accuracy: 0.8717\n",
      "Epoch 81/100\n",
      "207/220 [===========================>..] - ETA: 0s - loss: 0.4060 - accuracy: 0.8640\n",
      "Epoch 81: val_loss did not improve from 0.39700\n",
      "220/220 [==============================] - 1s 3ms/step - loss: 0.4107 - accuracy: 0.8628 - val_loss: 0.4069 - val_accuracy: 0.8706\n",
      "Epoch 82/100\n",
      "213/220 [============================>.] - ETA: 0s - loss: 0.4095 - accuracy: 0.8628\n",
      "Epoch 82: val_loss did not improve from 0.39700\n",
      "220/220 [==============================] - 1s 3ms/step - loss: 0.4087 - accuracy: 0.8618 - val_loss: 0.3999 - val_accuracy: 0.8746\n",
      "Epoch 83/100\n",
      "210/220 [===========================>..] - ETA: 0s - loss: 0.4119 - accuracy: 0.8576\n",
      "Epoch 83: val_loss did not improve from 0.39700\n",
      "220/220 [==============================] - 1s 3ms/step - loss: 0.4142 - accuracy: 0.8564 - val_loss: 0.4049 - val_accuracy: 0.8723\n",
      "Epoch 84/100\n",
      "215/220 [============================>.] - ETA: 0s - loss: 0.4126 - accuracy: 0.8578\n",
      "Epoch 84: val_loss did not improve from 0.39700\n",
      "220/220 [==============================] - 1s 3ms/step - loss: 0.4144 - accuracy: 0.8573 - val_loss: 0.3993 - val_accuracy: 0.8729\n",
      "Epoch 85/100\n",
      "212/220 [===========================>..] - ETA: 0s - loss: 0.3933 - accuracy: 0.8642\n",
      "Epoch 85: val_loss did not improve from 0.39700\n",
      "220/220 [==============================] - 1s 3ms/step - loss: 0.3935 - accuracy: 0.8638 - val_loss: 0.4088 - val_accuracy: 0.8706\n",
      "Epoch 86/100\n",
      "208/220 [===========================>..] - ETA: 0s - loss: 0.4107 - accuracy: 0.8571\n",
      "Epoch 86: val_loss did not improve from 0.39700\n",
      "220/220 [==============================] - 1s 3ms/step - loss: 0.4115 - accuracy: 0.8573 - val_loss: 0.3991 - val_accuracy: 0.8706\n",
      "Epoch 87/100\n",
      "203/220 [==========================>...] - ETA: 0s - loss: 0.4068 - accuracy: 0.8618\n",
      "Epoch 87: val_loss improved from 0.39700 to 0.38547, saving model to model\\audio_classification.hdf5\n",
      "220/220 [==============================] - 1s 3ms/step - loss: 0.4113 - accuracy: 0.8605 - val_loss: 0.3855 - val_accuracy: 0.8757\n",
      "Epoch 88/100\n",
      "210/220 [===========================>..] - ETA: 0s - loss: 0.4035 - accuracy: 0.8600\n",
      "Epoch 88: val_loss did not improve from 0.38547\n",
      "220/220 [==============================] - 1s 3ms/step - loss: 0.4054 - accuracy: 0.8598 - val_loss: 0.3997 - val_accuracy: 0.8826\n",
      "Epoch 89/100\n",
      "220/220 [==============================] - ETA: 0s - loss: 0.4172 - accuracy: 0.8600\n",
      "Epoch 89: val_loss did not improve from 0.38547\n",
      "220/220 [==============================] - 1s 3ms/step - loss: 0.4172 - accuracy: 0.8600 - val_loss: 0.4045 - val_accuracy: 0.8780\n",
      "Epoch 90/100\n",
      "205/220 [==========================>...] - ETA: 0s - loss: 0.3992 - accuracy: 0.8684\n",
      "Epoch 90: val_loss did not improve from 0.38547\n",
      "220/220 [==============================] - 1s 2ms/step - loss: 0.3973 - accuracy: 0.8687 - val_loss: 0.4088 - val_accuracy: 0.8769\n",
      "Epoch 91/100\n",
      "220/220 [==============================] - ETA: 0s - loss: 0.4053 - accuracy: 0.8611\n",
      "Epoch 91: val_loss did not improve from 0.38547\n",
      "220/220 [==============================] - 1s 3ms/step - loss: 0.4053 - accuracy: 0.8611 - val_loss: 0.3940 - val_accuracy: 0.8769\n",
      "Epoch 92/100\n",
      "214/220 [============================>.] - ETA: 0s - loss: 0.4050 - accuracy: 0.8632\n",
      "Epoch 92: val_loss did not improve from 0.38547\n",
      "220/220 [==============================] - 1s 3ms/step - loss: 0.4044 - accuracy: 0.8628 - val_loss: 0.4053 - val_accuracy: 0.8700\n",
      "Epoch 93/100\n",
      "217/220 [============================>.] - ETA: 0s - loss: 0.3877 - accuracy: 0.8688\n",
      "Epoch 93: val_loss did not improve from 0.38547\n",
      "220/220 [==============================] - 1s 3ms/step - loss: 0.3887 - accuracy: 0.8688 - val_loss: 0.4172 - val_accuracy: 0.8763\n",
      "Epoch 94/100\n",
      "202/220 [==========================>...] - ETA: 0s - loss: 0.3826 - accuracy: 0.8718\n",
      "Epoch 94: val_loss did not improve from 0.38547\n",
      "220/220 [==============================] - 1s 3ms/step - loss: 0.3878 - accuracy: 0.8711 - val_loss: 0.3873 - val_accuracy: 0.8780\n",
      "Epoch 95/100\n",
      "201/220 [==========================>...] - ETA: 0s - loss: 0.4089 - accuracy: 0.8627\n",
      "Epoch 95: val_loss did not improve from 0.38547\n",
      "220/220 [==============================] - 1s 3ms/step - loss: 0.4040 - accuracy: 0.8643 - val_loss: 0.3872 - val_accuracy: 0.8786\n",
      "Epoch 96/100\n",
      "211/220 [===========================>..] - ETA: 0s - loss: 0.3855 - accuracy: 0.8682\n",
      "Epoch 96: val_loss did not improve from 0.38547\n",
      "220/220 [==============================] - 1s 3ms/step - loss: 0.3880 - accuracy: 0.8685 - val_loss: 0.3977 - val_accuracy: 0.8808\n",
      "Epoch 97/100\n",
      "218/220 [============================>.] - ETA: 0s - loss: 0.3929 - accuracy: 0.8665\n",
      "Epoch 97: val_loss did not improve from 0.38547\n",
      "220/220 [==============================] - 1s 3ms/step - loss: 0.3926 - accuracy: 0.8668 - val_loss: 0.4113 - val_accuracy: 0.8706\n",
      "Epoch 98/100\n",
      "204/220 [==========================>...] - ETA: 0s - loss: 0.3693 - accuracy: 0.8727\n",
      "Epoch 98: val_loss did not improve from 0.38547\n",
      "220/220 [==============================] - 1s 3ms/step - loss: 0.3689 - accuracy: 0.8732 - val_loss: 0.3992 - val_accuracy: 0.8848\n",
      "Epoch 99/100\n",
      "215/220 [============================>.] - ETA: 0s - loss: 0.3743 - accuracy: 0.8718\n",
      "Epoch 99: val_loss did not improve from 0.38547\n",
      "220/220 [==============================] - 1s 3ms/step - loss: 0.3765 - accuracy: 0.8708 - val_loss: 0.3929 - val_accuracy: 0.8706\n",
      "Epoch 100/100\n",
      "209/220 [===========================>..] - ETA: 0s - loss: 0.3700 - accuracy: 0.8751\n",
      "Epoch 100: val_loss did not improve from 0.38547\n",
      "220/220 [==============================] - 1s 3ms/step - loss: 0.3763 - accuracy: 0.8739 - val_loss: 0.3996 - val_accuracy: 0.8871\n",
      "Training completed in time:  0:01:02.989769\n"
     ]
    }
   ],
   "source": [
    "from tensorflow.keras.models import Sequential\n",
    "from tensorflow.keras.layers import Dense, Activation, Dropout\n",
    "from tensorflow.keras.optimizers import Adam\n",
    "from datetime import datetime\n",
    "\n",
    "# Define the best hyperparameters\n",
    "num_hidden_layers = 1\n",
    "units_per_layer = 128\n",
    "learning_rate = 0.001\n",
    "dropout_rate = 0.3\n",
    "\n",
    "\n",
    "model = Sequential()\n",
    "\n",
    "# Add first layer\n",
    "model.add(Dense(units_per_layer, input_shape=(40,)))\n",
    "model.add(Activation('relu'))\n",
    "model.add(Dropout(dropout_rate))\n",
    "\n",
    "# Add hidden layer (since num_hidden_layers = 1)\n",
    "model.add(Dense(units_per_layer))\n",
    "model.add(Activation('relu'))\n",
    "model.add(Dropout(dropout_rate))\n",
    "\n",
    "# Add final layer\n",
    "model.add(Dense(num_labels))\n",
    "model.add(Activation('softmax'))\n",
    "\n",
    "\n",
    "optimizer = Adam(learning_rate=learning_rate)\n",
    "model.compile(loss='categorical_crossentropy', metrics=['accuracy'], optimizer=optimizer)\n",
    "\n",
    "# Training configuration\n",
    "num_epochs = 100\n",
    "num_batch_size = 32\n",
    "\n",
    "# ModelCheckpoint for saving the best model\n",
    "checkpointer = ModelCheckpoint(filepath='model/audio_classification.hdf5', \n",
    "                               verbose=1, save_best_only=True)\n",
    "\n",
    "# Train the model\n",
    "start = datetime.now()\n",
    "model.fit(X_train, y_train, batch_size=num_batch_size, epochs=num_epochs, \n",
    "          validation_data=(X_test, y_test), callbacks=[checkpointer], verbose=1)\n",
    "duration = datetime.now() - start\n",
    "\n",
    "\n",
    "print(\"Training completed in time: \", duration)\n"
   ]
  },
  {
   "cell_type": "code",
   "execution_count": 40,
   "id": "680a1ec9",
   "metadata": {},
   "outputs": [],
   "source": [
    "import pickle\n",
    "from tensorflow.keras.models import load_model\n",
    "\n",
    "# Assuming you have a Keras model saved as 'audio_classification.hdf5'\n",
    "# Load the model\n",
    "model = load_model('model/audio_classification.hdf5')\n",
    "\n",
    "# Save the architecture\n",
    "with open('model_architecture.pkl', 'wb') as arch_file:\n",
    "    pickle.dump(model.to_json(), arch_file)\n",
    "\n",
    "# Save the weights\n",
    "model.save_weights('model_weights.h5')"
   ]
  },
  {
   "cell_type": "code",
   "execution_count": 41,
   "id": "virgin-butter",
   "metadata": {},
   "outputs": [
    {
     "name": "stdout",
     "output_type": "stream",
     "text": [
      "0.8757126331329346\n"
     ]
    }
   ],
   "source": [
    "test_accuracy=model.evaluate(X_test,y_test,verbose=0)\n",
    "print(test_accuracy[1])"
   ]
  },
  {
   "cell_type": "code",
   "execution_count": 42,
   "id": "strange-driving",
   "metadata": {},
   "outputs": [
    {
     "data": {
      "text/plain": [
       "array([-89.609856  , 138.54202   , -34.66755   ,  -6.325211  ,\n",
       "       -14.328585  ,  -6.6653895 ,  -9.3626585 ,  -4.4089456 ,\n",
       "       -13.62875   ,  -7.837764  ,  -9.734955  ,  -1.6937976 ,\n",
       "        -4.138757  ,  -3.6724246 , -10.9405155 ,  -7.674461  ,\n",
       "       -11.292069  ,  -2.1165285 ,  -6.9831605 ,  -0.4331562 ,\n",
       "       -11.776561  ,  -7.823608  ,  -8.694304  ,   3.819956  ,\n",
       "         5.5766864 ,  16.414688  ,   6.421837  ,   3.68199   ,\n",
       "        -4.729585  ,   2.81644   ,   4.402446  ,   7.9418097 ,\n",
       "         1.9626476 ,  -3.597658  ,  -6.426121  ,  -0.43179762,\n",
       "         3.4978323 ,   3.5428407 ,  -0.72858226,  -3.1850307 ],\n",
       "      dtype=float32)"
      ]
     },
     "execution_count": 42,
     "metadata": {},
     "output_type": "execute_result"
    }
   ],
   "source": [
    "X_test[1]"
   ]
  },
  {
   "cell_type": "code",
   "execution_count": 43,
   "id": "intensive-conservative",
   "metadata": {},
   "outputs": [
    {
     "name": "stdout",
     "output_type": "stream",
     "text": [
      "55/55 [==============================] - 0s 2ms/step\n"
     ]
    },
    {
     "data": {
      "text/plain": [
       "array([[8.2482854e-10, 9.2139990e-16, 7.7832614e-19, ..., 1.6534319e-05,\n",
       "        4.0360722e-03, 7.7549659e-04],\n",
       "       [3.1398189e-21, 6.8510323e-23, 4.6834196e-30, ..., 3.2690174e-15,\n",
       "        6.2330720e-08, 6.0416081e-09],\n",
       "       [2.5000310e-22, 1.4563612e-20, 2.4333337e-34, ..., 2.7937937e-11,\n",
       "        3.4062844e-10, 9.1539359e-06],\n",
       "       ...,\n",
       "       [2.5826661e-04, 1.6534957e-06, 4.2374437e-10, ..., 9.5058749e-05,\n",
       "        3.1740856e-03, 4.2146098e-02],\n",
       "       [3.4385673e-07, 1.1530975e-13, 6.8351155e-20, ..., 5.0079951e-10,\n",
       "        5.5749965e-06, 7.1514019e-06],\n",
       "       [4.9861801e-15, 5.4924910e-27, 0.0000000e+00, ..., 6.2901748e-08,\n",
       "        6.5500251e-11, 6.2708515e-12]], dtype=float32)"
      ]
     },
     "execution_count": 43,
     "metadata": {},
     "output_type": "execute_result"
    }
   ],
   "source": [
    "model.predict(X_test)"
   ]
  },
  {
   "cell_type": "markdown",
   "id": "advanced-booth",
   "metadata": {},
   "source": [
    "### Testing Some Test Audio Data\n",
    "\n",
    "Steps\n",
    "- Preprocess the new audio data\n",
    "- predict the classes\n",
    "- Invere transform your Predicted Label"
   ]
  },
  {
   "cell_type": "code",
   "execution_count": 44,
   "id": "2272ab66",
   "metadata": {},
   "outputs": [
    {
     "name": "stdout",
     "output_type": "stream",
     "text": [
      "[-3.9969299e+02  1.4192807e+02  3.6671585e+01 -3.1393843e+00\n",
      " -1.2362525e+01  1.1950687e+01  4.5774460e+00  2.0163059e+01\n",
      " -8.7723427e+00 -3.5556359e+00  2.2943330e+00  1.0002098e+01\n",
      " -1.3625075e+00  1.1708170e+01  2.3307431e-01  6.4198050e+00\n",
      " -5.7334733e+00  2.2980258e+00 -9.8207464e+00 -5.0982037e+00\n",
      " -5.5712056e+00  4.0016718e+00 -3.4604087e+00  3.1788473e+00\n",
      "  4.2723479e+00  7.4597126e-01  4.7398405e+00  3.6501827e+00\n",
      " -3.4806538e+00 -2.6430140e+00 -4.3309932e+00 -6.9920073e+00\n",
      " -1.1306747e+00  4.5659781e+00 -2.0691345e+00  2.7307234e+00\n",
      "  7.1136534e-01 -2.6324866e+00 -2.7680099e+00 -3.2751236e+00]\n",
      "[[-3.9969299e+02  1.4192807e+02  3.6671585e+01 -3.1393843e+00\n",
      "  -1.2362525e+01  1.1950687e+01  4.5774460e+00  2.0163059e+01\n",
      "  -8.7723427e+00 -3.5556359e+00  2.2943330e+00  1.0002098e+01\n",
      "  -1.3625075e+00  1.1708170e+01  2.3307431e-01  6.4198050e+00\n",
      "  -5.7334733e+00  2.2980258e+00 -9.8207464e+00 -5.0982037e+00\n",
      "  -5.5712056e+00  4.0016718e+00 -3.4604087e+00  3.1788473e+00\n",
      "   4.2723479e+00  7.4597126e-01  4.7398405e+00  3.6501827e+00\n",
      "  -3.4806538e+00 -2.6430140e+00 -4.3309932e+00 -6.9920073e+00\n",
      "  -1.1306747e+00  4.5659781e+00 -2.0691345e+00  2.7307234e+00\n",
      "   7.1136534e-01 -2.6324866e+00 -2.7680099e+00 -3.2751236e+00]]\n",
      "(1, 40)\n",
      "1/1 [==============================] - 0s 26ms/step\n",
      "['dog_bark']\n"
     ]
    }
   ],
   "source": [
    "import librosa\n",
    "import numpy as np\n",
    "\n",
    "# Assuming you have already loaded and compiled your model\n",
    "# model = load_model('path_to_your_model.h5')\n",
    "\n",
    "filename = r\"UrbanSound8K\\audio\\fold8\\4918-3-0-0.wav\"\n",
    "audio, sample_rate = librosa.load(filename, res_type='soxr_hq')\n",
    "mfccs_features = librosa.feature.mfcc(y=audio, sr=sample_rate, n_mfcc=40)\n",
    "mfccs_scaled_features = np.mean(mfccs_features.T, axis=0)\n",
    "\n",
    "print(mfccs_scaled_features)\n",
    "mfccs_scaled_features = mfccs_scaled_features.reshape(1, -1)\n",
    "print(mfccs_scaled_features)\n",
    "print(mfccs_scaled_features.shape)\n",
    "\n",
    "# Assuming `model` is already loaded and compiled\n",
    "\n",
    "# model.prediction_classes is removed use .predict \n",
    "predicted_label = model.predict(mfccs_scaled_features)\n",
    "# Assuming `labelencoder` is already defined\n",
    "prediction_class = labelencoder.inverse_transform(np.argmax(predicted_label, axis=1))\n",
    "print(prediction_class)\n"
   ]
  },
  {
   "cell_type": "code",
   "execution_count": 45,
   "id": "b1de2c2e",
   "metadata": {},
   "outputs": [
    {
     "name": "stdout",
     "output_type": "stream",
     "text": [
      "Defaulting to user installation because normal site-packages is not writeable\n",
      "Requirement already satisfied: gtts in c:\\users\\91773\\appdata\\roaming\\python\\python37\\site-packages (2.3.2)\n",
      "Requirement already satisfied: requests<3,>=2.27 in c:\\users\\91773\\appdata\\roaming\\python\\python37\\site-packages (from gtts) (2.28.0)\n",
      "Requirement already satisfied: click<8.2,>=7.1 in c:\\users\\91773\\appdata\\roaming\\python\\python37\\site-packages (from gtts) (8.1.3)\n",
      "Requirement already satisfied: colorama in c:\\users\\91773\\appdata\\roaming\\python\\python37\\site-packages (from click<8.2,>=7.1->gtts) (0.4.6)\n",
      "Requirement already satisfied: importlib-metadata in c:\\users\\91773\\appdata\\roaming\\python\\python37\\site-packages (from click<8.2,>=7.1->gtts) (6.0.0)\n",
      "Requirement already satisfied: charset-normalizer~=2.0.0 in c:\\users\\91773\\appdata\\roaming\\python\\python37\\site-packages (from requests<3,>=2.27->gtts) (2.0.12)\n",
      "Requirement already satisfied: idna<4,>=2.5 in c:\\users\\91773\\appdata\\roaming\\python\\python37\\site-packages (from requests<3,>=2.27->gtts) (3.4)\n",
      "Requirement already satisfied: urllib3<1.27,>=1.21.1 in c:\\users\\91773\\appdata\\roaming\\python\\python37\\site-packages (from requests<3,>=2.27->gtts) (1.26.15)\n",
      "Requirement already satisfied: certifi>=2017.4.17 in c:\\users\\91773\\appdata\\roaming\\python\\python37\\site-packages (from requests<3,>=2.27->gtts) (2022.12.7)\n",
      "Requirement already satisfied: zipp>=0.5 in c:\\users\\91773\\appdata\\roaming\\python\\python37\\site-packages (from importlib-metadata->click<8.2,>=7.1->gtts) (3.15.0)\n",
      "Requirement already satisfied: typing-extensions>=3.6.4 in c:\\users\\91773\\appdata\\roaming\\python\\python37\\site-packages (from importlib-metadata->click<8.2,>=7.1->gtts) (4.7.1)\n"
     ]
    },
    {
     "name": "stderr",
     "output_type": "stream",
     "text": [
      "WARNING: Ignoring invalid distribution -illow (c:\\users\\91773\\appdata\\roaming\\python\\python37\\site-packages)\n",
      "WARNING: Ignoring invalid distribution -illow (c:\\users\\91773\\appdata\\roaming\\python\\python37\\site-packages)\n",
      "WARNING: Ignoring invalid distribution -illow (c:\\users\\91773\\appdata\\roaming\\python\\python37\\site-packages)\n",
      "WARNING: Ignoring invalid distribution -illow (c:\\users\\91773\\appdata\\roaming\\python\\python37\\site-packages)\n"
     ]
    }
   ],
   "source": [
    "! pip install gtts"
   ]
  },
  {
   "cell_type": "code",
   "execution_count": 48,
   "id": "03865867",
   "metadata": {},
   "outputs": [
    {
     "name": "stdout",
     "output_type": "stream",
     "text": [
      "[-3.6247092e+02  1.3049196e+02 -1.9619326e+01  2.3387217e+01\n",
      " -1.0501050e+01 -1.3503122e+01 -1.0862971e+01 -6.7823467e+00\n",
      " -2.6007595e+01 -5.0588441e+00 -2.4421206e+01 -7.3502345e+00\n",
      " -4.5770087e+00 -9.0281048e+00  2.3806322e+00 -1.5240011e+01\n",
      " -1.8317255e+00 -5.1440253e+00 -6.9986424e+00 -6.2955947e+00\n",
      " -1.9922019e+00 -6.6716547e+00 -3.4453194e+00 -8.2462257e-01\n",
      " -3.0159409e+00  3.5300758e-01 -7.5880492e-01  2.8096324e-01\n",
      " -1.4296468e+00  2.0644855e+00  2.1514103e+00  1.0926043e+00\n",
      " -1.4075866e-01 -3.3047080e-01 -2.5518270e+00 -5.1808846e-01\n",
      " -9.6295333e-01 -7.1237320e-01 -2.2250617e-01 -1.1786476e+00]\n",
      "[[-3.6247092e+02  1.3049196e+02 -1.9619326e+01  2.3387217e+01\n",
      "  -1.0501050e+01 -1.3503122e+01 -1.0862971e+01 -6.7823467e+00\n",
      "  -2.6007595e+01 -5.0588441e+00 -2.4421206e+01 -7.3502345e+00\n",
      "  -4.5770087e+00 -9.0281048e+00  2.3806322e+00 -1.5240011e+01\n",
      "  -1.8317255e+00 -5.1440253e+00 -6.9986424e+00 -6.2955947e+00\n",
      "  -1.9922019e+00 -6.6716547e+00 -3.4453194e+00 -8.2462257e-01\n",
      "  -3.0159409e+00  3.5300758e-01 -7.5880492e-01  2.8096324e-01\n",
      "  -1.4296468e+00  2.0644855e+00  2.1514103e+00  1.0926043e+00\n",
      "  -1.4075866e-01 -3.3047080e-01 -2.5518270e+00 -5.1808846e-01\n",
      "  -9.6295333e-01 -7.1237320e-01 -2.2250617e-01 -1.1786476e+00]]\n",
      "(1, 40)\n",
      "1/1 [==============================] - 0s 22ms/step\n"
     ]
    },
    {
     "data": {
      "text/plain": [
       "0"
      ]
     },
     "execution_count": 48,
     "metadata": {},
     "output_type": "execute_result"
    }
   ],
   "source": [
    "import librosa\n",
    "import numpy as np\n",
    "from gtts import gTTS\n",
    "import os\n",
    "\n",
    "# Load and process audio\n",
    "filename = r\"UrbanSound8K\\audio\\fold11\\99820-1-6-0.wav\"\n",
    "audio, sample_rate = librosa.load(filename, res_type='soxr_hq')\n",
    "mfccs_features = librosa.feature.mfcc(y=audio, sr=sample_rate, n_mfcc=40)\n",
    "mfccs_scaled_features = np.mean(mfccs_features.T, axis=0)\n",
    "\n",
    "# Print and reshape features\n",
    "print(mfccs_scaled_features)\n",
    "mfccs_scaled_features = mfccs_scaled_features.reshape(1, -1)\n",
    "print(mfccs_scaled_features)\n",
    "print(mfccs_scaled_features.shape)\n",
    "\n",
    "# Assuming `model` is already loaded and compiled\n",
    "\n",
    "# Make a prediction\n",
    "predicted_label = model.predict(mfccs_scaled_features)\n",
    "\n",
    "# Assuming `labelencoder` is already defined\n",
    "prediction_class = labelencoder.inverse_transform(np.argmax(predicted_label, axis=1))[0]\n",
    "\n",
    "# Convert prediction to speech\n",
    "tts = gTTS(text=f\"The predicted class is {prediction_class}\", lang='en')\n",
    "tts.save(\"prediction.mp3\")\n",
    "\n",
    "# Play the audio\n",
    "os.system(\"start prediction.mp3\")\n"
   ]
  },
  {
   "cell_type": "code",
   "execution_count": 53,
   "id": "a603a328",
   "metadata": {},
   "outputs": [
    {
     "name": "stdout",
     "output_type": "stream",
     "text": [
      "Defaulting to user installation because normal site-packages is not writeable\n",
      "Collecting sounddevice\n",
      "  Downloading sounddevice-0.4.6-py3-none-win_amd64.whl (199 kB)\n",
      "     ------------------------------------- 199.7/199.7 kB 12.6 MB/s eta 0:00:00\n",
      "Requirement already satisfied: CFFI>=1.0 in c:\\users\\91773\\appdata\\roaming\\python\\python37\\site-packages (from sounddevice) (1.15.1)\n",
      "Requirement already satisfied: pycparser in c:\\users\\91773\\appdata\\roaming\\python\\python37\\site-packages (from CFFI>=1.0->sounddevice) (2.21)\n",
      "Installing collected packages: sounddevice\n",
      "Successfully installed sounddevice-0.4.6\n"
     ]
    }
   ],
   "source": [
    "! pip install sounddevice"
   ]
  },
  {
   "cell_type": "code",
   "execution_count": 40,
   "id": "50bc47fd",
   "metadata": {},
   "outputs": [
    {
     "name": "stdout",
     "output_type": "stream",
     "text": [
      "Audio recorded.\n"
     ]
    },
    {
     "ename": "ParameterError",
     "evalue": "Audio data must be floating-point",
     "output_type": "error",
     "traceback": [
      "\u001b[1;31m---------------------------------------------------------------------------\u001b[0m",
      "\u001b[1;31mParameterError\u001b[0m                            Traceback (most recent call last)",
      "\u001b[1;32m~\\AppData\\Local\\Temp\\ipykernel_3028\\2155699964.py\u001b[0m in \u001b[0;36m<module>\u001b[1;34m\u001b[0m\n\u001b[0;32m     24\u001b[0m \u001b[1;33m\u001b[0m\u001b[0m\n\u001b[0;32m     25\u001b[0m \u001b[1;31m# Extract MFCC features\u001b[0m\u001b[1;33m\u001b[0m\u001b[1;33m\u001b[0m\u001b[1;33m\u001b[0m\u001b[0m\n\u001b[1;32m---> 26\u001b[1;33m \u001b[0mmfcc_features\u001b[0m \u001b[1;33m=\u001b[0m \u001b[0mlibrosa\u001b[0m\u001b[1;33m.\u001b[0m\u001b[0mfeature\u001b[0m\u001b[1;33m.\u001b[0m\u001b[0mmfcc\u001b[0m\u001b[1;33m(\u001b[0m\u001b[0my\u001b[0m\u001b[1;33m=\u001b[0m\u001b[0maudio_data\u001b[0m\u001b[1;33m,\u001b[0m \u001b[0msr\u001b[0m\u001b[1;33m=\u001b[0m\u001b[0msr\u001b[0m\u001b[1;33m,\u001b[0m \u001b[0mn_mfcc\u001b[0m\u001b[1;33m=\u001b[0m\u001b[1;36m40\u001b[0m\u001b[1;33m)\u001b[0m\u001b[1;33m\u001b[0m\u001b[1;33m\u001b[0m\u001b[0m\n\u001b[0m\u001b[0;32m     27\u001b[0m \u001b[0mmfccs_scaled_features\u001b[0m \u001b[1;33m=\u001b[0m \u001b[0mnp\u001b[0m\u001b[1;33m.\u001b[0m\u001b[0mmean\u001b[0m\u001b[1;33m(\u001b[0m\u001b[0mmfcc_features\u001b[0m\u001b[1;33m.\u001b[0m\u001b[0mT\u001b[0m\u001b[1;33m,\u001b[0m \u001b[0maxis\u001b[0m\u001b[1;33m=\u001b[0m\u001b[1;36m0\u001b[0m\u001b[1;33m)\u001b[0m\u001b[1;33m\u001b[0m\u001b[1;33m\u001b[0m\u001b[0m\n\u001b[0;32m     28\u001b[0m \u001b[0mmfccs_scaled_features\u001b[0m \u001b[1;33m=\u001b[0m \u001b[0mmfccs_scaled_features\u001b[0m\u001b[1;33m.\u001b[0m\u001b[0mreshape\u001b[0m\u001b[1;33m(\u001b[0m\u001b[1;36m1\u001b[0m\u001b[1;33m,\u001b[0m \u001b[1;33m-\u001b[0m\u001b[1;36m1\u001b[0m\u001b[1;33m)\u001b[0m\u001b[1;33m\u001b[0m\u001b[1;33m\u001b[0m\u001b[0m\n",
      "\u001b[1;32m~\\AppData\\Roaming\\Python\\Python37\\site-packages\\librosa\\feature\\spectral.py\u001b[0m in \u001b[0;36mmfcc\u001b[1;34m(y, sr, S, n_mfcc, dct_type, norm, lifter, **kwargs)\u001b[0m\n\u001b[0;32m   1987\u001b[0m     \u001b[1;32mif\u001b[0m \u001b[0mS\u001b[0m \u001b[1;32mis\u001b[0m \u001b[1;32mNone\u001b[0m\u001b[1;33m:\u001b[0m\u001b[1;33m\u001b[0m\u001b[1;33m\u001b[0m\u001b[0m\n\u001b[0;32m   1988\u001b[0m         \u001b[1;31m# multichannel behavior may be different due to relative noise floor differences between channels\u001b[0m\u001b[1;33m\u001b[0m\u001b[1;33m\u001b[0m\u001b[1;33m\u001b[0m\u001b[0m\n\u001b[1;32m-> 1989\u001b[1;33m         \u001b[0mS\u001b[0m \u001b[1;33m=\u001b[0m \u001b[0mpower_to_db\u001b[0m\u001b[1;33m(\u001b[0m\u001b[0mmelspectrogram\u001b[0m\u001b[1;33m(\u001b[0m\u001b[0my\u001b[0m\u001b[1;33m=\u001b[0m\u001b[0my\u001b[0m\u001b[1;33m,\u001b[0m \u001b[0msr\u001b[0m\u001b[1;33m=\u001b[0m\u001b[0msr\u001b[0m\u001b[1;33m,\u001b[0m \u001b[1;33m**\u001b[0m\u001b[0mkwargs\u001b[0m\u001b[1;33m)\u001b[0m\u001b[1;33m)\u001b[0m\u001b[1;33m\u001b[0m\u001b[1;33m\u001b[0m\u001b[0m\n\u001b[0m\u001b[0;32m   1990\u001b[0m \u001b[1;33m\u001b[0m\u001b[0m\n\u001b[0;32m   1991\u001b[0m     M: np.ndarray = scipy.fftpack.dct(S, axis=-2, type=dct_type, norm=norm)[\n",
      "\u001b[1;32m~\\AppData\\Roaming\\Python\\Python37\\site-packages\\librosa\\feature\\spectral.py\u001b[0m in \u001b[0;36mmelspectrogram\u001b[1;34m(y, sr, S, n_fft, hop_length, win_length, window, center, pad_mode, power, **kwargs)\u001b[0m\n\u001b[0;32m   2137\u001b[0m         \u001b[0mwindow\u001b[0m\u001b[1;33m=\u001b[0m\u001b[0mwindow\u001b[0m\u001b[1;33m,\u001b[0m\u001b[1;33m\u001b[0m\u001b[1;33m\u001b[0m\u001b[0m\n\u001b[0;32m   2138\u001b[0m         \u001b[0mcenter\u001b[0m\u001b[1;33m=\u001b[0m\u001b[0mcenter\u001b[0m\u001b[1;33m,\u001b[0m\u001b[1;33m\u001b[0m\u001b[1;33m\u001b[0m\u001b[0m\n\u001b[1;32m-> 2139\u001b[1;33m         \u001b[0mpad_mode\u001b[0m\u001b[1;33m=\u001b[0m\u001b[0mpad_mode\u001b[0m\u001b[1;33m,\u001b[0m\u001b[1;33m\u001b[0m\u001b[1;33m\u001b[0m\u001b[0m\n\u001b[0m\u001b[0;32m   2140\u001b[0m     )\n\u001b[0;32m   2141\u001b[0m \u001b[1;33m\u001b[0m\u001b[0m\n",
      "\u001b[1;32m~\\AppData\\Roaming\\Python\\Python37\\site-packages\\librosa\\core\\spectrum.py\u001b[0m in \u001b[0;36m_spectrogram\u001b[1;34m(y, S, n_fft, hop_length, power, win_length, window, center, pad_mode)\u001b[0m\n\u001b[0;32m   2827\u001b[0m                     \u001b[0mcenter\u001b[0m\u001b[1;33m=\u001b[0m\u001b[0mcenter\u001b[0m\u001b[1;33m,\u001b[0m\u001b[1;33m\u001b[0m\u001b[1;33m\u001b[0m\u001b[0m\n\u001b[0;32m   2828\u001b[0m                     \u001b[0mwindow\u001b[0m\u001b[1;33m=\u001b[0m\u001b[0mwindow\u001b[0m\u001b[1;33m,\u001b[0m\u001b[1;33m\u001b[0m\u001b[1;33m\u001b[0m\u001b[0m\n\u001b[1;32m-> 2829\u001b[1;33m                     \u001b[0mpad_mode\u001b[0m\u001b[1;33m=\u001b[0m\u001b[0mpad_mode\u001b[0m\u001b[1;33m,\u001b[0m\u001b[1;33m\u001b[0m\u001b[1;33m\u001b[0m\u001b[0m\n\u001b[0m\u001b[0;32m   2830\u001b[0m                 )\n\u001b[0;32m   2831\u001b[0m             )\n",
      "\u001b[1;32m~\\AppData\\Roaming\\Python\\Python37\\site-packages\\librosa\\core\\spectrum.py\u001b[0m in \u001b[0;36mstft\u001b[1;34m(y, n_fft, hop_length, win_length, window, center, dtype, pad_mode, out)\u001b[0m\n\u001b[0;32m    228\u001b[0m \u001b[1;33m\u001b[0m\u001b[0m\n\u001b[0;32m    229\u001b[0m     \u001b[1;31m# Check audio is valid\u001b[0m\u001b[1;33m\u001b[0m\u001b[1;33m\u001b[0m\u001b[1;33m\u001b[0m\u001b[0m\n\u001b[1;32m--> 230\u001b[1;33m     \u001b[0mutil\u001b[0m\u001b[1;33m.\u001b[0m\u001b[0mvalid_audio\u001b[0m\u001b[1;33m(\u001b[0m\u001b[0my\u001b[0m\u001b[1;33m,\u001b[0m \u001b[0mmono\u001b[0m\u001b[1;33m=\u001b[0m\u001b[1;32mFalse\u001b[0m\u001b[1;33m)\u001b[0m\u001b[1;33m\u001b[0m\u001b[1;33m\u001b[0m\u001b[0m\n\u001b[0m\u001b[0;32m    231\u001b[0m \u001b[1;33m\u001b[0m\u001b[0m\n\u001b[0;32m    232\u001b[0m     \u001b[0mfft_window\u001b[0m \u001b[1;33m=\u001b[0m \u001b[0mget_window\u001b[0m\u001b[1;33m(\u001b[0m\u001b[0mwindow\u001b[0m\u001b[1;33m,\u001b[0m \u001b[0mwin_length\u001b[0m\u001b[1;33m,\u001b[0m \u001b[0mfftbins\u001b[0m\u001b[1;33m=\u001b[0m\u001b[1;32mTrue\u001b[0m\u001b[1;33m)\u001b[0m\u001b[1;33m\u001b[0m\u001b[1;33m\u001b[0m\u001b[0m\n",
      "\u001b[1;32m~\\AppData\\Roaming\\Python\\Python37\\site-packages\\librosa\\util\\utils.py\u001b[0m in \u001b[0;36mvalid_audio\u001b[1;34m(y, mono)\u001b[0m\n\u001b[0;32m    296\u001b[0m \u001b[1;33m\u001b[0m\u001b[0m\n\u001b[0;32m    297\u001b[0m     \u001b[1;32mif\u001b[0m \u001b[1;32mnot\u001b[0m \u001b[0mnp\u001b[0m\u001b[1;33m.\u001b[0m\u001b[0missubdtype\u001b[0m\u001b[1;33m(\u001b[0m\u001b[0my\u001b[0m\u001b[1;33m.\u001b[0m\u001b[0mdtype\u001b[0m\u001b[1;33m,\u001b[0m \u001b[0mnp\u001b[0m\u001b[1;33m.\u001b[0m\u001b[0mfloating\u001b[0m\u001b[1;33m)\u001b[0m\u001b[1;33m:\u001b[0m\u001b[1;33m\u001b[0m\u001b[1;33m\u001b[0m\u001b[0m\n\u001b[1;32m--> 298\u001b[1;33m         \u001b[1;32mraise\u001b[0m \u001b[0mParameterError\u001b[0m\u001b[1;33m(\u001b[0m\u001b[1;34m\"Audio data must be floating-point\"\u001b[0m\u001b[1;33m)\u001b[0m\u001b[1;33m\u001b[0m\u001b[1;33m\u001b[0m\u001b[0m\n\u001b[0m\u001b[0;32m    299\u001b[0m \u001b[1;33m\u001b[0m\u001b[0m\n\u001b[0;32m    300\u001b[0m     \u001b[1;32mif\u001b[0m \u001b[0my\u001b[0m\u001b[1;33m.\u001b[0m\u001b[0mndim\u001b[0m \u001b[1;33m==\u001b[0m \u001b[1;36m0\u001b[0m\u001b[1;33m:\u001b[0m\u001b[1;33m\u001b[0m\u001b[1;33m\u001b[0m\u001b[0m\n",
      "\u001b[1;31mParameterError\u001b[0m: Audio data must be floating-point"
     ]
    }
   ],
   "source": [
    "import numpy as np\n",
    "import sounddevice as sd\n",
    "from gtts import gTTS\n",
    "import os\n",
    "from tensorflow.keras.models import load_model\n",
    "import librosa\n",
    "\n",
    "# Load your pre-trained model\n",
    "model = load_model(r'saved_models\\audio_classification.hdf5')  # Replace with the actual path\n",
    "\n",
    "# Function to record audio\n",
    "def record_audio(duration):\n",
    "    audio = sd.rec(int(sr * duration), samplerate=sr, channels=1, dtype='int16')\n",
    "    sd.wait()\n",
    "    return audio.flatten()\n",
    "\n",
    "# Define the sample rate (sr) for audio processing\n",
    "sr = 44100  # You may need to adjust this based on your specific use case\n",
    "\n",
    "# Record audio button\n",
    "duration = 5  # Adjust the recording duration as needed\n",
    "audio_data = record_audio(duration)\n",
    "print(\"Audio recorded.\")\n",
    "\n",
    "# Extract MFCC features\n",
    "mfcc_features = librosa.feature.mfcc(y=audio_data, sr=sr, n_mfcc=40)\n",
    "mfccs_scaled_features = np.mean(mfcc_features.T, axis=0)\n",
    "mfccs_scaled_features = mfccs_scaled_features.reshape(1, -1)\n",
    "\n",
    "# Make a prediction using your model\n",
    "predicted_label = model.predict(mfccs_scaled_features)\n",
    "\n",
    "# Assuming `labelencoder` is already defined\n",
    "prediction_class = labelencoder.inverse_transform(np.argmax(predicted_label, axis=1))[0]\n",
    "\n",
    "# Convert prediction to speech\n",
    "tts = gTTS(text=f\"The predicted class is {prediction_class}\", lang='en')\n",
    "tts.save(\"prediction.mp3\")\n",
    "\n",
    "# Play the audio\n",
    "os.system(\"start prediction.mp3\")\n"
   ]
  },
  {
   "cell_type": "code",
   "execution_count": 61,
   "id": "ee6a6fe2",
   "metadata": {},
   "outputs": [
    {
     "name": "stdout",
     "output_type": "stream",
     "text": [
      "Defaulting to user installation because normal site-packages is not writeable\n",
      "Collecting plyer\n",
      "  Downloading plyer-2.1.0-py2.py3-none-any.whl (142 kB)\n",
      "     -------------------------------------- 142.3/142.3 kB 4.3 MB/s eta 0:00:00\n",
      "Installing collected packages: plyer\n",
      "Successfully installed plyer-2.1.0\n"
     ]
    }
   ],
   "source": [
    "! pip install plyer"
   ]
  },
  {
   "cell_type": "code",
   "execution_count": 63,
   "id": "d7fb17dd",
   "metadata": {},
   "outputs": [],
   "source": [
    "from plyer import vibrator\n",
    "def Vibrate():\n",
    "    vibrator.vibrate()"
   ]
  },
  {
   "cell_type": "code",
   "execution_count": 68,
   "id": "4cfa32f3",
   "metadata": {},
   "outputs": [
    {
     "name": "stdout",
     "output_type": "stream",
     "text": [
      "Defaulting to user installation because normal site-packages is not writeable\n",
      "Collecting pyautogui\n",
      "  Using cached PyAutoGUI-0.9.54-py3-none-any.whl\n",
      "Requirement already satisfied: pymsgbox in c:\\users\\91773\\appdata\\roaming\\python\\python37\\site-packages (from pyautogui) (1.0.9)\n",
      "Requirement already satisfied: pytweening>=1.0.4 in c:\\users\\91773\\appdata\\roaming\\python\\python37\\site-packages (from pyautogui) (1.0.7)\n",
      "Collecting pyscreeze>=0.1.21 (from pyautogui)\n",
      "  Using cached PyScreeze-0.1.29-py3-none-any.whl\n",
      "Requirement already satisfied: pygetwindow>=0.0.5 in c:\\users\\91773\\appdata\\roaming\\python\\python37\\site-packages (from pyautogui) (0.0.9)\n",
      "Collecting mouseinfo (from pyautogui)\n",
      "  Using cached MouseInfo-0.1.3-py3-none-any.whl\n",
      "Requirement already satisfied: pyrect in c:\\users\\91773\\appdata\\roaming\\python\\python37\\site-packages (from pygetwindow>=0.0.5->pyautogui) (0.2.0)\n",
      "Collecting pyscreenshot (from pyscreeze>=0.1.21->pyautogui)\n",
      "  Using cached pyscreenshot-3.1-py3-none-any.whl (28 kB)\n",
      "Requirement already satisfied: Pillow>=9.2.0 in c:\\users\\91773\\appdata\\roaming\\python\\python37\\site-packages (from pyscreeze>=0.1.21->pyautogui) (9.5.0)\n",
      "Requirement already satisfied: pyperclip in c:\\users\\91773\\appdata\\roaming\\python\\python37\\site-packages (from mouseinfo->pyautogui) (1.8.2)\n",
      "Requirement already satisfied: EasyProcess in c:\\users\\91773\\appdata\\roaming\\python\\python37\\site-packages (from pyscreenshot->pyscreeze>=0.1.21->pyautogui) (1.1)\n",
      "Requirement already satisfied: entrypoint2 in c:\\users\\91773\\appdata\\roaming\\python\\python37\\site-packages (from pyscreenshot->pyscreeze>=0.1.21->pyautogui) (1.1)\n",
      "Collecting mss (from pyscreenshot->pyscreeze>=0.1.21->pyautogui)\n",
      "  Using cached mss-7.0.1-py3-none-any.whl (76 kB)\n",
      "Installing collected packages: mss, mouseinfo, pyscreenshot, pyscreeze, pyautogui\n",
      "Successfully installed mouseinfo-0.1.3 mss-7.0.1 pyautogui-0.9.54 pyscreenshot-3.1 pyscreeze-0.1.29\n"
     ]
    },
    {
     "name": "stderr",
     "output_type": "stream",
     "text": [
      "WARNING: Ignoring invalid distribution -illow (c:\\users\\91773\\appdata\\roaming\\python\\python37\\site-packages)\n",
      "WARNING: Ignoring invalid distribution -illow (c:\\users\\91773\\appdata\\roaming\\python\\python37\\site-packages)\n",
      "WARNING: Ignoring invalid distribution -illow (c:\\users\\91773\\appdata\\roaming\\python\\python37\\site-packages)\n",
      "WARNING: Ignoring invalid distribution -illow (c:\\users\\91773\\appdata\\roaming\\python\\python37\\site-packages)\n"
     ]
    }
   ],
   "source": [
    "! pip install pyautogui\n"
   ]
  },
  {
   "cell_type": "code",
   "execution_count": 72,
   "id": "0cd35be1",
   "metadata": {},
   "outputs": [
    {
     "ename": "AttributeError",
     "evalue": "module 'PIL.Image' has no attribute 'Resampling'",
     "output_type": "error",
     "traceback": [
      "\u001b[1;31m---------------------------------------------------------------------------\u001b[0m",
      "\u001b[1;31mAttributeError\u001b[0m                            Traceback (most recent call last)",
      "\u001b[1;32m~\\AppData\\Local\\Temp\\ipykernel_10220\\3842708949.py\u001b[0m in \u001b[0;36m<module>\u001b[1;34m\u001b[0m\n\u001b[1;32m----> 1\u001b[1;33m \u001b[1;32mimport\u001b[0m \u001b[0mpyautogui\u001b[0m\u001b[1;33m\u001b[0m\u001b[1;33m\u001b[0m\u001b[0m\n\u001b[0m\u001b[0;32m      2\u001b[0m \u001b[1;32mimport\u001b[0m \u001b[0mtime\u001b[0m\u001b[1;33m\u001b[0m\u001b[1;33m\u001b[0m\u001b[0m\n\u001b[0;32m      3\u001b[0m \u001b[1;33m\u001b[0m\u001b[0m\n\u001b[0;32m      4\u001b[0m \u001b[1;32mdef\u001b[0m \u001b[0mvibrate_laptop\u001b[0m\u001b[1;33m(\u001b[0m\u001b[0mduration\u001b[0m\u001b[1;33m=\u001b[0m\u001b[1;36m1\u001b[0m\u001b[1;33m,\u001b[0m \u001b[0mkey\u001b[0m\u001b[1;33m=\u001b[0m\u001b[1;34m'space'\u001b[0m\u001b[1;33m,\u001b[0m \u001b[0minterval\u001b[0m\u001b[1;33m=\u001b[0m\u001b[1;36m0.5\u001b[0m\u001b[1;33m)\u001b[0m\u001b[1;33m:\u001b[0m\u001b[1;33m\u001b[0m\u001b[1;33m\u001b[0m\u001b[0m\n\u001b[0;32m      5\u001b[0m     \"\"\"\n",
      "\u001b[1;32m~\\AppData\\Roaming\\Python\\Python37\\site-packages\\pyautogui\\__init__.py\u001b[0m in \u001b[0;36m<module>\u001b[1;34m\u001b[0m\n\u001b[0;32m    178\u001b[0m \u001b[1;33m\u001b[0m\u001b[0m\n\u001b[0;32m    179\u001b[0m \u001b[1;32mtry\u001b[0m\u001b[1;33m:\u001b[0m\u001b[1;33m\u001b[0m\u001b[1;33m\u001b[0m\u001b[0m\n\u001b[1;32m--> 180\u001b[1;33m     \u001b[1;32mimport\u001b[0m \u001b[0mpyscreeze\u001b[0m\u001b[1;33m\u001b[0m\u001b[1;33m\u001b[0m\u001b[0m\n\u001b[0m\u001b[0;32m    181\u001b[0m     \u001b[1;32mfrom\u001b[0m \u001b[0mpyscreeze\u001b[0m \u001b[1;32mimport\u001b[0m \u001b[0mcenter\u001b[0m\u001b[1;33m,\u001b[0m \u001b[0mpixel\u001b[0m\u001b[1;33m,\u001b[0m \u001b[0mpixelMatchesColor\u001b[0m\u001b[1;33m,\u001b[0m \u001b[0mscreenshot\u001b[0m\u001b[1;33m\u001b[0m\u001b[1;33m\u001b[0m\u001b[0m\n\u001b[0;32m    182\u001b[0m \u001b[1;33m\u001b[0m\u001b[0m\n",
      "\u001b[1;32m~\\AppData\\Roaming\\Python\\Python37\\site-packages\\pyscreeze\\__init__.py\u001b[0m in \u001b[0;36m<module>\u001b[1;34m\u001b[0m\n\u001b[0;32m     16\u001b[0m \u001b[1;33m\u001b[0m\u001b[0m\n\u001b[0;32m     17\u001b[0m \u001b[1;32mfrom\u001b[0m \u001b[0mPIL\u001b[0m \u001b[1;32mimport\u001b[0m \u001b[0mImage\u001b[0m\u001b[1;33m\u001b[0m\u001b[1;33m\u001b[0m\u001b[0m\n\u001b[1;32m---> 18\u001b[1;33m \u001b[1;32mfrom\u001b[0m \u001b[0mPIL\u001b[0m \u001b[1;32mimport\u001b[0m \u001b[0mImageOps\u001b[0m\u001b[1;33m\u001b[0m\u001b[1;33m\u001b[0m\u001b[0m\n\u001b[0m\u001b[0;32m     19\u001b[0m \u001b[1;32mfrom\u001b[0m \u001b[0mPIL\u001b[0m \u001b[1;32mimport\u001b[0m \u001b[0mImageDraw\u001b[0m\u001b[1;33m\u001b[0m\u001b[1;33m\u001b[0m\u001b[0m\n\u001b[0;32m     20\u001b[0m \u001b[1;32mfrom\u001b[0m \u001b[0mPIL\u001b[0m \u001b[1;32mimport\u001b[0m \u001b[0m__version__\u001b[0m \u001b[1;32mas\u001b[0m \u001b[0mPIL__version__\u001b[0m\u001b[1;33m\u001b[0m\u001b[1;33m\u001b[0m\u001b[0m\n",
      "\u001b[1;32m~\\AppData\\Roaming\\Python\\Python37\\site-packages\\PIL\\ImageOps.py\u001b[0m in \u001b[0;36m<module>\u001b[1;34m\u001b[0m\n\u001b[0;32m    238\u001b[0m \u001b[1;33m\u001b[0m\u001b[0m\n\u001b[0;32m    239\u001b[0m \u001b[1;33m\u001b[0m\u001b[0m\n\u001b[1;32m--> 240\u001b[1;33m \u001b[1;32mdef\u001b[0m \u001b[0mcontain\u001b[0m\u001b[1;33m(\u001b[0m\u001b[0mimage\u001b[0m\u001b[1;33m,\u001b[0m \u001b[0msize\u001b[0m\u001b[1;33m,\u001b[0m \u001b[0mmethod\u001b[0m\u001b[1;33m=\u001b[0m\u001b[0mImage\u001b[0m\u001b[1;33m.\u001b[0m\u001b[0mResampling\u001b[0m\u001b[1;33m.\u001b[0m\u001b[0mBICUBIC\u001b[0m\u001b[1;33m)\u001b[0m\u001b[1;33m:\u001b[0m\u001b[1;33m\u001b[0m\u001b[1;33m\u001b[0m\u001b[0m\n\u001b[0m\u001b[0;32m    241\u001b[0m     \"\"\"\n\u001b[0;32m    242\u001b[0m     \u001b[0mReturns\u001b[0m \u001b[0ma\u001b[0m \u001b[0mresized\u001b[0m \u001b[0mversion\u001b[0m \u001b[0mof\u001b[0m \u001b[0mthe\u001b[0m \u001b[0mimage\u001b[0m\u001b[1;33m,\u001b[0m \u001b[0mset\u001b[0m \u001b[0mto\u001b[0m \u001b[0mthe\u001b[0m \u001b[0mmaximum\u001b[0m \u001b[0mwidth\u001b[0m \u001b[1;32mand\u001b[0m \u001b[0mheight\u001b[0m\u001b[1;33m\u001b[0m\u001b[1;33m\u001b[0m\u001b[0m\n",
      "\u001b[1;31mAttributeError\u001b[0m: module 'PIL.Image' has no attribute 'Resampling'"
     ]
    }
   ],
   "source": [
    "import pyautogui\n",
    "import time\n",
    "\n",
    "def vibrate_laptop(duration=1, key='space', interval=0.5):\n",
    "    \"\"\"\n",
    "    Simulate a vibration effect on the laptop by repeatedly pressing a key.\n",
    "\n",
    "    Parameters:\n",
    "        duration (float): Total duration of the vibration effect in seconds.\n",
    "        key (str): The key to simulate pressing (e.g., 'space', 'enter').\n",
    "        interval (float): The time interval between key presses in seconds.\n",
    "    \"\"\"\n",
    "    end_time = time.time() + duration\n",
    "\n",
    "    while time.time() < end_time:\n",
    "        pyautogui.press(key)\n",
    "        time.sleep(interval)\n",
    "        "
   ]
  },
  {
   "cell_type": "code",
   "execution_count": 1,
   "id": "586076cb",
   "metadata": {},
   "outputs": [
    {
     "ename": "AttributeError",
     "evalue": "Could not find PyAudio; check installation",
     "output_type": "error",
     "traceback": [
      "\u001b[1;31m---------------------------------------------------------------------------\u001b[0m",
      "\u001b[1;31mModuleNotFoundError\u001b[0m                       Traceback (most recent call last)",
      "\u001b[1;32m~\\AppData\\Roaming\\Python\\Python37\\site-packages\\speech_recognition\\__init__.py\u001b[0m in \u001b[0;36mget_pyaudio\u001b[1;34m()\u001b[0m\n\u001b[0;32m    119\u001b[0m         \u001b[1;32mtry\u001b[0m\u001b[1;33m:\u001b[0m\u001b[1;33m\u001b[0m\u001b[1;33m\u001b[0m\u001b[0m\n\u001b[1;32m--> 120\u001b[1;33m             \u001b[1;32mimport\u001b[0m \u001b[0mpyaudio\u001b[0m\u001b[1;33m\u001b[0m\u001b[1;33m\u001b[0m\u001b[0m\n\u001b[0m\u001b[0;32m    121\u001b[0m         \u001b[1;32mexcept\u001b[0m \u001b[0mImportError\u001b[0m\u001b[1;33m:\u001b[0m\u001b[1;33m\u001b[0m\u001b[1;33m\u001b[0m\u001b[0m\n",
      "\u001b[1;31mModuleNotFoundError\u001b[0m: No module named 'pyaudio'",
      "\nDuring handling of the above exception, another exception occurred:\n",
      "\u001b[1;31mAttributeError\u001b[0m                            Traceback (most recent call last)",
      "\u001b[1;32m~\\AppData\\Local\\Temp\\ipykernel_156\\3690208350.py\u001b[0m in \u001b[0;36m<module>\u001b[1;34m\u001b[0m\n\u001b[0;32m      4\u001b[0m \u001b[0mlisterner\u001b[0m \u001b[1;33m=\u001b[0m \u001b[0msr\u001b[0m\u001b[1;33m.\u001b[0m\u001b[0mRecognizer\u001b[0m\u001b[1;33m(\u001b[0m\u001b[1;33m)\u001b[0m\u001b[1;33m\u001b[0m\u001b[1;33m\u001b[0m\u001b[0m\n\u001b[0;32m      5\u001b[0m \u001b[1;33m\u001b[0m\u001b[0m\n\u001b[1;32m----> 6\u001b[1;33m \u001b[1;32mwith\u001b[0m \u001b[0msr\u001b[0m\u001b[1;33m.\u001b[0m\u001b[0mMicrophone\u001b[0m\u001b[1;33m(\u001b[0m\u001b[1;33m)\u001b[0m \u001b[1;32mas\u001b[0m \u001b[0msource\u001b[0m\u001b[1;33m:\u001b[0m\u001b[1;33m\u001b[0m\u001b[1;33m\u001b[0m\u001b[0m\n\u001b[0m\u001b[0;32m      7\u001b[0m         \u001b[0mprint\u001b[0m\u001b[1;33m(\u001b[0m\u001b[1;34m\"start speaking\"\u001b[0m\u001b[1;33m)\u001b[0m\u001b[1;33m\u001b[0m\u001b[1;33m\u001b[0m\u001b[0m\n\u001b[0;32m      8\u001b[0m         \u001b[0mvoice\u001b[0m \u001b[1;33m=\u001b[0m \u001b[0mlisterner\u001b[0m\u001b[1;33m.\u001b[0m\u001b[0mlisten\u001b[0m\u001b[1;33m(\u001b[0m\u001b[0msource\u001b[0m\u001b[1;33m)\u001b[0m\u001b[1;33m\u001b[0m\u001b[1;33m\u001b[0m\u001b[0m\n",
      "\u001b[1;32m~\\AppData\\Roaming\\Python\\Python37\\site-packages\\speech_recognition\\__init__.py\u001b[0m in \u001b[0;36m__init__\u001b[1;34m(self, device_index, sample_rate, chunk_size)\u001b[0m\n\u001b[0;32m     90\u001b[0m \u001b[1;33m\u001b[0m\u001b[0m\n\u001b[0;32m     91\u001b[0m         \u001b[1;31m# set up PyAudio\u001b[0m\u001b[1;33m\u001b[0m\u001b[1;33m\u001b[0m\u001b[1;33m\u001b[0m\u001b[0m\n\u001b[1;32m---> 92\u001b[1;33m         \u001b[0mself\u001b[0m\u001b[1;33m.\u001b[0m\u001b[0mpyaudio_module\u001b[0m \u001b[1;33m=\u001b[0m \u001b[0mself\u001b[0m\u001b[1;33m.\u001b[0m\u001b[0mget_pyaudio\u001b[0m\u001b[1;33m(\u001b[0m\u001b[1;33m)\u001b[0m\u001b[1;33m\u001b[0m\u001b[1;33m\u001b[0m\u001b[0m\n\u001b[0m\u001b[0;32m     93\u001b[0m         \u001b[0maudio\u001b[0m \u001b[1;33m=\u001b[0m \u001b[0mself\u001b[0m\u001b[1;33m.\u001b[0m\u001b[0mpyaudio_module\u001b[0m\u001b[1;33m.\u001b[0m\u001b[0mPyAudio\u001b[0m\u001b[1;33m(\u001b[0m\u001b[1;33m)\u001b[0m\u001b[1;33m\u001b[0m\u001b[1;33m\u001b[0m\u001b[0m\n\u001b[0;32m     94\u001b[0m         \u001b[1;32mtry\u001b[0m\u001b[1;33m:\u001b[0m\u001b[1;33m\u001b[0m\u001b[1;33m\u001b[0m\u001b[0m\n",
      "\u001b[1;32m~\\AppData\\Roaming\\Python\\Python37\\site-packages\\speech_recognition\\__init__.py\u001b[0m in \u001b[0;36mget_pyaudio\u001b[1;34m()\u001b[0m\n\u001b[0;32m    120\u001b[0m             \u001b[1;32mimport\u001b[0m \u001b[0mpyaudio\u001b[0m\u001b[1;33m\u001b[0m\u001b[1;33m\u001b[0m\u001b[0m\n\u001b[0;32m    121\u001b[0m         \u001b[1;32mexcept\u001b[0m \u001b[0mImportError\u001b[0m\u001b[1;33m:\u001b[0m\u001b[1;33m\u001b[0m\u001b[1;33m\u001b[0m\u001b[0m\n\u001b[1;32m--> 122\u001b[1;33m             \u001b[1;32mraise\u001b[0m \u001b[0mAttributeError\u001b[0m\u001b[1;33m(\u001b[0m\u001b[1;34m\"Could not find PyAudio; check installation\"\u001b[0m\u001b[1;33m)\u001b[0m\u001b[1;33m\u001b[0m\u001b[1;33m\u001b[0m\u001b[0m\n\u001b[0m\u001b[0;32m    123\u001b[0m         \u001b[1;32mfrom\u001b[0m \u001b[0mdistutils\u001b[0m\u001b[1;33m.\u001b[0m\u001b[0mversion\u001b[0m \u001b[1;32mimport\u001b[0m \u001b[0mLooseVersion\u001b[0m\u001b[1;33m\u001b[0m\u001b[1;33m\u001b[0m\u001b[0m\n\u001b[0;32m    124\u001b[0m         \u001b[1;32mif\u001b[0m \u001b[0mLooseVersion\u001b[0m\u001b[1;33m(\u001b[0m\u001b[0mpyaudio\u001b[0m\u001b[1;33m.\u001b[0m\u001b[0m__version__\u001b[0m\u001b[1;33m)\u001b[0m \u001b[1;33m<\u001b[0m \u001b[0mLooseVersion\u001b[0m\u001b[1;33m(\u001b[0m\u001b[1;34m\"0.2.11\"\u001b[0m\u001b[1;33m)\u001b[0m\u001b[1;33m:\u001b[0m\u001b[1;33m\u001b[0m\u001b[1;33m\u001b[0m\u001b[0m\n",
      "\u001b[1;31mAttributeError\u001b[0m: Could not find PyAudio; check installation"
     ]
    }
   ],
   "source": [
    "import speech_recognition as sr\n",
    "import pyttsx3\n",
    "\n",
    "listerner = sr.Recognizer()\n",
    "\n",
    "with sr.Microphone() as source:\n",
    "        print(\"start speaking\")\n",
    "        voice = listerner.listen(source)\n",
    "        command = listerner.recognize_google(voice)\n",
    "        command = command.lower()\n",
    "        if 'saurav' in command:\n",
    "            print(command)\n",
    "\n"
   ]
  },
  {
   "cell_type": "markdown",
   "id": "93c411db",
   "metadata": {},
   "source": [
    "Thank you ! "
   ]
  }
 ],
 "metadata": {
  "kernelspec": {
   "display_name": "Python 3",
   "language": "python",
   "name": "python3"
  },
  "language_info": {
   "codemirror_mode": {
    "name": "ipython",
    "version": 3
   },
   "file_extension": ".py",
   "mimetype": "text/x-python",
   "name": "python",
   "nbconvert_exporter": "python",
   "pygments_lexer": "ipython3",
   "version": "3.7.9"
  }
 },
 "nbformat": 4,
 "nbformat_minor": 5
}
